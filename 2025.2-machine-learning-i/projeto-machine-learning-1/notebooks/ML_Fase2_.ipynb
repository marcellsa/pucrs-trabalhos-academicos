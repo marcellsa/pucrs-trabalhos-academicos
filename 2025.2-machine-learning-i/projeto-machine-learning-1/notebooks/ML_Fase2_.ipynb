{
  "cells": [
    {
      "cell_type": "markdown",
      "metadata": {
        "id": "TFk4fMcdRhSs"
      },
      "source": [
        "### Machine Learning I - Fase 2\n",
        "\n",
        "\n",
        "Nome: **Marcel Luís dos Santos Albuquerque**\n",
        "\n",
        "### Aplicação e validação de algoritmos de Machine Learning\n",
        "\n",
        "\n",
        "Nesta fase, o objetivo é usar os dados preparados na fase anterior para construir um classificador binário. Use o atributo invertebrae_origins (com os valores: native e non-native) como classe. Se for necessário selecionar ainda mais os atributos para que o classificador funcione melhor, comente as suas escolhas e a necessidade desse novo filtro.\n",
        "\n",
        "\n",
        "Experimente ao menos 4 dos algoritmos vistos em aula para classificação. Obrigatoriamente, dentre esses 4 você deve incluir **Árvores de Decisão** e **MultiLayer Perceptron**. Explore os hiperparâmetros dos algoritmos visando a obtenção de melhores resultados.\n"
      ]
    },
    {
      "cell_type": "markdown",
      "metadata": {
        "id": "sSvPqDOLSE4c"
      },
      "source": [
        "### 1) Tratamento da coluna alvo desbalanceada\n",
        "\n",
        "\n",
        "A coluna alvo “invertebrate_origins” está desbalanceada. Você precisa balanceá-la usando alguma técnica vista em aula."
      ]
    },
    {
      "cell_type": "code",
      "execution_count": null,
      "metadata": {
        "id": "lEU2mq6rRdaL"
      },
      "outputs": [],
      "source": [
        "# Insira seu código aqui.\n",
        "# Você pode criar células de código adicionais\n",
        "\n",
        "\n",
        "# TODO\n",
        "# 1) Balanceamento da coluna alvo"
      ]
    },
    {
      "cell_type": "markdown",
      "metadata": {
        "id": "FJdS7SypYpLh"
      },
      "source": [
        "#2) Escolha dos algoritmos e exploração dos hiper-parâmetros\n",
        "\n",
        "\n",
        "Agora, você precisa escolher 2 algoritmos de classificação, junto com Árvore de decisão e MLP, e o conjunto de hiper parâmetros que será explorado.\n"
      ]
    },
    {
      "cell_type": "code",
      "execution_count": null,
      "metadata": {
        "id": "YrkmxWwUZaLh"
      },
      "outputs": [],
      "source": [
        "# Insira seu código aqui.\n",
        "# Você pode criar células de código adicionais\n",
        "\n",
        "# TODO\n",
        "# 1) Criação dos modelos Árvore de decisão, MLP e mais dois algoritmos de sua escolha\n",
        "# 2) Definição do cojunto de hiper-parâmetros a serem explorados (use GridSearch)\n",
        "#     Link de referência: https://scikit-learn.org/dev/modules/generated/sklearn.model_selection.GridSearchCV.html\n",
        "# 3) Execução da exploração dos hiper-parâmetros e escolhe dos melhores estimadores"
      ]
    },
    {
      "cell_type": "markdown",
      "metadata": {
        "id": "oqmo-smcZ63Y"
      },
      "source": [
        "#3) Divisão dos subconjunto de dados de treino e teste, com estratificação\n",
        "\n",
        "\n",
        "\n",
        "\n",
        "Agora, você precisa dividir os dados em subconjuntos de treino e teste. Para isso, você também deve fazer a divisão com a estratificação da coluna alvo.\n",
        "\n",
        "O treinamento e teste devem ser feitos usando a técnica de validação cruzada.\n"
      ]
    },
    {
      "cell_type": "code",
      "execution_count": null,
      "metadata": {
        "id": "DgiD45Q8g9os"
      },
      "outputs": [],
      "source": [
        "# Insira seu código aqui\n",
        "# Você pode adicionar células adicionais\n",
        "\n",
        "# TODO\n",
        "# 1) Divisão do dataset em treino e teste, com estratificação\n",
        "# 2) Execução do treinamento e validação com Cross-Validation"
      ]
    },
    {
      "cell_type": "markdown",
      "metadata": {
        "id": "zHAvZiS1i-d7"
      },
      "source": [
        "# 4) Análise dos resultado\n",
        "\n",
        "Após a execução do treinamento e validação, você deve coletar as métricas de validação para problemas de classificação e compará-las entre os algoritmos.\n",
        "\n",
        "Você deve coletar e plotar as métricas:\n",
        "- Acurácia;\n",
        "- Precisão;\n",
        "- Recall;\n",
        "- F1-Score;\n",
        "- Matriz de confusão;\n",
        "\n",
        "Após a plotagem dos resultado de forma gráfica, análise os resultados e tente identificar possíveis problemas de overfitting/underfitting, bem como os melhores algoritmos.\n"
      ]
    },
    {
      "cell_type": "code",
      "execution_count": null,
      "metadata": {
        "id": "BZMdcN0MjmPM"
      },
      "outputs": [],
      "source": [
        "# Insira seu código aqui\n",
        "# Você pode adicionar células adicionais\n",
        "\n",
        "# TODO\n",
        "# 1) Coleta das métricas de validação\n",
        "# 2) Plotagem do resutaldos em gráficos\n",
        "# 3) Análise textual dos resultados"
      ]
    },
    {
      "cell_type": "markdown",
      "metadata": {
        "id": "-Y_rLhF3r5Hu"
      },
      "source": [
        "# 5) Conclusão\n",
        "\n",
        "\n",
        "Conclua seu estudo indicando o melhor algoritmo (modelo de IA) para o problema e comente os resultados alcançados. No caso de resultados ruins, comente e formule hipóteses para as possíveis causas."
      ]
    },
    {
      "cell_type": "markdown",
      "metadata": {
        "id": "8InPEwcwr_EO"
      },
      "source": [
        "### Insira sua conclusão aqui!\n",
        "##### Você pode adicionar células adicionais"
      ]
    },
    {
      "cell_type": "markdown",
      "metadata": {
        "id": "3yh9MW-9hiLc"
      },
      "source": [
        "# Check-List\n",
        "\n",
        "Com isso, você completa a fase 2 da disciplina. Para auxiliar você a verificar se o trabalho está adequado para a entrega, criamos uma lista de item que devem ser satisfeitos ao final do trabalho.\n",
        "\n",
        "- Balanceamento da coluna alvo;\n",
        "- Utilização de 4 algoritmos de classificação, incluindo Árvore de decisão e MLP;\n",
        "- Exploração dos hiper parâmetros dos algoritmos;\n",
        "- Divisão do dataset em treino e teste, com estratificação na coluna alvo;\n",
        "- Validação dos algoritmos usando cross-validation e coleta das métricas de avaliação (acurácia, precisão, recall, f1, matriz de confusão);\n",
        "- Analise da matriz de confusão e métricas.\n",
        "- Plotagem e análise textual sobre os resultados, indicando melhor modelo de IA;\n",
        "- Conclusão do trabalho realizado, comentando os resultados e as dificuldades encontradas;\n"
      ]
    }
  ],
  "metadata": {
    "colab": {
      "provenance": [],
      "toc_visible": true
    },
    "kernelspec": {
      "display_name": "Python 3",
      "name": "python3"
    },
    "language_info": {
      "name": "python"
    }
  },
  "nbformat": 4,
  "nbformat_minor": 0
}
