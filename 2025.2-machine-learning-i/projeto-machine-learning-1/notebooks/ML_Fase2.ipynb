{
  "cells": [
    {
      "cell_type": "markdown",
      "metadata": {
        "id": "TFk4fMcdRhSs"
      },
      "source": [
        "### Machine Learning I - Fase 2\n",
        "\n",
        "\n",
        "Nome: **Marcel Luís dos Santos Albuquerque**\n",
        "\n",
        "### Aplicação e validação de algoritmos de Machine Learning\n",
        "\n",
        "\n",
        "Nesta fase, o objetivo é usar os dados preparados na fase anterior para construir um classificador binário. Use o atributo invertebrae_origins (com os valores: native e non-native) como classe. Se for necessário selecionar ainda mais os atributos para que o classificador funcione melhor, comente as suas escolhas e a necessidade desse novo filtro.\n",
        "\n",
        "\n",
        "Experimente ao menos 4 dos algoritmos vistos em aula para classificação. Obrigatoriamente, dentre esses 4 você deve incluir **Árvores de Decisão** e **MultiLayer Perceptron**. Explore os hiperparâmetros dos algoritmos visando a obtenção de melhores resultados.\n"
      ]
    },
    {
      "cell_type": "markdown",
      "metadata": {
        "id": "sSvPqDOLSE4c"
      },
      "source": [
        "### 1) Tratamento da coluna alvo desbalanceada\n",
        "\n",
        "\n",
        "A coluna alvo “invertebrate_origins” está desbalanceada. Você precisa balanceá-la usando alguma técnica vista em aula."
      ]
    },
    {
      "cell_type": "code",
      "execution_count": null,
      "metadata": {
        "id": "lEU2mq6rRdaL"
      },
      "outputs": [],
      "source": [
        "# Insira seu código aqui.\n",
        "# Você pode criar células de código adicionais\n",
        "\n",
        "\n",
        "# TODO\n",
        "# 1) Balanceamento da coluna alvo"
      ]
    },
    {
      "cell_type": "markdown",
      "metadata": {},
      "source": [
        "##### Carregando o dataset tratado da Fase 1"
      ]
    },
    {
      "cell_type": "code",
      "execution_count": 3,
      "metadata": {},
      "outputs": [
        {
          "name": "stdout",
          "output_type": "stream",
          "text": [
            "   municipality  state  country  veg_landuse_type_point_level1  \\\n",
            "0             3      9        1                              9   \n",
            "1             3      9        1                              9   \n",
            "2             3      9        1                              9   \n",
            "3             3      9        1                              9   \n",
            "4             3      9        1                              9   \n",
            "\n",
            "   veg_landuse_type_point_level2  veg_landuse_type_buffer5km_level1  \\\n",
            "0                             39                                  7   \n",
            "1                             39                                  7   \n",
            "2                             39                                  7   \n",
            "3                             39                                  7   \n",
            "4                             39                                  7   \n",
            "\n",
            "   veg_landuse_type_buffer5km_level2  temperature  relative_humidity  \\\n",
            "0                                  6         25.0               65.0   \n",
            "1                                  6         25.0               65.0   \n",
            "2                                  6         25.0               65.0   \n",
            "3                                  6         25.0               65.0   \n",
            "4                                  6         25.0               65.0   \n",
            "\n",
            "   plant_order  ...  plant_flower_shape  invertebrate_order  \\\n",
            "0           16  ...                  42                   4   \n",
            "1           16  ...                  42                   4   \n",
            "2           16  ...                  42                   4   \n",
            "3           16  ...                  42                   2   \n",
            "4           16  ...                  42                   4   \n",
            "\n",
            "   invertebrate_family  invertebrate_genera  \\\n",
            "0                   10                  441   \n",
            "1                   10                  339   \n",
            "2                   56                   61   \n",
            "3                  123                  626   \n",
            "4                   10                  441   \n",
            "\n",
            "   invertebrate_species_complete_name  invertebrate_origins  \\\n",
            "0                                1861                     1   \n",
            "1                                1574                     1   \n",
            "2                                 174                     1   \n",
            "3                                2222                     1   \n",
            "4                                1861                     1   \n",
            "\n",
            "   invertebrate_behavior  invertebrate_collector_structure  \\\n",
            "0                      7                                11   \n",
            "1                      7                                11   \n",
            "2                      7                                11   \n",
            "3                      7                                11   \n",
            "4                      7                                11   \n",
            "\n",
            "   plant_collected_material  invertebrate_collected  \n",
            "0                        11                       7  \n",
            "1                        11                       7  \n",
            "2                        11                       7  \n",
            "3                        11                       7  \n",
            "4                        11                       7  \n",
            "\n",
            "[5 rows x 26 columns]\n"
          ]
        }
      ],
      "source": [
        "import pandas as pd\n",
        "\n",
        "# Carregando e lendo o arquivo CSV\n",
        "df = pd.read_csv('../data/processed/dataset_fase1_tratado.csv')\n",
        "\n",
        "# Visualizando as 5 primeiras linhas\n",
        "print(df.head())"
      ]
    },
    {
      "cell_type": "markdown",
      "metadata": {},
      "source": [
        "##### Verificando a coluna alvo invertebrate_origins"
      ]
    },
    {
      "cell_type": "code",
      "execution_count": 7,
      "metadata": {},
      "outputs": [
        {
          "name": "stdout",
          "output_type": "stream",
          "text": [
            "invertebrate_origins\n",
            "1    11094\n",
            "0     5288\n",
            "2     2040\n",
            "Name: count, dtype: int64\n",
            "Valores únicos encontrados: [1 2 0]\n"
          ]
        }
      ],
      "source": [
        "# Verificando a presença das classes\n",
        "print(df['invertebrate_origins'].value_counts())\n",
        "\n",
        "# Checando se existem valores inválidos (como 0)\n",
        "print(\"Valores únicos encontrados:\", df['invertebrate_origins'].unique())"
      ]
    },
    {
      "cell_type": "markdown",
      "metadata": {},
      "source": [
        "- Insights: o valor '0' está presente e não faz parte da classificação binária esperada (1 = native, 2 = non-native).\n",
        "- Próximos passos: remover as registros com invertebrate_origins = 0, pois não representam a classe native ou non-native. Manter essas linhas prejudicaria a performance do classificador e as métricas de avaliação."
      ]
    },
    {
      "cell_type": "markdown",
      "metadata": {},
      "source": [
        "##### 1.1) Balanceamento da coluna alvo"
      ]
    },
    {
      "cell_type": "code",
      "execution_count": 10,
      "metadata": {},
      "outputs": [
        {
          "name": "stdout",
          "output_type": "stream",
          "text": [
            "invertebrate_origins\n",
            "1    11094\n",
            "2    11094\n",
            "Name: count, dtype: int64\n"
          ]
        }
      ],
      "source": [
        "from sklearn.utils import resample\n",
        "\n",
        "# Removendo registros com classe inválida (0)\n",
        "df = df[df['invertebrate_origins'].isin([1, 2])]\n",
        "\n",
        "# Separando os dados por classe\n",
        "df_majority = df[df['invertebrate_origins'] == 1]  # native\n",
        "df_minority = df[df['invertebrate_origins'] == 2]  # non-native\n",
        "\n",
        "# Oversampling da classe minoritária\n",
        "df_minority_oversampled = resample(\n",
        "    df_minority,\n",
        "    replace=True,                \n",
        "    n_samples=len(df_majority), \n",
        "    random_state=42\n",
        ")\n",
        "\n",
        "# Combinando as classes balanceadas\n",
        "df_balanceado = pd.concat([df_majority, df_minority_oversampled])\n",
        "\n",
        "# Verificando nova distribuição\n",
        "print(df_balanceado['invertebrate_origins'].value_counts())"
      ]
    },
    {
      "cell_type": "markdown",
      "metadata": {
        "id": "FJdS7SypYpLh"
      },
      "source": [
        "#2) Escolha dos algoritmos e exploração dos hiper-parâmetros\n",
        "\n",
        "\n",
        "Agora, você precisa escolher 2 algoritmos de classificação, junto com Árvore de decisão e MLP, e o conjunto de hiper parâmetros que será explorado.\n"
      ]
    },
    {
      "cell_type": "code",
      "execution_count": null,
      "metadata": {
        "id": "YrkmxWwUZaLh"
      },
      "outputs": [],
      "source": [
        "# Insira seu código aqui.\n",
        "# Você pode criar células de código adicionais\n",
        "\n",
        "# TODO\n",
        "# 1) Criação dos modelos Árvore de decisão, MLP e mais dois algoritmos de sua escolha\n",
        "# 2) Definição do cojunto de hiper-parâmetros a serem explorados (use GridSearch)\n",
        "#     Link de referência: https://scikit-learn.org/dev/modules/generated/sklearn.model_selection.GridSearchCV.html\n",
        "# 3) Execução da exploração dos hiper-parâmetros e escolhe dos melhores estimadores"
      ]
    },
    {
      "cell_type": "markdown",
      "metadata": {
        "id": "oqmo-smcZ63Y"
      },
      "source": [
        "#3) Divisão dos subconjunto de dados de treino e teste, com estratificação\n",
        "\n",
        "\n",
        "\n",
        "\n",
        "Agora, você precisa dividir os dados em subconjuntos de treino e teste. Para isso, você também deve fazer a divisão com a estratificação da coluna alvo.\n",
        "\n",
        "O treinamento e teste devem ser feitos usando a técnica de validação cruzada.\n"
      ]
    },
    {
      "cell_type": "code",
      "execution_count": null,
      "metadata": {
        "id": "DgiD45Q8g9os"
      },
      "outputs": [],
      "source": [
        "# Insira seu código aqui\n",
        "# Você pode adicionar células adicionais\n",
        "\n",
        "# TODO\n",
        "# 1) Divisão do dataset em treino e teste, com estratificação\n",
        "# 2) Execução do treinamento e validação com Cross-Validation"
      ]
    },
    {
      "cell_type": "markdown",
      "metadata": {
        "id": "zHAvZiS1i-d7"
      },
      "source": [
        "# 4) Análise dos resultado\n",
        "\n",
        "Após a execução do treinamento e validação, você deve coletar as métricas de validação para problemas de classificação e compará-las entre os algoritmos.\n",
        "\n",
        "Você deve coletar e plotar as métricas:\n",
        "- Acurácia;\n",
        "- Precisão;\n",
        "- Recall;\n",
        "- F1-Score;\n",
        "- Matriz de confusão;\n",
        "\n",
        "Após a plotagem dos resultado de forma gráfica, análise os resultados e tente identificar possíveis problemas de overfitting/underfitting, bem como os melhores algoritmos.\n"
      ]
    },
    {
      "cell_type": "code",
      "execution_count": null,
      "metadata": {
        "id": "BZMdcN0MjmPM"
      },
      "outputs": [],
      "source": [
        "# Insira seu código aqui\n",
        "# Você pode adicionar células adicionais\n",
        "\n",
        "# TODO\n",
        "# 1) Coleta das métricas de validação\n",
        "# 2) Plotagem do resutaldos em gráficos\n",
        "# 3) Análise textual dos resultados"
      ]
    },
    {
      "cell_type": "markdown",
      "metadata": {
        "id": "-Y_rLhF3r5Hu"
      },
      "source": [
        "# 5) Conclusão\n",
        "\n",
        "\n",
        "Conclua seu estudo indicando o melhor algoritmo (modelo de IA) para o problema e comente os resultados alcançados. No caso de resultados ruins, comente e formule hipóteses para as possíveis causas."
      ]
    },
    {
      "cell_type": "markdown",
      "metadata": {
        "id": "8InPEwcwr_EO"
      },
      "source": [
        "### Insira sua conclusão aqui!\n",
        "##### Você pode adicionar células adicionais"
      ]
    },
    {
      "cell_type": "markdown",
      "metadata": {
        "id": "3yh9MW-9hiLc"
      },
      "source": [
        "# Check-List\n",
        "\n",
        "Com isso, você completa a fase 2 da disciplina. Para auxiliar você a verificar se o trabalho está adequado para a entrega, criamos uma lista de item que devem ser satisfeitos ao final do trabalho.\n",
        "\n",
        "- Balanceamento da coluna alvo;\n",
        "- Utilização de 4 algoritmos de classificação, incluindo Árvore de decisão e MLP;\n",
        "- Exploração dos hiper parâmetros dos algoritmos;\n",
        "- Divisão do dataset em treino e teste, com estratificação na coluna alvo;\n",
        "- Validação dos algoritmos usando cross-validation e coleta das métricas de avaliação (acurácia, precisão, recall, f1, matriz de confusão);\n",
        "- Analise da matriz de confusão e métricas.\n",
        "- Plotagem e análise textual sobre os resultados, indicando melhor modelo de IA;\n",
        "- Conclusão do trabalho realizado, comentando os resultados e as dificuldades encontradas;\n"
      ]
    }
  ],
  "metadata": {
    "colab": {
      "provenance": [],
      "toc_visible": true
    },
    "kernelspec": {
      "display_name": "venv",
      "language": "python",
      "name": "python3"
    },
    "language_info": {
      "codemirror_mode": {
        "name": "ipython",
        "version": 3
      },
      "file_extension": ".py",
      "mimetype": "text/x-python",
      "name": "python",
      "nbconvert_exporter": "python",
      "pygments_lexer": "ipython3",
      "version": "3.12.5"
    }
  },
  "nbformat": 4,
  "nbformat_minor": 0
}
