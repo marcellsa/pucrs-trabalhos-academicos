{
  "cells": [
    {
      "cell_type": "markdown",
      "metadata": {
        "id": "TFk4fMcdRhSs"
      },
      "source": [
        "### Machine Learning I - Fase 2\n",
        "\n",
        "\n",
        "Nome: **Marcel Luís dos Santos Albuquerque**\n",
        "\n",
        "### Aplicação e validação de algoritmos de Machine Learning\n",
        "\n",
        "\n",
        "Nesta fase, o objetivo é usar os dados preparados na fase anterior para construir um classificador binário. Use o atributo invertebrae_origins (com os valores: native e non-native) como classe. Se for necessário selecionar ainda mais os atributos para que o classificador funcione melhor, comente as suas escolhas e a necessidade desse novo filtro.\n",
        "\n",
        "\n",
        "Experimente ao menos 4 dos algoritmos vistos em aula para classificação. Obrigatoriamente, dentre esses 4 você deve incluir **Árvores de Decisão** e **MultiLayer Perceptron**. Explore os hiperparâmetros dos algoritmos visando a obtenção de melhores resultados.\n"
      ]
    },
    {
      "cell_type": "markdown",
      "metadata": {
        "id": "sSvPqDOLSE4c"
      },
      "source": [
        "#### 1) Tratamento da coluna alvo desbalanceada\n",
        "\n",
        "\n",
        "A coluna alvo “invertebrate_origins” está desbalanceada. Você precisa balanceá-la usando alguma técnica vista em aula."
      ]
    },
    {
      "cell_type": "code",
      "execution_count": 1,
      "metadata": {
        "id": "lEU2mq6rRdaL"
      },
      "outputs": [],
      "source": [
        "# Insira seu código aqui.\n",
        "# Você pode criar células de código adicionais\n",
        "\n",
        "\n",
        "# TODO\n",
        "# 1) Balanceamento da coluna alvo"
      ]
    },
    {
      "cell_type": "markdown",
      "metadata": {},
      "source": [
        "##### Carregando o dataset tratado da Fase 1"
      ]
    },
    {
      "cell_type": "code",
      "execution_count": 2,
      "metadata": {},
      "outputs": [
        {
          "name": "stdout",
          "output_type": "stream",
          "text": [
            "   municipality  state  country  veg_landuse_type_point_level1  \\\n",
            "0             3      9        1                              9   \n",
            "1             3      9        1                              9   \n",
            "2             3      9        1                              9   \n",
            "3             3      9        1                              9   \n",
            "4             3      9        1                              9   \n",
            "\n",
            "   veg_landuse_type_point_level2  veg_landuse_type_buffer5km_level1  \\\n",
            "0                             39                                  7   \n",
            "1                             39                                  7   \n",
            "2                             39                                  7   \n",
            "3                             39                                  7   \n",
            "4                             39                                  7   \n",
            "\n",
            "   veg_landuse_type_buffer5km_level2  temperature  relative_humidity  \\\n",
            "0                                  6         25.0               65.0   \n",
            "1                                  6         25.0               65.0   \n",
            "2                                  6         25.0               65.0   \n",
            "3                                  6         25.0               65.0   \n",
            "4                                  6         25.0               65.0   \n",
            "\n",
            "   plant_order  ...  plant_flower_shape  invertebrate_order  \\\n",
            "0           16  ...                  42                   4   \n",
            "1           16  ...                  42                   4   \n",
            "2           16  ...                  42                   4   \n",
            "3           16  ...                  42                   2   \n",
            "4           16  ...                  42                   4   \n",
            "\n",
            "   invertebrate_family  invertebrate_genera  \\\n",
            "0                   10                  441   \n",
            "1                   10                  339   \n",
            "2                   56                   61   \n",
            "3                  123                  626   \n",
            "4                   10                  441   \n",
            "\n",
            "   invertebrate_species_complete_name  invertebrate_origins  \\\n",
            "0                                1861                     1   \n",
            "1                                1574                     1   \n",
            "2                                 174                     1   \n",
            "3                                2222                     1   \n",
            "4                                1861                     1   \n",
            "\n",
            "   invertebrate_behavior  invertebrate_collector_structure  \\\n",
            "0                      7                                11   \n",
            "1                      7                                11   \n",
            "2                      7                                11   \n",
            "3                      7                                11   \n",
            "4                      7                                11   \n",
            "\n",
            "   plant_collected_material  invertebrate_collected  \n",
            "0                        11                       7  \n",
            "1                        11                       7  \n",
            "2                        11                       7  \n",
            "3                        11                       7  \n",
            "4                        11                       7  \n",
            "\n",
            "[5 rows x 26 columns]\n"
          ]
        }
      ],
      "source": [
        "import pandas as pd\n",
        "\n",
        "# Carregando e lendo o arquivo CSV\n",
        "df = pd.read_csv('../data/processed/dataset_fase1_tratado.csv')\n",
        "\n",
        "# Visualizando as 5 primeiras linhas\n",
        "print(df.head())"
      ]
    },
    {
      "cell_type": "markdown",
      "metadata": {},
      "source": [
        "##### Verificando a coluna alvo invertebrate_origins"
      ]
    },
    {
      "cell_type": "code",
      "execution_count": 3,
      "metadata": {},
      "outputs": [
        {
          "name": "stdout",
          "output_type": "stream",
          "text": [
            "invertebrate_origins\n",
            "1    11094\n",
            "0     5288\n",
            "2     2040\n",
            "Name: count, dtype: int64\n",
            "Valores únicos encontrados: [1 2 0]\n"
          ]
        }
      ],
      "source": [
        "# Verificando a presença das classes\n",
        "print(df['invertebrate_origins'].value_counts())\n",
        "\n",
        "# Checando se existem valores inválidos (como 0)\n",
        "print(\"Valores únicos encontrados:\", df['invertebrate_origins'].unique())"
      ]
    },
    {
      "cell_type": "markdown",
      "metadata": {},
      "source": [
        "- Insights: o valor '0' está presente e não faz parte da classificação binária esperada (1 = native, 2 = non-native).\n",
        "- Próximos passos: remover as registros com invertebrate_origins = 0, pois não representam a classe native ou non-native. Manter essas linhas prejudicaria a performance do classificador e as métricas de avaliação."
      ]
    },
    {
      "cell_type": "markdown",
      "metadata": {},
      "source": [
        "##### 1.1) Balanceamento da coluna alvo"
      ]
    },
    {
      "cell_type": "code",
      "execution_count": 4,
      "metadata": {},
      "outputs": [
        {
          "name": "stdout",
          "output_type": "stream",
          "text": [
            "invertebrate_origins\n",
            "1    11094\n",
            "2    11094\n",
            "Name: count, dtype: int64\n"
          ]
        }
      ],
      "source": [
        "from sklearn.utils import resample\n",
        "\n",
        "# Removendo registros com classe inválida (0)\n",
        "df = df[df['invertebrate_origins'].isin([1, 2])]\n",
        "\n",
        "# Separando os dados por classe\n",
        "df_majority = df[df['invertebrate_origins'] == 1]  # native\n",
        "df_minority = df[df['invertebrate_origins'] == 2]  # non-native\n",
        "\n",
        "# Oversampling da classe minoritária\n",
        "df_minority_oversampled = resample(\n",
        "    df_minority,\n",
        "    replace=True,                \n",
        "    n_samples=len(df_majority), \n",
        "    random_state=42\n",
        ")\n",
        "\n",
        "# Combinando as classes balanceadas\n",
        "df_balanceado = pd.concat([df_majority, df_minority_oversampled])\n",
        "\n",
        "# Verificando nova distribuição\n",
        "print(df_balanceado['invertebrate_origins'].value_counts())"
      ]
    },
    {
      "cell_type": "markdown",
      "metadata": {
        "id": "FJdS7SypYpLh"
      },
      "source": [
        "#### 2) Escolha dos algoritmos e exploração dos hiper-parâmetros\n",
        "\n",
        "\n",
        "Agora, você precisa escolher 2 algoritmos de classificação, junto com Árvore de decisão e MLP, e o conjunto de hiper parâmetros que será explorado.\n"
      ]
    },
    {
      "cell_type": "code",
      "execution_count": 5,
      "metadata": {
        "id": "YrkmxWwUZaLh"
      },
      "outputs": [],
      "source": [
        "# Insira seu código aqui.\n",
        "# Você pode criar células de código adicionais\n",
        "\n",
        "# TODO\n",
        "# 1) Criação dos modelos Árvore de decisão, MLP e mais dois algoritmos de sua escolha\n",
        "# 2) Definição do cojunto de hiper-parâmetros a serem explorados (use GridSearch)\n",
        "#     Link de referência: https://scikit-learn.org/dev/modules/generated/sklearn.model_selection.GridSearchCV.html\n",
        "# 3) Execução da exploração dos hiper-parâmetros e escolhe dos melhores estimadores"
      ]
    },
    {
      "cell_type": "markdown",
      "metadata": {},
      "source": [
        "##### 2.1) Criação dos modelos Árvore de decisão, MLP e mais dois algoritmos de sua escolha\n",
        "\n",
        "Modelos obrigatórios:\n",
        "- Árvore de Decisão (DecisionTreeClassifier)\n",
        "- MLP - MultiLayer Perceptron (MLPClassifier)\n",
        "\n",
        "Dois modelos adicionais escolhidos:\n",
        "- Random Forest (RandomForestClassifier)\n",
        "- Regressão Logística (LogisticRegression)"
      ]
    },
    {
      "cell_type": "code",
      "execution_count": 6,
      "metadata": {},
      "outputs": [],
      "source": [
        "from sklearn.tree import DecisionTreeClassifier\n",
        "from sklearn.neural_network import MLPClassifier\n",
        "from sklearn.ensemble import RandomForestClassifier\n",
        "from sklearn.linear_model import LogisticRegression\n",
        "\n",
        "# Definindo os classificadores com configuração inicial (sem ajuste ainda)\n",
        "modelos = {\n",
        "    'DecisionTree': DecisionTreeClassifier(random_state=42),\n",
        "    'MLP': MLPClassifier(random_state=42, max_iter=500),\n",
        "    'RandomForest': RandomForestClassifier(random_state=42),\n",
        "    'LogisticRegression': LogisticRegression(random_state=42, max_iter=500)\n",
        "}"
      ]
    },
    {
      "cell_type": "markdown",
      "metadata": {},
      "source": [
        "##### 2.2) Definição do cojunto de hiper-parâmetros a serem explorados (use GridSearch)"
      ]
    },
    {
      "cell_type": "code",
      "execution_count": 7,
      "metadata": {},
      "outputs": [],
      "source": [
        "# Árvore de Decisão (DecisionTreeClassifier)\n",
        "parametro_dt = {\n",
        "    'max_depth': [3, 5, 10, None],\n",
        "    'criterion': ['gini', 'entropy'],\n",
        "    'min_samples_split': [2, 5, 10]\n",
        "}"
      ]
    },
    {
      "cell_type": "code",
      "execution_count": 8,
      "metadata": {},
      "outputs": [],
      "source": [
        "# MLP - MultiLayer Perceptron (MLPClassifier)\n",
        "parametro_mlp = {\n",
        "    'hidden_layer_sizes': [(50,), (100,), (50, 50)],\n",
        "    'activation': ['relu', 'tanh'],\n",
        "    'solver': ['adam', 'sgd'],\n",
        "    'learning_rate': ['constant', 'adaptive']\n",
        "}"
      ]
    },
    {
      "cell_type": "code",
      "execution_count": 9,
      "metadata": {},
      "outputs": [],
      "source": [
        "# Random Forest (RandomForestClassifier)\n",
        "parametro_rf = {\n",
        "    'n_estimators': [50, 100],\n",
        "    'max_depth': [5, 10, None],\n",
        "    'min_samples_split': [2, 5],\n",
        "    'criterion': ['gini', 'entropy']\n",
        "}"
      ]
    },
    {
      "cell_type": "code",
      "execution_count": 10,
      "metadata": {},
      "outputs": [],
      "source": [
        "# Regressão Logística (LogisticRegression)\n",
        "parametro_lr = {\n",
        "    'penalty': ['l2'],\n",
        "    'C': [0.01, 0.1, 1, 10],\n",
        "    'solver': ['lbfgs', 'liblinear']\n",
        "}"
      ]
    },
    {
      "cell_type": "code",
      "execution_count": 11,
      "metadata": {},
      "outputs": [],
      "source": [
        "# Dicionário de parâmetros para cada modelo\n",
        "parametros_grid = {\n",
        "    'DecisionTree': parametro_dt,\n",
        "    'MLP': parametro_mlp,\n",
        "    'RandomForest': parametro_rf,\n",
        "    'LogisticRegression': parametro_lr\n",
        "}"
      ]
    },
    {
      "cell_type": "markdown",
      "metadata": {},
      "source": [
        "##### 2.3) Execução da exploração dos hiper-parâmetros e escolhe dos melhores estimadores"
      ]
    },
    {
      "cell_type": "code",
      "execution_count": 12,
      "metadata": {},
      "outputs": [],
      "source": [
        "# Separando atributos e rótulo\n",
        "X = df_balanceado.drop(columns=['invertebrate_origins'])\n",
        "y = df_balanceado['invertebrate_origins']\n",
        "\n",
        "# Dividindo em treino e teste com estratificação\n",
        "from sklearn.model_selection import train_test_split\n",
        "\n",
        "X_train, X_test, y_train, y_test = train_test_split(\n",
        "    X, y,\n",
        "    test_size=0.3,\n",
        "    stratify=y,\n",
        "    random_state=42\n",
        ")"
      ]
    },
    {
      "cell_type": "code",
      "execution_count": 13,
      "metadata": {},
      "outputs": [
        {
          "name": "stdout",
          "output_type": "stream",
          "text": [
            "\n",
            "Iniciando GridSearch para: DecisionTree\n",
            "Fitting 5 folds for each of 24 candidates, totalling 120 fits\n",
            "Melhor F1_macro: 0.9986\n",
            "Melhores parâmetros: {'criterion': 'gini', 'max_depth': None, 'min_samples_split': 2}\n",
            "\n",
            "Iniciando GridSearch para: MLP\n",
            "Fitting 5 folds for each of 24 candidates, totalling 120 fits\n",
            "Melhor F1_macro: 0.9831\n",
            "Melhores parâmetros: {'activation': 'tanh', 'hidden_layer_sizes': (100,), 'learning_rate': 'constant', 'solver': 'adam'}\n",
            "\n",
            "Iniciando GridSearch para: RandomForest\n",
            "Fitting 5 folds for each of 24 candidates, totalling 120 fits\n",
            "Melhor F1_macro: 0.9988\n",
            "Melhores parâmetros: {'criterion': 'entropy', 'max_depth': None, 'min_samples_split': 2, 'n_estimators': 50}\n",
            "\n",
            "Iniciando GridSearch para: LogisticRegression\n",
            "Fitting 5 folds for each of 8 candidates, totalling 40 fits\n",
            "Melhor F1_macro: 0.9103\n",
            "Melhores parâmetros: {'C': 0.01, 'penalty': 'l2', 'solver': 'lbfgs'}\n"
          ]
        }
      ],
      "source": [
        "from sklearn.model_selection import GridSearchCV\n",
        "from sklearn.metrics import classification_report\n",
        "import warnings\n",
        "warnings.filterwarnings(\"ignore\")\n",
        "\n",
        "# Dicionários para salvar resultados\n",
        "melhores_modelos = {}\n",
        "resultados_grid = {}\n",
        "\n",
        "# Iniciando GridSearch para os 4 modelos\n",
        "for nome, modelo in modelos.items():\n",
        "    print(f\"\\nIniciando GridSearch para: {nome}\")\n",
        "\n",
        "    grid = GridSearchCV(\n",
        "        estimator=modelo,\n",
        "        param_grid=parametros_grid[nome],\n",
        "        scoring='f1_macro',     \n",
        "        cv=5,                   \n",
        "        n_jobs=-1,              \n",
        "        verbose=1,\n",
        "        refit=True              \n",
        "    )\n",
        "    \n",
        "    grid.fit(X_train, y_train)  \n",
        "    \n",
        "    # Guardando os resultados\n",
        "    melhores_modelos[nome] = grid.best_estimator_\n",
        "    resultados_grid[nome] = grid\n",
        "\n",
        "    print(f\"Melhor F1_macro: {grid.best_score_:.4f}\")\n",
        "    print(f\"Melhores parâmetros: {grid.best_params_}\")"
      ]
    },
    {
      "cell_type": "markdown",
      "metadata": {
        "id": "oqmo-smcZ63Y"
      },
      "source": [
        "#### 3) Divisão dos subconjunto de dados de treino e teste, com estratificação\n",
        "\n",
        "\n",
        "\n",
        "\n",
        "Agora, você precisa dividir os dados em subconjuntos de treino e teste. Para isso, você também deve fazer a divisão com a estratificação da coluna alvo.\n",
        "\n",
        "O treinamento e teste devem ser feitos usando a técnica de validação cruzada.\n"
      ]
    },
    {
      "cell_type": "code",
      "execution_count": 14,
      "metadata": {
        "id": "DgiD45Q8g9os"
      },
      "outputs": [],
      "source": [
        "# Insira seu código aqui\n",
        "# Você pode adicionar células adicionais\n",
        "\n",
        "# TODO\n",
        "# 1) Divisão do dataset em treino e teste, com estratificação\n",
        "# 2) Execução do treinamento e validação com Cross-Validation"
      ]
    },
    {
      "cell_type": "markdown",
      "metadata": {},
      "source": [
        "##### 3.1) Divisão do dataset em treino e teste, com estratificação"
      ]
    },
    {
      "cell_type": "markdown",
      "metadata": {},
      "source": [
        "> Essa etapa foi implementada na etapa/célula 2.3"
      ]
    },
    {
      "cell_type": "markdown",
      "metadata": {},
      "source": [
        "##### 3.2) Execução do treinamento e validação com Cross-Validation"
      ]
    },
    {
      "cell_type": "markdown",
      "metadata": {},
      "source": [
        "> Essa etapa também foi implementada na etapa/célula 2.3"
      ]
    },
    {
      "cell_type": "markdown",
      "metadata": {
        "id": "zHAvZiS1i-d7"
      },
      "source": [
        "#### 4) Análise dos resultado\n",
        "\n",
        "Após a execução do treinamento e validação, você deve coletar as métricas de validação para problemas de classificação e compará-las entre os algoritmos.\n",
        "\n",
        "Você deve coletar e plotar as métricas:\n",
        "- Acurácia;\n",
        "- Precisão;\n",
        "- Recall;\n",
        "- F1-Score;\n",
        "- Matriz de confusão;\n",
        "\n",
        "Após a plotagem dos resultado de forma gráfica, análise os resultados e tente identificar possíveis problemas de overfitting/underfitting, bem como os melhores algoritmos.\n"
      ]
    },
    {
      "cell_type": "code",
      "execution_count": 15,
      "metadata": {
        "id": "BZMdcN0MjmPM"
      },
      "outputs": [],
      "source": [
        "# Insira seu código aqui\n",
        "# Você pode adicionar células adicionais\n",
        "\n",
        "# TODO\n",
        "# 1) Coleta das métricas de validação\n",
        "# 2) Plotagem do resutaldos em gráficos\n",
        "# 3) Análise textual dos resultados"
      ]
    },
    {
      "cell_type": "markdown",
      "metadata": {},
      "source": [
        "##### 4.1) Coleta das métricas de validação"
      ]
    },
    {
      "cell_type": "code",
      "execution_count": 16,
      "metadata": {},
      "outputs": [
        {
          "name": "stdout",
          "output_type": "stream",
          "text": [
            "\n",
            "DecisionTree\n",
            "Accuracy:  0.9988\n",
            "Precision: 0.9988\n",
            "Recall:    0.9988\n",
            "F1-Score:  0.9988\n",
            "Matriz de Confusão:\n",
            "[[3323    6]\n",
            " [   2 3326]]\n",
            "\n",
            "MLP\n",
            "Accuracy:  0.9848\n",
            "Precision: 0.9849\n",
            "Recall:    0.9848\n",
            "F1-Score:  0.9848\n",
            "Matriz de Confusão:\n",
            "[[3303   26]\n",
            " [  75 3253]]\n",
            "\n",
            "RandomForest\n",
            "Accuracy:  0.9992\n",
            "Precision: 0.9992\n",
            "Recall:    0.9992\n",
            "F1-Score:  0.9992\n",
            "Matriz de Confusão:\n",
            "[[3326    3]\n",
            " [   2 3326]]\n",
            "\n",
            "LogisticRegression\n",
            "Accuracy:  0.9073\n",
            "Precision: 0.9115\n",
            "Recall:    0.9073\n",
            "F1-Score:  0.9071\n",
            "Matriz de Confusão:\n",
            "[[2853  476]\n",
            " [ 141 3187]]\n"
          ]
        }
      ],
      "source": [
        "from sklearn.metrics import accuracy_score, precision_score, recall_score, f1_score, confusion_matrix\n",
        "\n",
        "# Dicionário para armazenar as métricas\n",
        "metricas_resultados = {}\n",
        "\n",
        "# Avaliando os melhores modelos no conjunto de teste\n",
        "for nome, modelo in melhores_modelos.items():\n",
        "    y_pred = modelo.predict(X_test)\n",
        "\n",
        "    acuracia = accuracy_score(y_test, y_pred)\n",
        "    precisao = precision_score(y_test, y_pred, average='macro')\n",
        "    recall = recall_score(y_test, y_pred, average='macro')\n",
        "    f1 = f1_score(y_test, y_pred, average='macro')\n",
        "    matriz_confusao = confusion_matrix(y_test, y_pred)\n",
        "\n",
        "    # Armazenando os resultados\n",
        "    metricas_resultados[nome] = {\n",
        "        'Accuracy': acuracia,\n",
        "        'Precision': precisao,\n",
        "        'Recall': recall,\n",
        "        'F1-Score': f1,\n",
        "        'Confusion Matrix': matriz_confusao\n",
        "    }\n",
        "\n",
        "    # Exibindo os resultados\n",
        "    print(f\"\\n{nome}\")\n",
        "    print(f\"Accuracy:  {acuracia:.4f}\")\n",
        "    print(f\"Precision: {precisao:.4f}\")\n",
        "    print(f\"Recall:    {recall:.4f}\")\n",
        "    print(f\"F1-Score:  {f1:.4f}\")\n",
        "    print(\"Matriz de Confusão:\")\n",
        "    print(matriz_confusao)"
      ]
    },
    {
      "cell_type": "markdown",
      "metadata": {},
      "source": [
        "##### 4.2) Plotagem do resutaldos em gráficos"
      ]
    },
    {
      "cell_type": "code",
      "execution_count": null,
      "metadata": {},
      "outputs": [
        {
          "data": {
            "text/plain": [
              "<Figure size 1200x600 with 0 Axes>"
            ]
          },
          "metadata": {},
          "output_type": "display_data"
        },
        {
          "data": {
            "image/png": "[encoded data removed]",
            "text/plain": [
              "<Figure size 1200x600 with 1 Axes>"
            ]
          },
          "metadata": {},
          "output_type": "display_data"
        },
        {
          "ename": "",
          "evalue": "",
          "output_type": "error",
          "traceback": [
            "\u001b[1;31mThe Kernel crashed while executing code in the current cell or a previous cell. \n",
            "\u001b[1;31mPlease review the code in the cell(s) to identify a possible cause of the failure. \n",
            "\u001b[1;31mClick <a href='https://aka.ms/vscodeJupyterKernelCrash'>here</a> for more info. \n",
            "\u001b[1;31mView Jupyter <a href='command:jupyter.viewOutput'>log</a> for further details."
          ]
        }
      ],
      "source": [
        "import matplotlib.pyplot as plt\n",
        "\n",
        "\n",
        "# Transformando em DataFrame e removendo a matriz de confusão\n",
        "df_metricas = pd.DataFrame.from_dict(metricas_resultados, orient='index')\n",
        "df_metricas_display = df_metricas.drop(columns=['Confusion Matrix'])\n",
        "\n",
        "# Exibindo as métricas em gráficos\n",
        "plt.figure(figsize=(12, 6))\n",
        "df_metricas_display.plot(kind='bar', figsize=(12, 6), rot=0)\n",
        "plt.title(\"Comparação de desempenho dos modelos\")\n",
        "plt.ylabel(\"Valor da Métrica\")\n",
        "plt.ylim(0.85, 1.01)\n",
        "plt.grid(axis='y', linestyle='--', alpha=0.7)\n",
        "plt.legend(loc='lower right')\n",
        "plt.tight_layout()\n",
        "plt.show()"
      ]
    },
    {
      "cell_type": "markdown",
      "metadata": {},
      "source": [
        "##### 4.3) Análise textual dos resultados"
      ]
    },
    {
      "cell_type": "markdown",
      "metadata": {},
      "source": [
        "> Depois de testar os quatro modelos (Árvore de Decisão, MLP, Random Forest e Regressão Logística), vimos que eles tiveram desempenhos diferentes:\n",
        ">\n",
        "> - O Random Forest foi o que teve o melhor resultado geral. As métricas ficaram bem próximo da perfeição (acima de 99%) e a matriz de confusão mostrou pouquíssimos erros. Isso faz sentido, já que esse modelo junta várias árvores, o que ajuda a reduzir erros e tornar a previsão mais confiável.\n",
        ">\n",
        "> - A Árvore de Decisão também teve um ótimo desempenho, quase tão bom quanto o Random Forest. Mas como esse tipo de modelo tende a memorizar os dados de treino quando fica muito complexo, pode ser que esteja sofrendo de overfitting, ou seja, foi bem demais no treino, mas pode não se sair tão bem com dados novos.\n",
        ">\n",
        "> - O MLP teve um desempenho bom, mas abaixo dos modelos de árvore. Ele errou um pouco mais, principalmente ao não identificar corretamente alguns exemplos. Isso pode estar ligado à sensibilidade desse tipo de rede a ajustes finos e à necessidade de mais dados para treinar bem.\n",
        ">\n",
        "> - Já a Regressão Logística teve o pior desempenho. Embora as métricas ainda sejam aceitáveis (perto de 90%), ela errou muito mais do que os outros modelos. Isso mostra que ela tem dificuldade com dados mais complexos, como os que temos aqui."
      ]
    },
    {
      "cell_type": "markdown",
      "metadata": {
        "id": "-Y_rLhF3r5Hu"
      },
      "source": [
        "### 5) Conclusão\n",
        "\n",
        "\n",
        "Conclua seu estudo indicando o melhor algoritmo (modelo de IA) para o problema e comente os resultados alcançados. No caso de resultados ruins, comente e formule hipóteses para as possíveis causas."
      ]
    },
    {
      "cell_type": "markdown",
      "metadata": {
        "id": "8InPEwcwr_EO"
      },
      "source": [
        "> Após os testes com quatro modelos de classificação, o Random Forest foi o que teve o melhor desempenho. Ele alcançou métricas muito altas (acima de 99%), com quase nenhum erro na matriz de confusão. Isso mostra que ele conseguiu aprender muito bem os padrões dos dados.\n",
        ">\n",
        "> A Árvore de Decisão também teve desempenho muito bom, mas por ser um modelo mais propenso ao overfitting, ele pode ter decorado os dados de treino. Ainda assim, pode ser útil quando buscamos interpretabilidade e simplicidade.\n",
        ">\n",
        "> O MLP apresentou resultados bons, porém inferiores aos modelos de árvore. Isso pode indicar que ele precisa de mais dados e ajustes finos para atingir todo o seu potencial.\n",
        ">\n",
        "> A Regressão Logística foi a que teve mais dificuldade. Mesmo com métricas aceitáveis, ela errou muito mais e não conseguiu lidar bem com a complexidade dos dados.\n",
        ">\n",
        "> Apesar dos resultados impressionantes, ainda assim, acredito que é necessário cautela. A performance quase perfeita dos modelos pode mascarar problemas como overfitting ou algum viés nos dados. São pontos que merecem ser explorados em trabalhos futuros.\n",
        ">\n",
        "> Disto isto, no geral, o Random Forest se mostrou a escolha mais eficaz para resolver este problema."
      ]
    },
    {
      "cell_type": "markdown",
      "metadata": {
        "id": "3yh9MW-9hiLc"
      },
      "source": [
        "# Check-List\n",
        "\n",
        "Com isso, você completa a fase 2 da disciplina. Para auxiliar você a verificar se o trabalho está adequado para a entrega, criamos uma lista de item que devem ser satisfeitos ao final do trabalho.\n",
        "\n",
        "- Balanceamento da coluna alvo;\n",
        "- Utilização de 4 algoritmos de classificação, incluindo Árvore de decisão e MLP;\n",
        "- Exploração dos hiper parâmetros dos algoritmos;\n",
        "- Divisão do dataset em treino e teste, com estratificação na coluna alvo;\n",
        "- Validação dos algoritmos usando cross-validation e coleta das métricas de avaliação (acurácia, precisão, recall, f1, matriz de confusão);\n",
        "- Analise da matriz de confusão e métricas.\n",
        "- Plotagem e análise textual sobre os resultados, indicando melhor modelo de IA;\n",
        "- Conclusão do trabalho realizado, comentando os resultados e as dificuldades encontradas;\n"
      ]
    }
  ],
  "metadata": {
    "colab": {
      "provenance": [],
      "toc_visible": true
    },
    "kernelspec": {
      "display_name": "venv",
      "language": "python",
      "name": "python3"
    },
    "language_info": {
      "codemirror_mode": {
        "name": "ipython",
        "version": 3
      },
      "file_extension": ".py",
      "mimetype": "text/x-python",
      "name": "python",
      "nbconvert_exporter": "python",
      "pygments_lexer": "ipython3",
      "version": "3.12.5"
    }
  },
  "nbformat": 4,
  "nbformat_minor": 0
}
