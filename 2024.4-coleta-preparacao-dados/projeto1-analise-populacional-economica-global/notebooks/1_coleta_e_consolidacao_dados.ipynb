{
 "cells": [
  {
   "cell_type": "markdown",
   "metadata": {},
   "source": [
    "# Coleta e Consolidação de Dados"
   ]
  },
  {
   "cell_type": "markdown",
   "metadata": {},
   "source": [
    "##### Coletando dados da API"
   ]
  },
  {
   "cell_type": "markdown",
   "metadata": {},
   "source": [
    "Importando das bibliotecas necessárias"
   ]
  },
  {
   "cell_type": "code",
   "execution_count": 1,
   "metadata": {},
   "outputs": [],
   "source": [
    "import requests\n",
    "import json\n",
    "import pandas as pd"
   ]
  },
  {
   "cell_type": "markdown",
   "metadata": {},
   "source": [
    "Enviando requisição para a API"
   ]
  },
  {
   "cell_type": "code",
   "execution_count": 2,
   "metadata": {},
   "outputs": [],
   "source": [
    "url = r'http://localhost:5000//country'\n",
    "response = requests.get(url)\n",
    "countries_data = response.json()"
   ]
  },
  {
   "cell_type": "markdown",
   "metadata": {},
   "source": [
    "Convertando a estrutura de dados obtida para um DataFrame pandas"
   ]
  },
  {
   "cell_type": "code",
   "execution_count": 3,
   "metadata": {},
   "outputs": [],
   "source": [
    "countries_df = pd.DataFrame(countries_data)"
   ]
  },
  {
   "cell_type": "markdown",
   "metadata": {},
   "source": [
    "Visualizando as primeiras linhas para confirmar a estrutura"
   ]
  },
  {
   "cell_type": "code",
   "execution_count": 4,
   "metadata": {},
   "outputs": [
    {
     "data": {
      "text/html": [
       "<div>\n",
       "<style scoped>\n",
       "    .dataframe tbody tr th:only-of-type {\n",
       "        vertical-align: middle;\n",
       "    }\n",
       "\n",
       "    .dataframe tbody tr th {\n",
       "        vertical-align: top;\n",
       "    }\n",
       "\n",
       "    .dataframe thead th {\n",
       "        text-align: right;\n",
       "    }\n",
       "</style>\n",
       "<table border=\"1\" class=\"dataframe\">\n",
       "  <thead>\n",
       "    <tr style=\"text-align: right;\">\n",
       "      <th></th>\n",
       "      <th>AND</th>\n",
       "      <th>ARE</th>\n",
       "      <th>AFG</th>\n",
       "      <th>ATG</th>\n",
       "      <th>AIA</th>\n",
       "      <th>ALB</th>\n",
       "      <th>ARM</th>\n",
       "      <th>AGO</th>\n",
       "      <th>ATA</th>\n",
       "      <th>ARG</th>\n",
       "      <th>...</th>\n",
       "      <th>VNM</th>\n",
       "      <th>VUT</th>\n",
       "      <th>WLF</th>\n",
       "      <th>WSM</th>\n",
       "      <th>XKX</th>\n",
       "      <th>YEM</th>\n",
       "      <th>MYT</th>\n",
       "      <th>ZAF</th>\n",
       "      <th>ZMB</th>\n",
       "      <th>ZWE</th>\n",
       "    </tr>\n",
       "  </thead>\n",
       "  <tbody>\n",
       "    <tr>\n",
       "      <th>name</th>\n",
       "      <td>Andorra</td>\n",
       "      <td>United Arab Emirates</td>\n",
       "      <td>Afghanistan</td>\n",
       "      <td>Antigua and Barbuda</td>\n",
       "      <td>Anguilla</td>\n",
       "      <td>Albania</td>\n",
       "      <td>Armenia</td>\n",
       "      <td>Angola</td>\n",
       "      <td>Antarctica</td>\n",
       "      <td>Argentina</td>\n",
       "      <td>...</td>\n",
       "      <td>Vietnam</td>\n",
       "      <td>Vanuatu</td>\n",
       "      <td>Wallis and Futuna</td>\n",
       "      <td>Samoa</td>\n",
       "      <td>Kosovo</td>\n",
       "      <td>Yemen</td>\n",
       "      <td>Mayotte</td>\n",
       "      <td>South Africa</td>\n",
       "      <td>Zambia</td>\n",
       "      <td>Zimbabwe</td>\n",
       "    </tr>\n",
       "    <tr>\n",
       "      <th>currency</th>\n",
       "      <td>EUR</td>\n",
       "      <td>AED</td>\n",
       "      <td>AFN</td>\n",
       "      <td>XCD</td>\n",
       "      <td>XCD</td>\n",
       "      <td>ALL</td>\n",
       "      <td>AMD</td>\n",
       "      <td>AOA</td>\n",
       "      <td></td>\n",
       "      <td>ARS</td>\n",
       "      <td>...</td>\n",
       "      <td>VND</td>\n",
       "      <td>VUV</td>\n",
       "      <td>XPF</td>\n",
       "      <td>WST</td>\n",
       "      <td>EUR</td>\n",
       "      <td>YER</td>\n",
       "      <td>EUR</td>\n",
       "      <td>ZAR</td>\n",
       "      <td>ZMW</td>\n",
       "      <td>ZWL</td>\n",
       "    </tr>\n",
       "    <tr>\n",
       "      <th>population</th>\n",
       "      <td>77006</td>\n",
       "      <td>9630959</td>\n",
       "      <td>37172386</td>\n",
       "      <td>96286</td>\n",
       "      <td>13254</td>\n",
       "      <td>2866376</td>\n",
       "      <td>2951776</td>\n",
       "      <td>30809762</td>\n",
       "      <td>0</td>\n",
       "      <td>44494502</td>\n",
       "      <td>...</td>\n",
       "      <td>95540395</td>\n",
       "      <td>292680</td>\n",
       "      <td>16025</td>\n",
       "      <td>196130</td>\n",
       "      <td>1845300</td>\n",
       "      <td>28498687</td>\n",
       "      <td>279471</td>\n",
       "      <td>57779622</td>\n",
       "      <td>17351822</td>\n",
       "      <td>14439018</td>\n",
       "    </tr>\n",
       "    <tr>\n",
       "      <th>capital</th>\n",
       "      <td>Andorra la Vella</td>\n",
       "      <td>Abu Dhabi</td>\n",
       "      <td>Kabul</td>\n",
       "      <td>St John's</td>\n",
       "      <td>The Valley</td>\n",
       "      <td>Tirana</td>\n",
       "      <td>Yerevan</td>\n",
       "      <td>Luanda</td>\n",
       "      <td></td>\n",
       "      <td>Buenos Aires</td>\n",
       "      <td>...</td>\n",
       "      <td>Hanoi</td>\n",
       "      <td>Port Vila</td>\n",
       "      <td>Mata-Utu</td>\n",
       "      <td>Apia</td>\n",
       "      <td>Pristina</td>\n",
       "      <td>Sanaa</td>\n",
       "      <td>Mamoudzou</td>\n",
       "      <td>Pretoria</td>\n",
       "      <td>Lusaka</td>\n",
       "      <td>Harare</td>\n",
       "    </tr>\n",
       "    <tr>\n",
       "      <th>continent</th>\n",
       "      <td>Europe</td>\n",
       "      <td>Asia</td>\n",
       "      <td>Asia</td>\n",
       "      <td>North America</td>\n",
       "      <td>North America</td>\n",
       "      <td>Europe</td>\n",
       "      <td>Asia</td>\n",
       "      <td>Africa</td>\n",
       "      <td>Antarctica</td>\n",
       "      <td>South America</td>\n",
       "      <td>...</td>\n",
       "      <td>Asia</td>\n",
       "      <td>Oceania</td>\n",
       "      <td>Oceania</td>\n",
       "      <td>Oceania</td>\n",
       "      <td>Europe</td>\n",
       "      <td>Asia</td>\n",
       "      <td>Africa</td>\n",
       "      <td>Africa</td>\n",
       "      <td>Africa</td>\n",
       "      <td>Africa</td>\n",
       "    </tr>\n",
       "  </tbody>\n",
       "</table>\n",
       "<p>5 rows × 250 columns</p>\n",
       "</div>"
      ],
      "text/plain": [
       "                         AND                   ARE          AFG  \\\n",
       "name                 Andorra  United Arab Emirates  Afghanistan   \n",
       "currency                 EUR                   AED          AFN   \n",
       "population             77006               9630959     37172386   \n",
       "capital     Andorra la Vella             Abu Dhabi        Kabul   \n",
       "continent             Europe                  Asia         Asia   \n",
       "\n",
       "                            ATG            AIA      ALB      ARM       AGO  \\\n",
       "name        Antigua and Barbuda       Anguilla  Albania  Armenia    Angola   \n",
       "currency                    XCD            XCD      ALL      AMD       AOA   \n",
       "population                96286          13254  2866376  2951776  30809762   \n",
       "capital               St John's     The Valley   Tirana  Yerevan    Luanda   \n",
       "continent         North America  North America   Europe     Asia    Africa   \n",
       "\n",
       "                   ATA            ARG  ...       VNM        VUT  \\\n",
       "name        Antarctica      Argentina  ...   Vietnam    Vanuatu   \n",
       "currency                          ARS  ...       VND        VUV   \n",
       "population           0       44494502  ...  95540395     292680   \n",
       "capital                  Buenos Aires  ...     Hanoi  Port Vila   \n",
       "continent   Antarctica  South America  ...      Asia    Oceania   \n",
       "\n",
       "                          WLF      WSM       XKX       YEM        MYT  \\\n",
       "name        Wallis and Futuna    Samoa    Kosovo     Yemen    Mayotte   \n",
       "currency                  XPF      WST       EUR       YER        EUR   \n",
       "population              16025   196130   1845300  28498687     279471   \n",
       "capital              Mata-Utu     Apia  Pristina     Sanaa  Mamoudzou   \n",
       "continent             Oceania  Oceania    Europe      Asia     Africa   \n",
       "\n",
       "                     ZAF       ZMB       ZWE  \n",
       "name        South Africa    Zambia  Zimbabwe  \n",
       "currency             ZAR       ZMW       ZWL  \n",
       "population      57779622  17351822  14439018  \n",
       "capital         Pretoria    Lusaka    Harare  \n",
       "continent         Africa    Africa    Africa  \n",
       "\n",
       "[5 rows x 250 columns]"
      ]
     },
     "execution_count": 4,
     "metadata": {},
     "output_type": "execute_result"
    }
   ],
   "source": [
    "countries_df.head()"
   ]
  },
  {
   "cell_type": "markdown",
   "metadata": {},
   "source": [
    "#### Carregando Dados de PIB (GDP) do Arquivo CSV"
   ]
  },
  {
   "cell_type": "markdown",
   "metadata": {},
   "source": [
    "Utilizando o pandas para carregar o CSV que contém os dados de PIB"
   ]
  },
  {
   "cell_type": "code",
   "execution_count": 8,
   "metadata": {},
   "outputs": [],
   "source": [
    "gdp_df = pd.read_csv('../data/gdp_data.csv')"
   ]
  },
  {
   "cell_type": "markdown",
   "metadata": {},
   "source": [
    "Visualizando as primeiras linhas"
   ]
  },
  {
   "cell_type": "code",
   "execution_count": 9,
   "metadata": {},
   "outputs": [
    {
     "name": "stdout",
     "output_type": "stream",
     "text": [
      "                  Country Name Country Code     Indicator Name  \\\n",
      "0                        Aruba          ABW  GDP (current US$)   \n",
      "1  Africa Eastern and Southern          AFE  GDP (current US$)   \n",
      "2                  Afghanistan          AFG  GDP (current US$)   \n",
      "3   Africa Western and Central          AFW  GDP (current US$)   \n",
      "4                       Angola          AGO  GDP (current US$)   \n",
      "\n",
      "   Indicator Code          1960          1961          1962          1963  \\\n",
      "0  NY.GDP.MKTP.CD           NaN           NaN           NaN           NaN   \n",
      "1  NY.GDP.MKTP.CD  2.129081e+10  2.180870e+10  2.370727e+10  2.821034e+10   \n",
      "2  NY.GDP.MKTP.CD  5.377778e+08  5.488889e+08  5.466667e+08  7.511112e+08   \n",
      "3  NY.GDP.MKTP.CD  1.040414e+10  1.112789e+10  1.194319e+10  1.267633e+10   \n",
      "4  NY.GDP.MKTP.CD           NaN           NaN           NaN           NaN   \n",
      "\n",
      "           1964          1965  ...          2013          2014          2015  \\\n",
      "0           NaN           NaN  ...  2.727933e+09  2.791061e+09  2.963128e+09   \n",
      "1  2.611906e+10  2.968249e+10  ...  9.834729e+11  1.003768e+12  9.245228e+11   \n",
      "2  8.000000e+08  1.006667e+09  ...  2.056449e+10  2.055058e+10  1.999816e+10   \n",
      "3  1.383837e+10  1.486223e+10  ...  8.322169e+11  8.924979e+11  7.669580e+11   \n",
      "4           NaN           NaN  ...  1.334016e+11  1.372444e+11  8.721930e+10   \n",
      "\n",
      "           2016          2017          2018          2019          2020  \\\n",
      "0  2.983799e+09  3.092179e+09  3.202235e+09  3.368970e+09  2.610039e+09   \n",
      "1  8.827213e+11  1.021119e+12  1.007240e+12  1.001017e+12  9.274845e+11   \n",
      "2  1.801956e+10  1.889635e+10  1.841885e+10  1.890449e+10  2.014344e+10   \n",
      "3  6.905454e+11  6.837480e+11  7.663597e+11  7.947191e+11  7.847997e+11   \n",
      "4  4.984049e+10  6.897277e+10  7.779294e+10  6.930911e+10  5.361907e+10   \n",
      "\n",
      "           2021  Unnamed: 66  \n",
      "0  3.126019e+09          NaN  \n",
      "1  1.080712e+12          NaN  \n",
      "2  1.478686e+10          NaN  \n",
      "3  8.401873e+11          NaN  \n",
      "4  6.740429e+10          NaN  \n",
      "\n",
      "[5 rows x 67 columns]\n"
     ]
    }
   ],
   "source": [
    "print(gdp_df.head())"
   ]
  },
  {
   "cell_type": "markdown",
   "metadata": {},
   "source": [
    "#### Consolidando os dados de Países e PIB"
   ]
  },
  {
   "cell_type": "markdown",
   "metadata": {},
   "source": [
    "Verificando a coluna comum entre os dados"
   ]
  },
  {
   "cell_type": "code",
   "execution_count": 21,
   "metadata": {},
   "outputs": [
    {
     "name": "stdout",
     "output_type": "stream",
     "text": [
      "Colunas no DataFrame de países:\n",
      "Index(['AND', 'ARE', 'AFG', 'ATG', 'AIA', 'ALB', 'ARM', 'AGO', 'ATA', 'ARG',\n",
      "       ...\n",
      "       'VNM', 'VUT', 'WLF', 'WSM', 'XKX', 'YEM', 'MYT', 'ZAF', 'ZMB', 'ZWE'],\n",
      "      dtype='object', length=250)\n",
      "\n",
      "Colunas no DataFrame de PIB:\n",
      "Index(['Country Name', 'Country Code', 'Indicator Name', 'Indicator Code',\n",
      "       '1960', '1961', '1962', '1963', '1964', '1965', '1966', '1967', '1968',\n",
      "       '1969', '1970', '1971', '1972', '1973', '1974', '1975', '1976', '1977',\n",
      "       '1978', '1979', '1980', '1981', '1982', '1983', '1984', '1985', '1986',\n",
      "       '1987', '1988', '1989', '1990', '1991', '1992', '1993', '1994', '1995',\n",
      "       '1996', '1997', '1998', '1999', '2000', '2001', '2002', '2003', '2004',\n",
      "       '2005', '2006', '2007', '2008', '2009', '2010', '2011', '2012', '2013',\n",
      "       '2014', '2015', '2016', '2017', '2018', '2019', '2020', '2021',\n",
      "       'Unnamed: 66'],\n",
      "      dtype='object')\n"
     ]
    }
   ],
   "source": [
    "print(\"Colunas no DataFrame de países:\")\n",
    "print(countries_df.columns)\n",
    "\n",
    "print(\"\\nColunas no DataFrame de PIB:\")\n",
    "print(gdp_df.columns)"
   ]
  },
  {
   "cell_type": "code",
   "execution_count": 13,
   "metadata": {},
   "outputs": [
    {
     "name": "stdout",
     "output_type": "stream",
     "text": [
      "0    ABW\n",
      "1    AFE\n",
      "2    AFG\n",
      "3    AFW\n",
      "4    AGO\n",
      "Name: Country Code, dtype: object\n"
     ]
    }
   ],
   "source": [
    "print(gdp_df['Country Code'].head())"
   ]
  },
  {
   "cell_type": "markdown",
   "metadata": {},
   "source": [
    "Com base nas estruturas encontradas, parece que o código do país (Country Code no CSV e o próprio identificador no JSON) é o atributo comum entre as duas fontes de dados. Portanto, esse atributo será usado para consolidar os dados."
   ]
  },
  {
   "cell_type": "markdown",
   "metadata": {},
   "source": [
    "Transformando os dados da API"
   ]
  },
  {
   "cell_type": "code",
   "execution_count": 28,
   "metadata": {},
   "outputs": [],
   "source": [
    "api_df = countries_df.T\n",
    "api_df.reset_index(inplace=True)\n",
    "api_df.columns = [\"code\", \"name\", \"currency\", \"population\",\"capital\", \"continent\", \"area\"]"
   ]
  },
  {
   "cell_type": "markdown",
   "metadata": {},
   "source": [
    "Verificando o resultado da transposição"
   ]
  },
  {
   "cell_type": "code",
   "execution_count": 29,
   "metadata": {},
   "outputs": [
    {
     "name": "stdout",
     "output_type": "stream",
     "text": [
      "  code                  name currency population           capital  \\\n",
      "0  AND               Andorra      EUR      77006  Andorra la Vella   \n",
      "1  ARE  United Arab Emirates      AED    9630959         Abu Dhabi   \n",
      "2  AFG           Afghanistan      AFN   37172386             Kabul   \n",
      "3  ATG   Antigua and Barbuda      XCD      96286         St John's   \n",
      "4  AIA              Anguilla      XCD      13254        The Valley   \n",
      "\n",
      "       continent      area  \n",
      "0         Europe     468.0  \n",
      "1           Asia   82880.0  \n",
      "2           Asia  647500.0  \n",
      "3  North America     443.0  \n",
      "4  North America     102.0  \n"
     ]
    }
   ],
   "source": [
    "print(api_df.head())"
   ]
  },
  {
   "cell_type": "markdown",
   "metadata": {},
   "source": [
    "Organizando e transformando os dados do CSV"
   ]
  },
  {
   "cell_type": "code",
   "execution_count": 30,
   "metadata": {},
   "outputs": [
    {
     "name": "stderr",
     "output_type": "stream",
     "text": [
      "C:\\Users\\Marcel Albuquerque\\AppData\\Local\\Temp\\ipykernel_48452\\3764212746.py:3: SettingWithCopyWarning: \n",
      "A value is trying to be set on a copy of a slice from a DataFrame\n",
      "\n",
      "See the caveats in the documentation: https://pandas.pydata.org/pandas-docs/stable/user_guide/indexing.html#returning-a-view-versus-a-copy\n",
      "  csv_df.rename(columns={'Country Code': 'code'}, inplace=True)\n"
     ]
    }
   ],
   "source": [
    "selected_columns = ['Country Code'] + [str(ano) for ano in range(1960, 2022)]\n",
    "csv_df = gdp_df[selected_columns]\n",
    "csv_df.rename(columns={'Country Code': 'code'}, inplace=True)"
   ]
  },
  {
   "cell_type": "markdown",
   "metadata": {},
   "source": [
    "Verificando o resultado"
   ]
  },
  {
   "cell_type": "code",
   "execution_count": 31,
   "metadata": {},
   "outputs": [
    {
     "name": "stdout",
     "output_type": "stream",
     "text": [
      "  code          1960          1961          1962          1963          1964  \\\n",
      "0  ABW           NaN           NaN           NaN           NaN           NaN   \n",
      "1  AFE  2.129081e+10  2.180870e+10  2.370727e+10  2.821034e+10  2.611906e+10   \n",
      "2  AFG  5.377778e+08  5.488889e+08  5.466667e+08  7.511112e+08  8.000000e+08   \n",
      "3  AFW  1.040414e+10  1.112789e+10  1.194319e+10  1.267633e+10  1.383837e+10   \n",
      "4  AGO           NaN           NaN           NaN           NaN           NaN   \n",
      "\n",
      "           1965          1966          1967          1968  ...          2012  \\\n",
      "0           NaN           NaN           NaN           NaN  ...  2.615084e+09   \n",
      "1  2.968249e+10  3.223946e+10  3.351491e+10  3.652187e+10  ...  9.725734e+11   \n",
      "2  1.006667e+09  1.400000e+09  1.673333e+09  1.373333e+09  ...  2.020357e+10   \n",
      "3  1.486223e+10  1.583259e+10  1.442604e+10  1.488035e+10  ...  7.360399e+11   \n",
      "4           NaN           NaN           NaN           NaN  ...  1.249982e+11   \n",
      "\n",
      "           2013          2014          2015          2016          2017  \\\n",
      "0  2.727933e+09  2.791061e+09  2.963128e+09  2.983799e+09  3.092179e+09   \n",
      "1  9.834729e+11  1.003768e+12  9.245228e+11  8.827213e+11  1.021119e+12   \n",
      "2  2.056449e+10  2.055058e+10  1.999816e+10  1.801956e+10  1.889635e+10   \n",
      "3  8.322169e+11  8.924979e+11  7.669580e+11  6.905454e+11  6.837480e+11   \n",
      "4  1.334016e+11  1.372444e+11  8.721930e+10  4.984049e+10  6.897277e+10   \n",
      "\n",
      "           2018          2019          2020          2021  \n",
      "0  3.202235e+09  3.368970e+09  2.610039e+09  3.126019e+09  \n",
      "1  1.007240e+12  1.001017e+12  9.274845e+11  1.080712e+12  \n",
      "2  1.841885e+10  1.890449e+10  2.014344e+10  1.478686e+10  \n",
      "3  7.663597e+11  7.947191e+11  7.847997e+11  8.401873e+11  \n",
      "4  7.779294e+10  6.930911e+10  5.361907e+10  6.740429e+10  \n",
      "\n",
      "[5 rows x 63 columns]\n"
     ]
    }
   ],
   "source": [
    "print(csv_df.head())"
   ]
  },
  {
   "cell_type": "markdown",
   "metadata": {},
   "source": [
    "Junção dos dados"
   ]
  },
  {
   "cell_type": "code",
   "execution_count": 33,
   "metadata": {},
   "outputs": [],
   "source": [
    "consolidated_data = pd.concat([api_df.set_index('code'), csv_df.set_index('code')], axis=1).reset_index()"
   ]
  },
  {
   "cell_type": "markdown",
   "metadata": {},
   "source": [
    "Verificando o DataFrame consolidado"
   ]
  },
  {
   "cell_type": "code",
   "execution_count": 34,
   "metadata": {},
   "outputs": [
    {
     "name": "stdout",
     "output_type": "stream",
     "text": [
      "  code                  name currency population           capital  \\\n",
      "0  AND               Andorra      EUR      77006  Andorra la Vella   \n",
      "1  ARE  United Arab Emirates      AED    9630959         Abu Dhabi   \n",
      "2  AFG           Afghanistan      AFN   37172386             Kabul   \n",
      "3  ATG   Antigua and Barbuda      XCD      96286         St John's   \n",
      "4  AIA              Anguilla      XCD      13254        The Valley   \n",
      "\n",
      "       continent      area          1960          1961          1962  ...  \\\n",
      "0         Europe     468.0           NaN           NaN           NaN  ...   \n",
      "1           Asia   82880.0           NaN           NaN           NaN  ...   \n",
      "2           Asia  647500.0  5.377778e+08  5.488889e+08  5.466667e+08  ...   \n",
      "3  North America     443.0           NaN           NaN           NaN  ...   \n",
      "4  North America     102.0           NaN           NaN           NaN  ...   \n",
      "\n",
      "           2012          2013          2014          2015          2016  \\\n",
      "0  3.188809e+09  3.193704e+09  3.271808e+09  2.789870e+09  2.896679e+09   \n",
      "1  3.846101e+11  4.002185e+11  4.141054e+11  3.702755e+11  3.692553e+11   \n",
      "2  2.020357e+10  2.056449e+10  2.055058e+10  1.999816e+10  1.801956e+10   \n",
      "3  1.199948e+09  1.181448e+09  1.249733e+09  1.336693e+09  1.436585e+09   \n",
      "4           NaN           NaN           NaN           NaN           NaN   \n",
      "\n",
      "           2017          2018          2019          2020          2021  \n",
      "0  3.000181e+09  3.218316e+09  3.155065e+09  2.891022e+09  3.330282e+09  \n",
      "1  3.905168e+11  4.270494e+11  4.179897e+11  3.494730e+11  4.150216e+11  \n",
      "2  1.889635e+10  1.841885e+10  1.890449e+10  2.014344e+10  1.478686e+10  \n",
      "3  1.467978e+09  1.605944e+09  1.687533e+09  1.370281e+09  1.471126e+09  \n",
      "4           NaN           NaN           NaN           NaN           NaN  \n",
      "\n",
      "[5 rows x 69 columns]\n"
     ]
    }
   ],
   "source": [
    "print(consolidated_data.head())"
   ]
  }
 ],
 "metadata": {
  "kernelspec": {
   "display_name": "coleta_dados",
   "language": "python",
   "name": "python3"
  },
  "language_info": {
   "codemirror_mode": {
    "name": "ipython",
    "version": 3
   },
   "file_extension": ".py",
   "mimetype": "text/x-python",
   "name": "python",
   "nbconvert_exporter": "python",
   "pygments_lexer": "ipython3",
   "version": "3.12.5"
  }
 },
 "nbformat": 4,
 "nbformat_minor": 2
}
