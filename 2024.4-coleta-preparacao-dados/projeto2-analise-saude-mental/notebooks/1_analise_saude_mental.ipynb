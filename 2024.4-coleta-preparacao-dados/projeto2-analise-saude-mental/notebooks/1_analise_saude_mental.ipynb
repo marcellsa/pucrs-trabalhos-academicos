{
 "cells": [
  {
   "cell_type": "markdown",
   "metadata": {},
   "source": [
    "## Ánalise da Dados de Saúde Mental"
   ]
  },
  {
   "cell_type": "markdown",
   "metadata": {},
   "source": [
    "#### Carregando e Combinando os dados"
   ]
  },
  {
   "cell_type": "code",
   "execution_count": 22,
   "metadata": {},
   "outputs": [
    {
     "name": "stdout",
     "output_type": "stream",
     "text": [
      "Dados combinados:\n"
     ]
    },
    {
     "data": {
      "text/html": [
       "<div>\n",
       "<style scoped>\n",
       "    .dataframe tbody tr th:only-of-type {\n",
       "        vertical-align: middle;\n",
       "    }\n",
       "\n",
       "    .dataframe tbody tr th {\n",
       "        vertical-align: top;\n",
       "    }\n",
       "\n",
       "    .dataframe thead th {\n",
       "        text-align: right;\n",
       "    }\n",
       "</style>\n",
       "<table border=\"1\" class=\"dataframe\">\n",
       "  <thead>\n",
       "    <tr style=\"text-align: right;\">\n",
       "      <th></th>\n",
       "      <th>A sua empresa oferece beneficios referentes a saude mental como parte dos beneficios de saude?</th>\n",
       "      <th>A sua empresa ja debateu saude mental formalmente (por exemplo, via um programa de concientizacao corporativo)?</th>\n",
       "      <th>A sua empresa oferece recursos para aprender mais sobre saude mental e alternativas para buscar ajuda?</th>\n",
       "      <th>A sua privacidade eh protegida se voce optar por um tratamento de saude mental oferecido pela sua empresa?</th>\n",
       "      <th>Caso voce sinta a necessidade de solicitar uma licenca do trabalho devido a saude mental, quao facil ou dificil seria fazer essa solicitacao?</th>\n",
       "      <th>Voce se sentiria confortavel discutindo uma questao de saude mental com o seu chefe direto?</th>\n",
       "      <th>Voce se sentiria confortavel discutindo uma questao de saude mental com os seus pares?</th>\n",
       "      <th>O quao propenso voce estaria em dividir com amigos e familiares que voce possui uma doenca mental?</th>\n",
       "      <th>Se voce revelou uma doenca mental para um cliente ou contato de negocio, como isso afetou voce e/ou o relacionamento?</th>\n",
       "      <th>Se voce revelou uma doenca mental para um para par ou funcionario, como isso afetou voce e/ou o relacionamento?</th>\n",
       "      <th>Idade</th>\n",
       "      <th>Genero</th>\n",
       "      <th>Qual pais voce reside?</th>\n",
       "      <th>Qual pais voce trabalha?</th>\n",
       "      <th>Voce ja foi diagnosticado com uma doenca mental?</th>\n",
       "      <th>Voce ja procurou tratamento profissional para uma doenca mental?</th>\n",
       "    </tr>\n",
       "  </thead>\n",
       "  <tbody>\n",
       "    <tr>\n",
       "      <th>0</th>\n",
       "      <td>Nao elegivel</td>\n",
       "      <td>Nao</td>\n",
       "      <td>Nao</td>\n",
       "      <td>Eu nao sei</td>\n",
       "      <td>Muito Facil</td>\n",
       "      <td>Sim</td>\n",
       "      <td>Talvez</td>\n",
       "      <td>Um pouco aberto</td>\n",
       "      <td>NaN</td>\n",
       "      <td>NaN</td>\n",
       "      <td>39.0</td>\n",
       "      <td>Masculino</td>\n",
       "      <td>United Kingdom</td>\n",
       "      <td>United Kingdom</td>\n",
       "      <td>Sim</td>\n",
       "      <td>Nao</td>\n",
       "    </tr>\n",
       "    <tr>\n",
       "      <th>1</th>\n",
       "      <td>Nao</td>\n",
       "      <td>Sim</td>\n",
       "      <td>Sim</td>\n",
       "      <td>Sim</td>\n",
       "      <td>Facil</td>\n",
       "      <td>Sim</td>\n",
       "      <td>Talvez</td>\n",
       "      <td>Um pouco aberto</td>\n",
       "      <td>NaN</td>\n",
       "      <td>NaN</td>\n",
       "      <td>29.0</td>\n",
       "      <td>masculino</td>\n",
       "      <td>United States</td>\n",
       "      <td>United States</td>\n",
       "      <td>Sim</td>\n",
       "      <td>Sim</td>\n",
       "    </tr>\n",
       "    <tr>\n",
       "      <th>2</th>\n",
       "      <td>Nao</td>\n",
       "      <td>Nao</td>\n",
       "      <td>Nao</td>\n",
       "      <td>Eu nao sei</td>\n",
       "      <td>Nem facil nem dificil</td>\n",
       "      <td>Talvez</td>\n",
       "      <td>Talvez</td>\n",
       "      <td>Um pouco aberto</td>\n",
       "      <td>NaN</td>\n",
       "      <td>NaN</td>\n",
       "      <td>38.0</td>\n",
       "      <td>Masculino</td>\n",
       "      <td>United Kingdom</td>\n",
       "      <td>United Kingdom</td>\n",
       "      <td>Nao</td>\n",
       "      <td>Sim</td>\n",
       "    </tr>\n",
       "    <tr>\n",
       "      <th>3</th>\n",
       "      <td>NaN</td>\n",
       "      <td>NaN</td>\n",
       "      <td>NaN</td>\n",
       "      <td>NaN</td>\n",
       "      <td>NaN</td>\n",
       "      <td>NaN</td>\n",
       "      <td>NaN</td>\n",
       "      <td>Neutro</td>\n",
       "      <td>Nao tenho certeza</td>\n",
       "      <td>Nao tenho certeza</td>\n",
       "      <td>43.0</td>\n",
       "      <td>masculino</td>\n",
       "      <td>United Kingdom</td>\n",
       "      <td>United Kingdom</td>\n",
       "      <td>Sim</td>\n",
       "      <td>Sim</td>\n",
       "    </tr>\n",
       "    <tr>\n",
       "      <th>4</th>\n",
       "      <td>Sim</td>\n",
       "      <td>Nao</td>\n",
       "      <td>Nao</td>\n",
       "      <td>Nao</td>\n",
       "      <td>Nem facil nem dificil</td>\n",
       "      <td>Nao</td>\n",
       "      <td>Talvez</td>\n",
       "      <td>Um pouco aberto</td>\n",
       "      <td>NaN</td>\n",
       "      <td>NaN</td>\n",
       "      <td>43.0</td>\n",
       "      <td>Feminino</td>\n",
       "      <td>United States</td>\n",
       "      <td>United States</td>\n",
       "      <td>Sim</td>\n",
       "      <td>Sim</td>\n",
       "    </tr>\n",
       "  </tbody>\n",
       "</table>\n",
       "</div>"
      ],
      "text/plain": [
       "  A sua empresa oferece beneficios referentes a saude mental como parte dos beneficios de saude?  \\\n",
       "0                                       Nao elegivel                                               \n",
       "1                                                Nao                                               \n",
       "2                                                Nao                                               \n",
       "3                                                NaN                                               \n",
       "4                                                Sim                                               \n",
       "\n",
       "  A sua empresa ja debateu saude mental formalmente (por exemplo, via um programa de concientizacao corporativo)?  \\\n",
       "0                                                Nao                                                                \n",
       "1                                                Sim                                                                \n",
       "2                                                Nao                                                                \n",
       "3                                                NaN                                                                \n",
       "4                                                Nao                                                                \n",
       "\n",
       "  A sua empresa oferece recursos para aprender mais sobre saude mental e alternativas para buscar ajuda?  \\\n",
       "0                                                Nao                                                       \n",
       "1                                                Sim                                                       \n",
       "2                                                Nao                                                       \n",
       "3                                                NaN                                                       \n",
       "4                                                Nao                                                       \n",
       "\n",
       "  A sua privacidade eh protegida se voce optar por um tratamento de saude mental oferecido pela sua empresa?  \\\n",
       "0                                         Eu nao sei                                                           \n",
       "1                                                Sim                                                           \n",
       "2                                         Eu nao sei                                                           \n",
       "3                                                NaN                                                           \n",
       "4                                                Nao                                                           \n",
       "\n",
       "  Caso voce sinta a necessidade de solicitar uma licenca do trabalho devido a saude mental, quao facil ou dificil seria fazer essa solicitacao?  \\\n",
       "0                                        Muito Facil                                                                                              \n",
       "1                                              Facil                                                                                              \n",
       "2                              Nem facil nem dificil                                                                                              \n",
       "3                                                NaN                                                                                              \n",
       "4                              Nem facil nem dificil                                                                                              \n",
       "\n",
       "  Voce se sentiria confortavel discutindo uma questao de saude mental com o seu chefe direto?  \\\n",
       "0                                                Sim                                            \n",
       "1                                                Sim                                            \n",
       "2                                             Talvez                                            \n",
       "3                                                NaN                                            \n",
       "4                                                Nao                                            \n",
       "\n",
       "  Voce se sentiria confortavel discutindo uma questao de saude mental com os seus pares?  \\\n",
       "0                                             Talvez                                       \n",
       "1                                             Talvez                                       \n",
       "2                                             Talvez                                       \n",
       "3                                                NaN                                       \n",
       "4                                             Talvez                                       \n",
       "\n",
       "  O quao propenso voce estaria em dividir com amigos e familiares que voce possui uma doenca mental?  \\\n",
       "0                                    Um pouco aberto                                                   \n",
       "1                                    Um pouco aberto                                                   \n",
       "2                                    Um pouco aberto                                                   \n",
       "3                                             Neutro                                                   \n",
       "4                                    Um pouco aberto                                                   \n",
       "\n",
       "  Se voce revelou uma doenca mental para um cliente ou contato de negocio, como isso afetou voce e/ou o relacionamento?  \\\n",
       "0                                                NaN                                                                      \n",
       "1                                                NaN                                                                      \n",
       "2                                                NaN                                                                      \n",
       "3                                  Nao tenho certeza                                                                      \n",
       "4                                                NaN                                                                      \n",
       "\n",
       "  Se voce revelou uma doenca mental para um para par ou funcionario, como isso afetou voce e/ou o relacionamento?  \\\n",
       "0                                                NaN                                                                \n",
       "1                                                NaN                                                                \n",
       "2                                                NaN                                                                \n",
       "3                                  Nao tenho certeza                                                                \n",
       "4                                                NaN                                                                \n",
       "\n",
       "   Idade      Genero Qual pais voce reside? Qual pais voce trabalha?  \\\n",
       "0   39.0   Masculino         United Kingdom           United Kingdom   \n",
       "1   29.0   masculino          United States            United States   \n",
       "2   38.0  Masculino          United Kingdom           United Kingdom   \n",
       "3   43.0   masculino         United Kingdom           United Kingdom   \n",
       "4   43.0    Feminino          United States            United States   \n",
       "\n",
       "  Voce ja foi diagnosticado com uma doenca mental?  \\\n",
       "0                                              Sim   \n",
       "1                                              Sim   \n",
       "2                                              Nao   \n",
       "3                                              Sim   \n",
       "4                                              Sim   \n",
       "\n",
       "  Voce ja procurou tratamento profissional para uma doenca mental?  \n",
       "0                                                Nao                \n",
       "1                                                Sim                \n",
       "2                                                Sim                \n",
       "3                                                Sim                \n",
       "4                                                Sim                "
      ]
     },
     "execution_count": 22,
     "metadata": {},
     "output_type": "execute_result"
    }
   ],
   "source": [
    "import pandas as pd\n",
    "import os\n",
    "\n",
    "# Caminho para a pasta com os arquivos CSV\n",
    "data_path = \"../data\"\n",
    "\n",
    "# Listando todos os arquivos CSV na pasta\n",
    "csv_files = [i for i in os.listdir(data_path) if i.endswith('.csv')]\n",
    "\n",
    "# Carregando e combinando os dados\n",
    "df = [pd.read_csv(os.path.join(data_path, file)) for file in csv_files]\n",
    "combined_data = pd.concat(df, ignore_index=True)\n",
    "\n",
    "# Exibindo as 5 primeiras linhas do DataFrame combinado\n",
    "print(\"Dados combinados:\")\n",
    "combined_data.head()"
   ]
  },
  {
   "cell_type": "markdown",
   "metadata": {},
   "source": [
    "### Explorando os dados"
   ]
  },
  {
   "cell_type": "markdown",
   "metadata": {},
   "source": [
    "Verificando as colunas"
   ]
  },
  {
   "cell_type": "code",
   "execution_count": 23,
   "metadata": {},
   "outputs": [
    {
     "name": "stdout",
     "output_type": "stream",
     "text": [
      "Colunas disponíveis nos dados:\n",
      "Index(['A sua empresa oferece beneficios referentes a saude mental como parte dos beneficios de saude?',\n",
      "       'A sua empresa ja debateu saude mental formalmente (por exemplo, via um programa de concientizacao corporativo)?',\n",
      "       'A sua empresa oferece recursos para aprender mais sobre saude mental e alternativas para buscar ajuda?',\n",
      "       'A sua privacidade eh protegida se voce optar por um tratamento de saude mental oferecido pela sua empresa?',\n",
      "       'Caso voce sinta a necessidade de solicitar uma licenca do trabalho devido a saude mental, quao facil ou dificil seria fazer essa solicitacao?',\n",
      "       'Voce se sentiria confortavel discutindo uma questao de saude mental com o seu chefe direto?',\n",
      "       'Voce se sentiria confortavel discutindo uma questao de saude mental com os seus pares?',\n",
      "       'O quao propenso voce estaria em dividir com amigos e familiares que voce possui uma doenca mental?',\n",
      "       'Se voce revelou uma doenca mental para um cliente ou contato de negocio, como isso afetou voce e/ou o relacionamento?',\n",
      "       'Se voce revelou uma doenca mental para um para par ou funcionario, como isso afetou voce e/ou o relacionamento?',\n",
      "       'Idade', 'Genero', 'Qual pais voce reside?', 'Qual pais voce trabalha?',\n",
      "       'Voce ja foi diagnosticado com uma doenca mental?',\n",
      "       'Voce ja procurou tratamento profissional para uma doenca mental?'],\n",
      "      dtype='object')\n"
     ]
    }
   ],
   "source": [
    "# Verificando colunas disponíveis\n",
    "print(\"Colunas disponíveis nos dados:\")\n",
    "print(combined_data.columns)"
   ]
  },
  {
   "cell_type": "markdown",
   "metadata": {},
   "source": [
    "Informações gerais"
   ]
  },
  {
   "cell_type": "code",
   "execution_count": 24,
   "metadata": {},
   "outputs": [
    {
     "name": "stdout",
     "output_type": "stream",
     "text": [
      "<class 'pandas.core.frame.DataFrame'>\n",
      "RangeIndex: 2739 entries, 0 to 2738\n",
      "Data columns (total 16 columns):\n",
      " #   Column                                                                                                                                         Non-Null Count  Dtype  \n",
      "---  ------                                                                                                                                         --------------  -----  \n",
      " 0   A sua empresa oferece beneficios referentes a saude mental como parte dos beneficios de saude?                                                 2315 non-null   object \n",
      " 1   A sua empresa ja debateu saude mental formalmente (por exemplo, via um programa de concientizacao corporativo)?                                2315 non-null   object \n",
      " 2   A sua empresa oferece recursos para aprender mais sobre saude mental e alternativas para buscar ajuda?                                         2315 non-null   object \n",
      " 3   A sua privacidade eh protegida se voce optar por um tratamento de saude mental oferecido pela sua empresa?                                     2315 non-null   object \n",
      " 4   Caso voce sinta a necessidade de solicitar uma licenca do trabalho devido a saude mental, quao facil ou dificil seria fazer essa solicitacao?  2315 non-null   object \n",
      " 5   Voce se sentiria confortavel discutindo uma questao de saude mental com o seu chefe direto?                                                    2315 non-null   object \n",
      " 6   Voce se sentiria confortavel discutindo uma questao de saude mental com os seus pares?                                                         2315 non-null   object \n",
      " 7   O quao propenso voce estaria em dividir com amigos e familiares que voce possui uma doenca mental?                                             2739 non-null   object \n",
      " 8   Se voce revelou uma doenca mental para um cliente ou contato de negocio, como isso afetou voce e/ou o relacionamento?                          196 non-null    object \n",
      " 9   Se voce revelou uma doenca mental para um para par ou funcionario, como isso afetou voce e/ou o relacionamento?                                424 non-null    object \n",
      " 10  Idade                                                                                                                                          2739 non-null   float64\n",
      " 11  Genero                                                                                                                                         2719 non-null   object \n",
      " 12  Qual pais voce reside?                                                                                                                         2739 non-null   object \n",
      " 13  Qual pais voce trabalha?                                                                                                                       2739 non-null   object \n",
      " 14  Voce ja foi diagnosticado com uma doenca mental?                                                                                               1927 non-null   object \n",
      " 15  Voce ja procurou tratamento profissional para uma doenca mental?                                                                               2739 non-null   object \n",
      "dtypes: float64(1), object(15)\n",
      "memory usage: 342.5+ KB\n"
     ]
    }
   ],
   "source": [
    "# Informações sobre o DataFrame\n",
    "combined_data.info()"
   ]
  },
  {
   "cell_type": "markdown",
   "metadata": {},
   "source": [
    "Valores únicos"
   ]
  },
  {
   "cell_type": "code",
   "execution_count": 25,
   "metadata": {},
   "outputs": [
    {
     "name": "stdout",
     "output_type": "stream",
     "text": [
      "Valores únicos de gênero:\n",
      "['Masculino' 'masculino' 'Masculino ' 'Feminino' 'M' 'feminino' 'm'\n",
      " 'Me identifico como mulher' 'feminino ' 'Bi-gênero' 'não-binário'\n",
      " 'Registrada no nascimento como feminino' 'F' 'Mulher' 'homem' 'f'\n",
      " 'cisgênero feminino' 'Transgênero feminina'\n",
      " 'Fluidez de gênero (nascida feminino)' 'Outro' 'Feminino ' 'mulher'\n",
      " 'feminino/mulher' 'cisgênero masculino' 'Masculino.' 'Andrôgeno'\n",
      " '90% masculino, 10% feminino' nan 'Homem' 'Sexo é masculino'\n",
      " 'não é da sua conta' 'queer' 'Humano' 'Gênero Fluido' 'outro'\n",
      " 'sem gênero' 'Cara' 'Fluido' 'Eu sou um homem!' 'mascolino' 'M|' 'fem'\n",
      " 'masculino ' 'humano' 'não binário' ' Feminino' 'Unicórnio'\n",
      " 'cisgênero mulher' 'MASCULINO' 'Mascolino' 'femininu'\n",
      " 'masculino (ei estamos em TI, do que vc está falando)' 'outros'\n",
      " 'Meu sexo é feminino' 'Contextual' 'Não binário' '\\\\----' 'transgênero'\n",
      " 'Nenhum' 'cara' 'Ostensivamente Masculino' 'Me identifico como feminina'\n",
      " 'Masculino (or feminino, ou ambos)' 'Transgênero' 'nenhum'\n",
      " 'Vamos manter simples e dizer masculino' 'Me identifico como homem'\n",
      " 'Em dúvida' 'Maskulino' 'Femenino' 'FEMININO' 'Feminino, Ela/Dela'\n",
      " 'majoritariamente masculino']\n"
     ]
    }
   ],
   "source": [
    "# Valores únicos em colunas de interesse\n",
    "print(\"Valores únicos de gênero:\")\n",
    "print(combined_data['Genero'].unique())"
   ]
  },
  {
   "cell_type": "markdown",
   "metadata": {},
   "source": [
    "#### Limpeza dos dados"
   ]
  },
  {
   "cell_type": "markdown",
   "metadata": {},
   "source": [
    "##### Renomeando colunas"
   ]
  },
  {
   "cell_type": "markdown",
   "metadata": {},
   "source": [
    "Para facilitar a manipulação, as colunas foram renomeadas com nomes mais simples e consistentes, pois as colunas possuem nomes extensos."
   ]
  },
  {
   "cell_type": "code",
   "execution_count": 26,
   "metadata": {},
   "outputs": [
    {
     "name": "stdout",
     "output_type": "stream",
     "text": [
      "Index(['beneficios_saude_mental', 'debate_saude_mental',\n",
      "       'recursos_saude_mental', 'privacidade_tratamento', 'facilidade_licenca',\n",
      "       'conforto_com_chefe', 'conforto_com_pares', 'propensao_dividir_amigos',\n",
      "       'impacto_cliente', 'impacto_funcionario', 'idade', 'genero',\n",
      "       'pais_residencia', 'pais_trabalho', 'diagnostico_mental',\n",
      "       'tratamento_mental'],\n",
      "      dtype='object')\n"
     ]
    }
   ],
   "source": [
    "# Renomeando colunas\n",
    "combined_data.rename(columns={\n",
    "    \"A sua empresa oferece beneficios referentes a saude mental como parte dos beneficios de saude?\": \"beneficios_saude_mental\",\n",
    "    \"A sua empresa ja debateu saude mental formalmente (por exemplo, via um programa de concientizacao corporativo)?\": \"debate_saude_mental\",\n",
    "    \"A sua empresa oferece recursos para aprender mais sobre saude mental e alternativas para buscar ajuda?\": \"recursos_saude_mental\",\n",
    "    \"A sua privacidade eh protegida se voce optar por um tratamento de saude mental oferecido pela sua empresa?\": \"privacidade_tratamento\",\n",
    "    \"Caso voce sinta a necessidade de solicitar uma licenca do trabalho devido a saude mental, quao facil ou dificil seria fazer essa solicitacao?\": \"facilidade_licenca\",\n",
    "    \"Voce se sentiria confortavel discutindo uma questao de saude mental com o seu chefe direto?\": \"conforto_com_chefe\",\n",
    "    \"Voce se sentiria confortavel discutindo uma questao de saude mental com os seus pares?\": \"conforto_com_pares\",\n",
    "    \"O quao propenso voce estaria em dividir com amigos e familiares que voce possui uma doenca mental?\": \"propensao_dividir_amigos\",\n",
    "    \"Se voce revelou uma doenca mental para um cliente ou contato de negocio, como isso afetou voce e/ou o relacionamento?\": \"impacto_cliente\",\n",
    "    \"Se voce revelou uma doenca mental para um para par ou funcionario, como isso afetou voce e/ou o relacionamento?\": \"impacto_funcionario\",\n",
    "    \"Idade\": \"idade\",\n",
    "    \"Genero\": \"genero\",\n",
    "    \"Qual pais voce reside?\": \"pais_residencia\",\n",
    "    \"Qual pais voce trabalha?\": \"pais_trabalho\",\n",
    "    \"Voce ja foi diagnosticado com uma doenca mental?\": \"diagnostico_mental\",\n",
    "    \"Voce ja procurou tratamento profissional para uma doenca mental?\": \"tratamento_mental\"\n",
    "}, inplace=True)\n",
    "\n",
    "# Conferindo nomes após modificação\n",
    "print(combined_data.columns)\n"
   ]
  },
  {
   "cell_type": "markdown",
   "metadata": {},
   "source": [
    "##### Lidando com valores nulos"
   ]
  },
  {
   "cell_type": "markdown",
   "metadata": {},
   "source": [
    "Algumas colunas têm  valores nulos, como impacto_cliente e impacto_funcionario."
   ]
  },
  {
   "cell_type": "code",
   "execution_count": 27,
   "metadata": {},
   "outputs": [
    {
     "name": "stdout",
     "output_type": "stream",
     "text": [
      "Valores nulos após modificação:\n",
      "beneficios_saude_mental      424\n",
      "debate_saude_mental          424\n",
      "recursos_saude_mental        424\n",
      "privacidade_tratamento       424\n",
      "facilidade_licenca           424\n",
      "conforto_com_chefe           424\n",
      "conforto_com_pares           424\n",
      "propensao_dividir_amigos       0\n",
      "impacto_cliente             2543\n",
      "impacto_funcionario         2315\n",
      "idade                          0\n",
      "genero                        20\n",
      "pais_residencia                0\n",
      "pais_trabalho                  0\n",
      "diagnostico_mental           812\n",
      "tratamento_mental              0\n",
      "dtype: int64\n",
      "\n",
      "Valores nulos após limpeza:\n",
      "beneficios_saude_mental     321\n",
      "debate_saude_mental         321\n",
      "recursos_saude_mental       321\n",
      "privacidade_tratamento      321\n",
      "facilidade_licenca          321\n",
      "conforto_com_chefe          321\n",
      "conforto_com_pares          321\n",
      "propensao_dividir_amigos      0\n",
      "idade                         0\n",
      "genero                        0\n",
      "pais_residencia               0\n",
      "pais_trabalho                 0\n",
      "diagnostico_mental            0\n",
      "tratamento_mental             0\n",
      "dtype: int64\n"
     ]
    }
   ],
   "source": [
    "# Verificando valores nulos por coluna\n",
    "print(\"Valores nulos após modificação:\")\n",
    "print(combined_data.isnull().sum())\n",
    "\n",
    "# Excluindo colunas irrelevantes\n",
    "colunas_irrelevantes = ['impacto_cliente', 'impacto_funcionario']\n",
    "combined_data.drop(columns=colunas_irrelevantes, inplace=True)\n",
    "\n",
    "# Removendo linhas com valores nulos em colunas essenciais\n",
    "colunas_essenciais = ['genero', 'idade', 'tratamento_mental', 'diagnostico_mental']\n",
    "cleaned_data = combined_data.dropna(subset=colunas_essenciais)\n",
    "\n",
    "print(\"\\nValores nulos após limpeza:\")\n",
    "print(cleaned_data.isnull().sum())\n"
   ]
  },
  {
   "cell_type": "markdown",
   "metadata": {},
   "source": [
    "##### Padronizando gêneros"
   ]
  },
  {
   "cell_type": "markdown",
   "metadata": {},
   "source": [
    "A coluna gênero contém valores variados. Por isso, será padronizado."
   ]
  },
  {
   "cell_type": "code",
   "execution_count": null,
   "metadata": {},
   "outputs": [
    {
     "name": "stdout",
     "output_type": "stream",
     "text": [
      "Valores padronizados de gênero:\n",
      "['M' 'F' 'm' 'me identifico como mulher' 'bi-gênero' 'não-binário'\n",
      " 'registrada no nascimento como feminino' 'f' 'mulher' 'homem'\n",
      " 'cisgênero feminino' 'transgênero feminina'\n",
      " 'fluidez de gênero (nascida feminino)' 'outro' 'feminino/mulher'\n",
      " 'cisgênero masculino' 'masculino.' 'andrôgeno'\n",
      " '90% masculino, 10% feminino' 'sexo é masculino' 'não é da sua conta'\n",
      " 'queer' 'humano' 'gênero fluido' 'sem gênero' 'cara' 'fluido'\n",
      " 'eu sou um homem!' 'mascolino' 'm|' 'fem' 'não binário' 'unicórnio'\n",
      " 'cisgênero mulher' 'meu sexo é feminino' 'transgênero'\n",
      " 'ostensivamente masculino' 'me identifico como feminina' 'outros'\n",
      " 'em dúvida' 'nenhum' 'maskulino' 'feminino, ela/dela']\n"
     ]
    },
    {
     "name": "stderr",
     "output_type": "stream",
     "text": [
      "C:\\Windows\\Temp\\ipykernel_47248\\2090230947.py:2: SettingWithCopyWarning: \n",
      "A value is trying to be set on a copy of a slice from a DataFrame.\n",
      "Try using .loc[row_indexer,col_indexer] = value instead\n",
      "\n",
      "See the caveats in the documentation: https://pandas.pydata.org/pandas-docs/stable/user_guide/indexing.html#returning-a-view-versus-a-copy\n",
      "  cleaned_data['genero'] = cleaned_data['genero'].str.strip().str.lower()\n",
      "C:\\Windows\\Temp\\ipykernel_47248\\2090230947.py:3: SettingWithCopyWarning: \n",
      "A value is trying to be set on a copy of a slice from a DataFrame.\n",
      "Try using .loc[row_indexer,col_indexer] = value instead\n",
      "\n",
      "See the caveats in the documentation: https://pandas.pydata.org/pandas-docs/stable/user_guide/indexing.html#returning-a-view-versus-a-copy\n",
      "  cleaned_data['genero'] = cleaned_data['genero'].replace({\n"
     ]
    }
   ],
   "source": [
    "# Padronizando valores de gênero\n",
    "cleaned_data['genero'] = cleaned_data['genero'].str.strip().str.lower()\n",
    "cleaned_data['genero'] = cleaned_data['genero'].replace({\n",
    "    'male': 'M', 'female': 'F', 'other': 'O',\n",
    "    'masculino': 'M', 'feminino': 'F'\n",
    "})\n",
    "\n",
    "print(\"Valores padronizados de gênero:\")\n",
    "print(cleaned_data['genero'].unique())\n"
   ]
  },
  {
   "cell_type": "markdown",
   "metadata": {},
   "source": [
    "##### Verificando idade"
   ]
  },
  {
   "cell_type": "markdown",
   "metadata": {},
   "source": [
    "Garantindo que idade esteja dentro de um intervalo razoável."
   ]
  },
  {
   "cell_type": "code",
   "execution_count": 29,
   "metadata": {},
   "outputs": [
    {
     "name": "stdout",
     "output_type": "stream",
     "text": [
      "Idades fora do padrão:\n",
      "    beneficios_saude_mental debate_saude_mental recursos_saude_mental  \\\n",
      "88                      Nao                 Nao                   Nao   \n",
      "515                     Sim          Eu nao sei            Eu nao sei   \n",
      "596                     Sim                 Sim                   Sim   \n",
      "735                     NaN                 NaN                   NaN   \n",
      "\n",
      "    privacidade_tratamento facilidade_licenca conforto_com_chefe  \\\n",
      "88              Eu nao sei   Um pouco dificil                Sim   \n",
      "515             Eu nao sei         Eu nao sei             Talvez   \n",
      "596             Eu nao sei              Facil                Sim   \n",
      "735                    NaN                NaN                NaN   \n",
      "\n",
      "    conforto_com_pares                       propensao_dividir_amigos  idade  \\\n",
      "88                 Nao                            Definitivamente nao   17.0   \n",
      "515             Talvez                                         Neutro  323.0   \n",
      "596             Talvez                                Um pouco aberto    3.0   \n",
      "735                NaN  Nao aplicavel, eu nao tenho uma doenca mental   15.0   \n",
      "\n",
      "    genero pais_residencia  pais_trabalho diagnostico_mental tratamento_mental  \n",
      "88       M          Brazil         Brazil                Nao               Nao  \n",
      "515      M   United States  United States                Nao               Nao  \n",
      "596      M          Canada         Canada                Sim               Sim  \n",
      "735      M          Canada         Canada                Nao               Nao  \n"
     ]
    }
   ],
   "source": [
    "# Verificando idades fora do padrão (<18 ou >100)\n",
    "outliers_idade = cleaned_data[(cleaned_data['idade'] < 18) | (cleaned_data['idade'] > 100)]\n",
    "print(\"Idades fora do padrão:\")\n",
    "print(outliers_idade)\n",
    "\n",
    "# Removendo idades fora do padrão\n",
    "cleaned_data = cleaned_data[(cleaned_data['idade'] >= 18) & (cleaned_data['idade'] <= 100)]\n"
   ]
  },
  {
   "cell_type": "markdown",
   "metadata": {},
   "source": [
    "##### Confirmando limpeza"
   ]
  },
  {
   "cell_type": "code",
   "execution_count": 30,
   "metadata": {},
   "outputs": [
    {
     "name": "stdout",
     "output_type": "stream",
     "text": [
      "<class 'pandas.core.frame.DataFrame'>\n",
      "Index: 1913 entries, 0 to 2736\n",
      "Data columns (total 14 columns):\n",
      " #   Column                    Non-Null Count  Dtype  \n",
      "---  ------                    --------------  -----  \n",
      " 0   beneficios_saude_mental   1593 non-null   object \n",
      " 1   debate_saude_mental       1593 non-null   object \n",
      " 2   recursos_saude_mental     1593 non-null   object \n",
      " 3   privacidade_tratamento    1593 non-null   object \n",
      " 4   facilidade_licenca        1593 non-null   object \n",
      " 5   conforto_com_chefe        1593 non-null   object \n",
      " 6   conforto_com_pares        1593 non-null   object \n",
      " 7   propensao_dividir_amigos  1913 non-null   object \n",
      " 8   idade                     1913 non-null   float64\n",
      " 9   genero                    1913 non-null   object \n",
      " 10  pais_residencia           1913 non-null   object \n",
      " 11  pais_trabalho             1913 non-null   object \n",
      " 12  diagnostico_mental        1913 non-null   object \n",
      " 13  tratamento_mental         1913 non-null   object \n",
      "dtypes: float64(1), object(13)\n",
      "memory usage: 224.2+ KB\n"
     ]
    }
   ],
   "source": [
    "# Conferindo as primeiras linhas após limpeza\n",
    "cleaned_data.head()\n",
    "\n",
    "# Resumo do DataFrame após a limpeza\n",
    "cleaned_data.info()\n"
   ]
  }
 ],
 "metadata": {
  "kernelspec": {
   "display_name": "analise_saude_mental",
   "language": "python",
   "name": "python3"
  },
  "language_info": {
   "codemirror_mode": {
    "name": "ipython",
    "version": 3
   },
   "file_extension": ".py",
   "mimetype": "text/x-python",
   "name": "python",
   "nbconvert_exporter": "python",
   "pygments_lexer": "ipython3",
   "version": "3.12.5"
  }
 },
 "nbformat": 4,
 "nbformat_minor": 2
}
