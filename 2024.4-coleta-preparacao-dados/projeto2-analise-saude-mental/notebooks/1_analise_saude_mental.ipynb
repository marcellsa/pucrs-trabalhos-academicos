{
 "cells": [
  {
   "cell_type": "markdown",
   "metadata": {},
   "source": [
    "## Ánalise da dados de saúde mental"
   ]
  },
  {
   "cell_type": "markdown",
   "metadata": {},
   "source": [
    "#### Carregando e combinando os dados"
   ]
  },
  {
   "cell_type": "code",
   "execution_count": 18,
   "metadata": {},
   "outputs": [
    {
     "name": "stdout",
     "output_type": "stream",
     "text": [
      "Dados combinados:\n"
     ]
    },
    {
     "data": {
      "text/html": [
       "<div>\n",
       "<style scoped>\n",
       "    .dataframe tbody tr th:only-of-type {\n",
       "        vertical-align: middle;\n",
       "    }\n",
       "\n",
       "    .dataframe tbody tr th {\n",
       "        vertical-align: top;\n",
       "    }\n",
       "\n",
       "    .dataframe thead th {\n",
       "        text-align: right;\n",
       "    }\n",
       "</style>\n",
       "<table border=\"1\" class=\"dataframe\">\n",
       "  <thead>\n",
       "    <tr style=\"text-align: right;\">\n",
       "      <th></th>\n",
       "      <th>A sua empresa oferece beneficios referentes a saude mental como parte dos beneficios de saude?</th>\n",
       "      <th>A sua empresa ja debateu saude mental formalmente (por exemplo, via um programa de concientizacao corporativo)?</th>\n",
       "      <th>A sua empresa oferece recursos para aprender mais sobre saude mental e alternativas para buscar ajuda?</th>\n",
       "      <th>A sua privacidade eh protegida se voce optar por um tratamento de saude mental oferecido pela sua empresa?</th>\n",
       "      <th>Caso voce sinta a necessidade de solicitar uma licenca do trabalho devido a saude mental, quao facil ou dificil seria fazer essa solicitacao?</th>\n",
       "      <th>Voce se sentiria confortavel discutindo uma questao de saude mental com o seu chefe direto?</th>\n",
       "      <th>Voce se sentiria confortavel discutindo uma questao de saude mental com os seus pares?</th>\n",
       "      <th>O quao propenso voce estaria em dividir com amigos e familiares que voce possui uma doenca mental?</th>\n",
       "      <th>Se voce revelou uma doenca mental para um cliente ou contato de negocio, como isso afetou voce e/ou o relacionamento?</th>\n",
       "      <th>Se voce revelou uma doenca mental para um para par ou funcionario, como isso afetou voce e/ou o relacionamento?</th>\n",
       "      <th>Idade</th>\n",
       "      <th>Genero</th>\n",
       "      <th>Qual pais voce reside?</th>\n",
       "      <th>Qual pais voce trabalha?</th>\n",
       "      <th>Voce ja foi diagnosticado com uma doenca mental?</th>\n",
       "      <th>Voce ja procurou tratamento profissional para uma doenca mental?</th>\n",
       "    </tr>\n",
       "  </thead>\n",
       "  <tbody>\n",
       "    <tr>\n",
       "      <th>0</th>\n",
       "      <td>Nao elegivel</td>\n",
       "      <td>Nao</td>\n",
       "      <td>Nao</td>\n",
       "      <td>Eu nao sei</td>\n",
       "      <td>Muito Facil</td>\n",
       "      <td>Sim</td>\n",
       "      <td>Talvez</td>\n",
       "      <td>Um pouco aberto</td>\n",
       "      <td>NaN</td>\n",
       "      <td>NaN</td>\n",
       "      <td>39.0</td>\n",
       "      <td>Masculino</td>\n",
       "      <td>United Kingdom</td>\n",
       "      <td>United Kingdom</td>\n",
       "      <td>Sim</td>\n",
       "      <td>Nao</td>\n",
       "    </tr>\n",
       "    <tr>\n",
       "      <th>1</th>\n",
       "      <td>Nao</td>\n",
       "      <td>Sim</td>\n",
       "      <td>Sim</td>\n",
       "      <td>Sim</td>\n",
       "      <td>Facil</td>\n",
       "      <td>Sim</td>\n",
       "      <td>Talvez</td>\n",
       "      <td>Um pouco aberto</td>\n",
       "      <td>NaN</td>\n",
       "      <td>NaN</td>\n",
       "      <td>29.0</td>\n",
       "      <td>masculino</td>\n",
       "      <td>United States</td>\n",
       "      <td>United States</td>\n",
       "      <td>Sim</td>\n",
       "      <td>Sim</td>\n",
       "    </tr>\n",
       "    <tr>\n",
       "      <th>2</th>\n",
       "      <td>Nao</td>\n",
       "      <td>Nao</td>\n",
       "      <td>Nao</td>\n",
       "      <td>Eu nao sei</td>\n",
       "      <td>Nem facil nem dificil</td>\n",
       "      <td>Talvez</td>\n",
       "      <td>Talvez</td>\n",
       "      <td>Um pouco aberto</td>\n",
       "      <td>NaN</td>\n",
       "      <td>NaN</td>\n",
       "      <td>38.0</td>\n",
       "      <td>Masculino</td>\n",
       "      <td>United Kingdom</td>\n",
       "      <td>United Kingdom</td>\n",
       "      <td>Nao</td>\n",
       "      <td>Sim</td>\n",
       "    </tr>\n",
       "    <tr>\n",
       "      <th>3</th>\n",
       "      <td>NaN</td>\n",
       "      <td>NaN</td>\n",
       "      <td>NaN</td>\n",
       "      <td>NaN</td>\n",
       "      <td>NaN</td>\n",
       "      <td>NaN</td>\n",
       "      <td>NaN</td>\n",
       "      <td>Neutro</td>\n",
       "      <td>Nao tenho certeza</td>\n",
       "      <td>Nao tenho certeza</td>\n",
       "      <td>43.0</td>\n",
       "      <td>masculino</td>\n",
       "      <td>United Kingdom</td>\n",
       "      <td>United Kingdom</td>\n",
       "      <td>Sim</td>\n",
       "      <td>Sim</td>\n",
       "    </tr>\n",
       "    <tr>\n",
       "      <th>4</th>\n",
       "      <td>Sim</td>\n",
       "      <td>Nao</td>\n",
       "      <td>Nao</td>\n",
       "      <td>Nao</td>\n",
       "      <td>Nem facil nem dificil</td>\n",
       "      <td>Nao</td>\n",
       "      <td>Talvez</td>\n",
       "      <td>Um pouco aberto</td>\n",
       "      <td>NaN</td>\n",
       "      <td>NaN</td>\n",
       "      <td>43.0</td>\n",
       "      <td>Feminino</td>\n",
       "      <td>United States</td>\n",
       "      <td>United States</td>\n",
       "      <td>Sim</td>\n",
       "      <td>Sim</td>\n",
       "    </tr>\n",
       "  </tbody>\n",
       "</table>\n",
       "</div>"
      ],
      "text/plain": [
       "  A sua empresa oferece beneficios referentes a saude mental como parte dos beneficios de saude?  \\\n",
       "0                                       Nao elegivel                                               \n",
       "1                                                Nao                                               \n",
       "2                                                Nao                                               \n",
       "3                                                NaN                                               \n",
       "4                                                Sim                                               \n",
       "\n",
       "  A sua empresa ja debateu saude mental formalmente (por exemplo, via um programa de concientizacao corporativo)?  \\\n",
       "0                                                Nao                                                                \n",
       "1                                                Sim                                                                \n",
       "2                                                Nao                                                                \n",
       "3                                                NaN                                                                \n",
       "4                                                Nao                                                                \n",
       "\n",
       "  A sua empresa oferece recursos para aprender mais sobre saude mental e alternativas para buscar ajuda?  \\\n",
       "0                                                Nao                                                       \n",
       "1                                                Sim                                                       \n",
       "2                                                Nao                                                       \n",
       "3                                                NaN                                                       \n",
       "4                                                Nao                                                       \n",
       "\n",
       "  A sua privacidade eh protegida se voce optar por um tratamento de saude mental oferecido pela sua empresa?  \\\n",
       "0                                         Eu nao sei                                                           \n",
       "1                                                Sim                                                           \n",
       "2                                         Eu nao sei                                                           \n",
       "3                                                NaN                                                           \n",
       "4                                                Nao                                                           \n",
       "\n",
       "  Caso voce sinta a necessidade de solicitar uma licenca do trabalho devido a saude mental, quao facil ou dificil seria fazer essa solicitacao?  \\\n",
       "0                                        Muito Facil                                                                                              \n",
       "1                                              Facil                                                                                              \n",
       "2                              Nem facil nem dificil                                                                                              \n",
       "3                                                NaN                                                                                              \n",
       "4                              Nem facil nem dificil                                                                                              \n",
       "\n",
       "  Voce se sentiria confortavel discutindo uma questao de saude mental com o seu chefe direto?  \\\n",
       "0                                                Sim                                            \n",
       "1                                                Sim                                            \n",
       "2                                             Talvez                                            \n",
       "3                                                NaN                                            \n",
       "4                                                Nao                                            \n",
       "\n",
       "  Voce se sentiria confortavel discutindo uma questao de saude mental com os seus pares?  \\\n",
       "0                                             Talvez                                       \n",
       "1                                             Talvez                                       \n",
       "2                                             Talvez                                       \n",
       "3                                                NaN                                       \n",
       "4                                             Talvez                                       \n",
       "\n",
       "  O quao propenso voce estaria em dividir com amigos e familiares que voce possui uma doenca mental?  \\\n",
       "0                                    Um pouco aberto                                                   \n",
       "1                                    Um pouco aberto                                                   \n",
       "2                                    Um pouco aberto                                                   \n",
       "3                                             Neutro                                                   \n",
       "4                                    Um pouco aberto                                                   \n",
       "\n",
       "  Se voce revelou uma doenca mental para um cliente ou contato de negocio, como isso afetou voce e/ou o relacionamento?  \\\n",
       "0                                                NaN                                                                      \n",
       "1                                                NaN                                                                      \n",
       "2                                                NaN                                                                      \n",
       "3                                  Nao tenho certeza                                                                      \n",
       "4                                                NaN                                                                      \n",
       "\n",
       "  Se voce revelou uma doenca mental para um para par ou funcionario, como isso afetou voce e/ou o relacionamento?  \\\n",
       "0                                                NaN                                                                \n",
       "1                                                NaN                                                                \n",
       "2                                                NaN                                                                \n",
       "3                                  Nao tenho certeza                                                                \n",
       "4                                                NaN                                                                \n",
       "\n",
       "   Idade      Genero Qual pais voce reside? Qual pais voce trabalha?  \\\n",
       "0   39.0   Masculino         United Kingdom           United Kingdom   \n",
       "1   29.0   masculino          United States            United States   \n",
       "2   38.0  Masculino          United Kingdom           United Kingdom   \n",
       "3   43.0   masculino         United Kingdom           United Kingdom   \n",
       "4   43.0    Feminino          United States            United States   \n",
       "\n",
       "  Voce ja foi diagnosticado com uma doenca mental?  \\\n",
       "0                                              Sim   \n",
       "1                                              Sim   \n",
       "2                                              Nao   \n",
       "3                                              Sim   \n",
       "4                                              Sim   \n",
       "\n",
       "  Voce ja procurou tratamento profissional para uma doenca mental?  \n",
       "0                                                Nao                \n",
       "1                                                Sim                \n",
       "2                                                Sim                \n",
       "3                                                Sim                \n",
       "4                                                Sim                "
      ]
     },
     "execution_count": 18,
     "metadata": {},
     "output_type": "execute_result"
    }
   ],
   "source": [
    "import pandas as pd\n",
    "import os\n",
    "\n",
    "# Caminho para a pasta com os arquivos CSV\n",
    "data_path = \"../data\"\n",
    "\n",
    "# Listando todos os arquivos CSV na pasta\n",
    "csv_files = [i for i in os.listdir(data_path) if i.endswith('.csv')]\n",
    "\n",
    "# Carregando e combinando os dados\n",
    "df = [pd.read_csv(os.path.join(data_path, file)) for file in csv_files]\n",
    "osmi_df = pd.concat(df, ignore_index=True)\n",
    "\n",
    "# Exibindo as 5 primeiras linhas do DataFrame combinado\n",
    "print(\"Dados combinados:\")\n",
    "osmi_df.head()"
   ]
  },
  {
   "cell_type": "markdown",
   "metadata": {},
   "source": [
    "#### Explorando os dados"
   ]
  },
  {
   "cell_type": "markdown",
   "metadata": {},
   "source": [
    "Informações gerais"
   ]
  },
  {
   "cell_type": "code",
   "execution_count": 19,
   "metadata": {},
   "outputs": [
    {
     "name": "stdout",
     "output_type": "stream",
     "text": [
      "<class 'pandas.core.frame.DataFrame'>\n",
      "RangeIndex: 2739 entries, 0 to 2738\n",
      "Data columns (total 16 columns):\n",
      " #   Column                                                                                                                                         Non-Null Count  Dtype  \n",
      "---  ------                                                                                                                                         --------------  -----  \n",
      " 0   A sua empresa oferece beneficios referentes a saude mental como parte dos beneficios de saude?                                                 2315 non-null   object \n",
      " 1   A sua empresa ja debateu saude mental formalmente (por exemplo, via um programa de concientizacao corporativo)?                                2315 non-null   object \n",
      " 2   A sua empresa oferece recursos para aprender mais sobre saude mental e alternativas para buscar ajuda?                                         2315 non-null   object \n",
      " 3   A sua privacidade eh protegida se voce optar por um tratamento de saude mental oferecido pela sua empresa?                                     2315 non-null   object \n",
      " 4   Caso voce sinta a necessidade de solicitar uma licenca do trabalho devido a saude mental, quao facil ou dificil seria fazer essa solicitacao?  2315 non-null   object \n",
      " 5   Voce se sentiria confortavel discutindo uma questao de saude mental com o seu chefe direto?                                                    2315 non-null   object \n",
      " 6   Voce se sentiria confortavel discutindo uma questao de saude mental com os seus pares?                                                         2315 non-null   object \n",
      " 7   O quao propenso voce estaria em dividir com amigos e familiares que voce possui uma doenca mental?                                             2739 non-null   object \n",
      " 8   Se voce revelou uma doenca mental para um cliente ou contato de negocio, como isso afetou voce e/ou o relacionamento?                          196 non-null    object \n",
      " 9   Se voce revelou uma doenca mental para um para par ou funcionario, como isso afetou voce e/ou o relacionamento?                                424 non-null    object \n",
      " 10  Idade                                                                                                                                          2739 non-null   float64\n",
      " 11  Genero                                                                                                                                         2719 non-null   object \n",
      " 12  Qual pais voce reside?                                                                                                                         2739 non-null   object \n",
      " 13  Qual pais voce trabalha?                                                                                                                       2739 non-null   object \n",
      " 14  Voce ja foi diagnosticado com uma doenca mental?                                                                                               1927 non-null   object \n",
      " 15  Voce ja procurou tratamento profissional para uma doenca mental?                                                                               2739 non-null   object \n",
      "dtypes: float64(1), object(15)\n",
      "memory usage: 342.5+ KB\n"
     ]
    }
   ],
   "source": [
    "# Informações sobre o DataFrame\n",
    "osmi_df.info()"
   ]
  },
  {
   "cell_type": "markdown",
   "metadata": {},
   "source": [
    "#### Realizando a limpeza dos dados"
   ]
  },
  {
   "cell_type": "markdown",
   "metadata": {},
   "source": [
    "##### Renomeando colunas"
   ]
  },
  {
   "cell_type": "markdown",
   "metadata": {},
   "source": [
    "Para facilitar a manipulação, as colunas foram renomeadas com nomes mais curtos e intuitivos, pois as colunas possuem nomes extensos."
   ]
  },
  {
   "cell_type": "code",
   "execution_count": 20,
   "metadata": {},
   "outputs": [
    {
     "name": "stdout",
     "output_type": "stream",
     "text": [
      "Index(['beneficios_saude_mental', 'debate_saude_mental',\n",
      "       'recursos_saude_mental', 'privacidade_tratamento', 'facilidade_licenca',\n",
      "       'conforto_com_chefe', 'conforto_com_pares', 'propensao_dividir_amigos',\n",
      "       'impacto_cliente', 'impacto_funcionario', 'idade', 'genero',\n",
      "       'pais_residencia', 'pais_trabalho', 'diagnostico_mental',\n",
      "       'tratamento_mental'],\n",
      "      dtype='object')\n"
     ]
    }
   ],
   "source": [
    "# Renomeando colunas\n",
    "osmi_df.rename(columns={\n",
    "    \"A sua empresa oferece beneficios referentes a saude mental como parte dos beneficios de saude?\": \"beneficios_saude_mental\",\n",
    "    \"A sua empresa ja debateu saude mental formalmente (por exemplo, via um programa de concientizacao corporativo)?\": \"debate_saude_mental\",\n",
    "    \"A sua empresa oferece recursos para aprender mais sobre saude mental e alternativas para buscar ajuda?\": \"recursos_saude_mental\",\n",
    "    \"A sua privacidade eh protegida se voce optar por um tratamento de saude mental oferecido pela sua empresa?\": \"privacidade_tratamento\",\n",
    "    \"Caso voce sinta a necessidade de solicitar uma licenca do trabalho devido a saude mental, quao facil ou dificil seria fazer essa solicitacao?\": \"facilidade_licenca\",\n",
    "    \"Voce se sentiria confortavel discutindo uma questao de saude mental com o seu chefe direto?\": \"conforto_com_chefe\",\n",
    "    \"Voce se sentiria confortavel discutindo uma questao de saude mental com os seus pares?\": \"conforto_com_pares\",\n",
    "    \"O quao propenso voce estaria em dividir com amigos e familiares que voce possui uma doenca mental?\": \"propensao_dividir_amigos\",\n",
    "    \"Se voce revelou uma doenca mental para um cliente ou contato de negocio, como isso afetou voce e/ou o relacionamento?\": \"impacto_cliente\",\n",
    "    \"Se voce revelou uma doenca mental para um para par ou funcionario, como isso afetou voce e/ou o relacionamento?\": \"impacto_funcionario\",\n",
    "    \"Idade\": \"idade\",\n",
    "    \"Genero\": \"genero\",\n",
    "    \"Qual pais voce reside?\": \"pais_residencia\",\n",
    "    \"Qual pais voce trabalha?\": \"pais_trabalho\",\n",
    "    \"Voce ja foi diagnosticado com uma doenca mental?\": \"diagnostico_mental\",\n",
    "    \"Voce ja procurou tratamento profissional para uma doenca mental?\": \"tratamento_mental\"\n",
    "}, inplace=True)\n",
    "\n",
    "# Conferindo nomes após modificação\n",
    "print(osmi_df.columns)\n"
   ]
  },
  {
   "cell_type": "markdown",
   "metadata": {},
   "source": [
    "##### Lidando com valores nulos"
   ]
  },
  {
   "cell_type": "code",
   "execution_count": 21,
   "metadata": {},
   "outputs": [
    {
     "name": "stdout",
     "output_type": "stream",
     "text": [
      "<class 'pandas.core.frame.DataFrame'>\n",
      "RangeIndex: 2739 entries, 0 to 2738\n",
      "Data columns (total 16 columns):\n",
      " #   Column                    Non-Null Count  Dtype  \n",
      "---  ------                    --------------  -----  \n",
      " 0   beneficios_saude_mental   2315 non-null   object \n",
      " 1   debate_saude_mental       2315 non-null   object \n",
      " 2   recursos_saude_mental     2315 non-null   object \n",
      " 3   privacidade_tratamento    2315 non-null   object \n",
      " 4   facilidade_licenca        2315 non-null   object \n",
      " 5   conforto_com_chefe        2315 non-null   object \n",
      " 6   conforto_com_pares        2315 non-null   object \n",
      " 7   propensao_dividir_amigos  2739 non-null   object \n",
      " 8   impacto_cliente           196 non-null    object \n",
      " 9   impacto_funcionario       424 non-null    object \n",
      " 10  idade                     2739 non-null   float64\n",
      " 11  genero                    2719 non-null   object \n",
      " 12  pais_residencia           2739 non-null   object \n",
      " 13  pais_trabalho             2739 non-null   object \n",
      " 14  diagnostico_mental        1927 non-null   object \n",
      " 15  tratamento_mental         2739 non-null   object \n",
      "dtypes: float64(1), object(15)\n",
      "memory usage: 342.5+ KB\n"
     ]
    }
   ],
   "source": [
    "osmi_df.info()"
   ]
  },
  {
   "cell_type": "markdown",
   "metadata": {},
   "source": [
    "Como é possível observer, o arquivo possui 2739 linhas de dados, porém boa parte das colunas têm menos valores não nulos e isso significa que esses atrubutos possuem valores ausentes."
   ]
  },
  {
   "cell_type": "code",
   "execution_count": 22,
   "metadata": {},
   "outputs": [
    {
     "name": "stdout",
     "output_type": "stream",
     "text": [
      "Número de valores faltantes:\n",
      "- beneficios_saude_mental:424\n",
      "- debate_saude_mental:424\n",
      "- recursos_saude_mental:424\n",
      "- privacidade_tratamento:424\n",
      "- facilidade_licenca:424\n",
      "- conforto_com_chefe:424\n",
      "- conforto_com_pares:424\n",
      "- propensao_dividir_amigos:0\n",
      "- impacto_cliente:2543\n",
      "- impacto_funcionario:2315\n",
      "- idade:0\n",
      "- genero:20\n",
      "- pais_residencia:0\n",
      "- pais_trabalho:0\n",
      "- diagnostico_mental:812\n",
      "- tratamento_mental:0\n"
     ]
    }
   ],
   "source": [
    "print(\"Número de valores faltantes:\")\n",
    "for col in osmi_df.columns:\n",
    "    n_MV = osmi_df[col].isna().sum()\n",
    "    print('- {}:{}'.format(col,n_MV))"
   ]
  },
  {
   "cell_type": "markdown",
   "metadata": {},
   "source": [
    "Analisando toda a base ao mesmo tempo para identificar padrões ou clusters nos valores ausentes."
   ]
  },
  {
   "cell_type": "code",
   "execution_count": 23,
   "metadata": {},
   "outputs": [
    {
     "data": {
      "image/png": "[encoded data removed]",
      "text/plain": [
       "<Figure size 400x700 with 2 Axes>"
      ]
     },
     "metadata": {},
     "output_type": "display_data"
    }
   ],
   "source": [
    "import seaborn as sns\n",
    "import matplotlib.pyplot as plt\n",
    "\n",
    "plt.figure(figsize=(4,7))\n",
    "sns.heatmap(osmi_df.isna())\n",
    "plt.show()"
   ]
  },
  {
   "cell_type": "markdown",
   "metadata": {},
   "source": [
    "Avaliando a quantidade de valores ausentes"
   ]
  },
  {
   "cell_type": "markdown",
   "metadata": {},
   "source": [
    "> Menos que 5% ausentes: excluir direta provavelmente não terá impacto significativo.\n",
    "\n",
    "> 5% - 30% ausentes: considerar métodos de imputação, como preenchimento com moda, mediana, ou categóricos como \"Não informado\".\n",
    "\n",
    "> Maior que 30% ausentes: reavaliar a utilidade da coluna na análise; talvez seja melhor excluí-la."
   ]
  },
  {
   "cell_type": "code",
   "execution_count": 24,
   "metadata": {},
   "outputs": [
    {
     "name": "stdout",
     "output_type": "stream",
     "text": [
      "Percentual de valores ausentes:\n",
      "beneficios_saude_mental     15.480102\n",
      "debate_saude_mental         15.480102\n",
      "recursos_saude_mental       15.480102\n",
      "privacidade_tratamento      15.480102\n",
      "facilidade_licenca          15.480102\n",
      "conforto_com_chefe          15.480102\n",
      "conforto_com_pares          15.480102\n",
      "propensao_dividir_amigos     0.000000\n",
      "impacto_cliente             92.844104\n",
      "impacto_funcionario         84.519898\n",
      "idade                        0.000000\n",
      "genero                       0.730194\n",
      "pais_residencia              0.000000\n",
      "pais_trabalho                0.000000\n",
      "diagnostico_mental          29.645856\n",
      "tratamento_mental            0.000000\n",
      "dtype: float64\n"
     ]
    }
   ],
   "source": [
    "print(\"Percentual de valores ausentes:\")\n",
    "percentual_ausentes = (osmi_df.isnull().sum() / len(osmi_df)) * 100\n",
    "print(percentual_ausentes)\n"
   ]
  },
  {
   "cell_type": "markdown",
   "metadata": {},
   "source": [
    "Colunas com valores ausentes moderados (~15%)"
   ]
  },
  {
   "cell_type": "markdown",
   "metadata": {},
   "source": [
    "> As colunas beneficios_saude_mental, debate_saude_mental, recursos_saude_mental, privacidade_tratamento, facilidade_licenca, conforto_com_chefe, conforto_com_pares têm ~15% de valores ausentes."
   ]
  },
  {
   "cell_type": "code",
   "execution_count": 25,
   "metadata": {},
   "outputs": [],
   "source": [
    "variaveis_categoricas = [\n",
    "    'beneficios_saude_mental', 'debate_saude_mental',\n",
    "    'recursos_saude_mental', 'privacidade_tratamento',\n",
    "    'facilidade_licenca', 'conforto_com_chefe', 'conforto_com_pares'\n",
    "]\n",
    "osmi_df[variaveis_categoricas] = osmi_df[variaveis_categoricas].fillna('Não Informado')"
   ]
  },
  {
   "cell_type": "markdown",
   "metadata": {},
   "source": [
    "Colunas com muitos valores ausentes (> 80%)"
   ]
  },
  {
   "cell_type": "markdown",
   "metadata": {},
   "source": [
    "> As colunas impacto_cliente (92.8%) e impacto_funcionario (84.5%) têm um alto percentual de valores ausentes, o que torna a análise dessas colunas pouco confiável."
   ]
  },
  {
   "cell_type": "code",
   "execution_count": 26,
   "metadata": {},
   "outputs": [],
   "source": [
    "osmi_df.drop(columns=['impacto_cliente', 'impacto_funcionario'], inplace=True)"
   ]
  },
  {
   "cell_type": "markdown",
   "metadata": {},
   "source": [
    "Colunas com valores ausentes baixos (< 1%)"
   ]
  },
  {
   "cell_type": "markdown",
   "metadata": {},
   "source": [
    "> A coluna genero (0.73%) tem poucos valores ausentes."
   ]
  },
  {
   "cell_type": "code",
   "execution_count": 27,
   "metadata": {},
   "outputs": [],
   "source": [
    "osmi_df['genero'] = osmi_df['genero'].fillna('Não informado')"
   ]
  },
  {
   "cell_type": "markdown",
   "metadata": {},
   "source": [
    "Coluna com valores ausentes moderados (~30%)"
   ]
  },
  {
   "cell_type": "markdown",
   "metadata": {},
   "source": [
    "> A coluna diagnostico_mental (29.6%) possui um percentual maior de valores ausentes. Será preenchido com \"Não informado\" para evitar perda de dados."
   ]
  },
  {
   "cell_type": "code",
   "execution_count": 28,
   "metadata": {},
   "outputs": [],
   "source": [
    "osmi_df['diagnostico_mental'] = osmi_df['diagnostico_mental'].fillna('Não informado')"
   ]
  },
  {
   "cell_type": "code",
   "execution_count": 31,
   "metadata": {},
   "outputs": [
    {
     "name": "stdout",
     "output_type": "stream",
     "text": [
      "Verificando aquivo após modificações:\n",
      "<class 'pandas.core.frame.DataFrame'>\n",
      "RangeIndex: 2739 entries, 0 to 2738\n",
      "Data columns (total 14 columns):\n",
      " #   Column                    Non-Null Count  Dtype  \n",
      "---  ------                    --------------  -----  \n",
      " 0   beneficios_saude_mental   2739 non-null   object \n",
      " 1   debate_saude_mental       2739 non-null   object \n",
      " 2   recursos_saude_mental     2739 non-null   object \n",
      " 3   privacidade_tratamento    2739 non-null   object \n",
      " 4   facilidade_licenca        2739 non-null   object \n",
      " 5   conforto_com_chefe        2739 non-null   object \n",
      " 6   conforto_com_pares        2739 non-null   object \n",
      " 7   propensao_dividir_amigos  2739 non-null   object \n",
      " 8   idade                     2739 non-null   float64\n",
      " 9   genero                    2739 non-null   object \n",
      " 10  pais_residencia           2739 non-null   object \n",
      " 11  pais_trabalho             2739 non-null   object \n",
      " 12  diagnostico_mental        2739 non-null   object \n",
      " 13  tratamento_mental         2739 non-null   object \n",
      "dtypes: float64(1), object(13)\n",
      "memory usage: 299.7+ KB\n"
     ]
    }
   ],
   "source": [
    "print(\"Verificando aquivo após modificações:\")\n",
    "osmi_df.info()"
   ]
  },
  {
   "cell_type": "markdown",
   "metadata": {},
   "source": [
    "##### Padronizando colunas"
   ]
  },
  {
   "cell_type": "markdown",
   "metadata": {},
   "source": [
    "Coluna: beneficios_saude_mental\n"
   ]
  },
  {
   "cell_type": "markdown",
   "metadata": {},
   "source": [
    "Problema: respostas como \"Nao elegivel\" e \"Nao elegivel - NA\" podem ser agrupadas. Também há valores nulos (nan)."
   ]
  },
  {
   "cell_type": "code",
   "execution_count": null,
   "metadata": {},
   "outputs": [],
   "source": []
  },
  {
   "cell_type": "code",
   "execution_count": null,
   "metadata": {},
   "outputs": [],
   "source": []
  },
  {
   "cell_type": "markdown",
   "metadata": {},
   "source": [
    "Colunas: debate_saude_mental, recursos_saude_mental, privacidade_tratamento"
   ]
  },
  {
   "cell_type": "markdown",
   "metadata": {},
   "source": [
    "Problema: valores como \"Eu nao sei\" podem ser padronizados, e valores nulos tratados"
   ]
  },
  {
   "cell_type": "code",
   "execution_count": null,
   "metadata": {},
   "outputs": [],
   "source": []
  },
  {
   "cell_type": "markdown",
   "metadata": {},
   "source": [
    "Coluna: facilidade_licenca"
   ]
  },
  {
   "cell_type": "markdown",
   "metadata": {},
   "source": [
    "Problema: muitas respostas com diferentes níveis de facilidade e valores nulos."
   ]
  },
  {
   "cell_type": "code",
   "execution_count": null,
   "metadata": {},
   "outputs": [],
   "source": []
  },
  {
   "cell_type": "markdown",
   "metadata": {},
   "source": [
    "Colunas: conforto_com_chefe e conforto_com_pares"
   ]
  },
  {
   "cell_type": "markdown",
   "metadata": {},
   "source": [
    "Problema: valores como \"Talvez\" podem ser mantidos ou simplificados."
   ]
  },
  {
   "cell_type": "code",
   "execution_count": null,
   "metadata": {},
   "outputs": [],
   "source": []
  },
  {
   "cell_type": "markdown",
   "metadata": {},
   "source": [
    "Coluna: propensao_dividir_amigos"
   ]
  },
  {
   "cell_type": "markdown",
   "metadata": {},
   "source": [
    "Problema: mistura de valores numéricos e descritivos."
   ]
  },
  {
   "cell_type": "code",
   "execution_count": null,
   "metadata": {},
   "outputs": [],
   "source": [
    "\n"
   ]
  },
  {
   "cell_type": "code",
   "execution_count": null,
   "metadata": {},
   "outputs": [],
   "source": []
  },
  {
   "cell_type": "markdown",
   "metadata": {},
   "source": [
    "A coluna gênero contém valores variados. Por isso, será padronizado."
   ]
  },
  {
   "cell_type": "code",
   "execution_count": null,
   "metadata": {},
   "outputs": [],
   "source": []
  },
  {
   "cell_type": "code",
   "execution_count": null,
   "metadata": {},
   "outputs": [],
   "source": []
  },
  {
   "cell_type": "markdown",
   "metadata": {},
   "source": [
    "##### Verificando idade"
   ]
  },
  {
   "cell_type": "markdown",
   "metadata": {},
   "source": [
    "Garantindo que idade esteja dentro de um intervalo razoável."
   ]
  },
  {
   "cell_type": "code",
   "execution_count": 29,
   "metadata": {},
   "outputs": [
    {
     "ename": "NameError",
     "evalue": "name 'cleaned_data' is not defined",
     "output_type": "error",
     "traceback": [
      "\u001b[1;31m---------------------------------------------------------------------------\u001b[0m",
      "\u001b[1;31mNameError\u001b[0m                                 Traceback (most recent call last)",
      "Cell \u001b[1;32mIn[29], line 2\u001b[0m\n\u001b[0;32m      1\u001b[0m \u001b[38;5;66;03m# Verificando idades fora do padrão (<18 ou >100)\u001b[39;00m\n\u001b[1;32m----> 2\u001b[0m outliers_idade \u001b[38;5;241m=\u001b[39m \u001b[43mcleaned_data\u001b[49m[(cleaned_data[\u001b[38;5;124m'\u001b[39m\u001b[38;5;124midade\u001b[39m\u001b[38;5;124m'\u001b[39m] \u001b[38;5;241m<\u001b[39m \u001b[38;5;241m18\u001b[39m) \u001b[38;5;241m|\u001b[39m (cleaned_data[\u001b[38;5;124m'\u001b[39m\u001b[38;5;124midade\u001b[39m\u001b[38;5;124m'\u001b[39m] \u001b[38;5;241m>\u001b[39m \u001b[38;5;241m100\u001b[39m)]\n\u001b[0;32m      3\u001b[0m \u001b[38;5;28mprint\u001b[39m(\u001b[38;5;124m\"\u001b[39m\u001b[38;5;124mIdades fora do padrão:\u001b[39m\u001b[38;5;124m\"\u001b[39m)\n\u001b[0;32m      4\u001b[0m \u001b[38;5;28mprint\u001b[39m(outliers_idade)\n",
      "\u001b[1;31mNameError\u001b[0m: name 'cleaned_data' is not defined"
     ]
    }
   ],
   "source": [
    "# Verificando idades fora do padrão (<18 ou >100)\n",
    "outliers_idade = cleaned_data[(cleaned_data['idade'] < 18) | (cleaned_data['idade'] > 100)]\n",
    "print(\"Idades fora do padrão:\")\n",
    "print(outliers_idade)\n",
    "\n",
    "# Removendo idades fora do padrão\n",
    "cleaned_data = cleaned_data[(cleaned_data['idade'] >= 18) & (cleaned_data['idade'] <= 100)]\n"
   ]
  },
  {
   "cell_type": "markdown",
   "metadata": {},
   "source": [
    "##### Confirmando limpeza"
   ]
  },
  {
   "cell_type": "code",
   "execution_count": null,
   "metadata": {},
   "outputs": [],
   "source": [
    "# Conferindo as primeiras linhas após limpeza\n",
    "cleaned_data.head()\n",
    "\n",
    "# Resumo do DataFrame após a limpeza\n",
    "cleaned_data.info()\n"
   ]
  },
  {
   "cell_type": "markdown",
   "metadata": {},
   "source": [
    "Verificando outras colunas"
   ]
  },
  {
   "cell_type": "code",
   "execution_count": null,
   "metadata": {},
   "outputs": [],
   "source": [
    "print(cleaned_data.shape)\n",
    "print(cleaned_data.info())"
   ]
  },
  {
   "cell_type": "code",
   "execution_count": null,
   "metadata": {},
   "outputs": [],
   "source": [
    "print(\"beneficios_saude_mental\")\n",
    "cleaned_data['beneficios_saude_mental'].unique()\n"
   ]
  },
  {
   "cell_type": "code",
   "execution_count": null,
   "metadata": {},
   "outputs": [],
   "source": [
    "print(\"debate_saude_mental\")\n",
    "cleaned_data['debate_saude_mental'].unique()\n",
    "\n"
   ]
  },
  {
   "cell_type": "code",
   "execution_count": null,
   "metadata": {},
   "outputs": [],
   "source": [
    "print(\"\\nrecursos_saude_mental \")\n",
    "cleaned_data['recursos_saude_mental'].unique()\n"
   ]
  },
  {
   "cell_type": "code",
   "execution_count": null,
   "metadata": {},
   "outputs": [],
   "source": [
    "print(\"\\nprivacidade_tratamento\")\n",
    "cleaned_data['privacidade_tratamento'].unique()\n"
   ]
  },
  {
   "cell_type": "code",
   "execution_count": null,
   "metadata": {},
   "outputs": [],
   "source": [
    "print(\"\\nfacilidade_licenca\")\n",
    "cleaned_data['facilidade_licenca'].unique()\n"
   ]
  },
  {
   "cell_type": "code",
   "execution_count": null,
   "metadata": {},
   "outputs": [],
   "source": [
    "print(\"\\nconforto_com_chefe\")\n",
    "cleaned_data['conforto_com_chefe'].unique()\n"
   ]
  },
  {
   "cell_type": "code",
   "execution_count": null,
   "metadata": {},
   "outputs": [],
   "source": [
    "print(\"\\nconforto_com_pares\")\n",
    "cleaned_data['conforto_com_chefe'].unique()\n"
   ]
  },
  {
   "cell_type": "code",
   "execution_count": null,
   "metadata": {},
   "outputs": [],
   "source": [
    "print(\"\\npropensao_dividir_amigos\")\n",
    "cleaned_data['propensao_dividir_amigos'].unique()\n"
   ]
  },
  {
   "cell_type": "code",
   "execution_count": null,
   "metadata": {},
   "outputs": [],
   "source": [
    "print(\"\\npais_residencia\")\n",
    "cleaned_data['pais_residencia'].unique()\n"
   ]
  },
  {
   "cell_type": "code",
   "execution_count": null,
   "metadata": {},
   "outputs": [],
   "source": [
    "print(\"\\npais_trabalho\")\n",
    "cleaned_data['pais_trabalho'].unique()\n"
   ]
  },
  {
   "cell_type": "code",
   "execution_count": null,
   "metadata": {},
   "outputs": [],
   "source": [
    "print(\"\\ndiagnostico_mental\")\n",
    "cleaned_data['diagnostico_mental'].unique()\n"
   ]
  },
  {
   "cell_type": "code",
   "execution_count": null,
   "metadata": {},
   "outputs": [],
   "source": [
    "print(\"\\ntratamento_mental\")\n",
    "cleaned_data['tratamento_mental'].unique()"
   ]
  }
 ],
 "metadata": {
  "kernelspec": {
   "display_name": "analise_saude_mental",
   "language": "python",
   "name": "python3"
  },
  "language_info": {
   "codemirror_mode": {
    "name": "ipython",
    "version": 3
   },
   "file_extension": ".py",
   "mimetype": "text/x-python",
   "name": "python",
   "nbconvert_exporter": "python",
   "pygments_lexer": "ipython3",
   "version": "3.12.5"
  }
 },
 "nbformat": 4,
 "nbformat_minor": 2
}
