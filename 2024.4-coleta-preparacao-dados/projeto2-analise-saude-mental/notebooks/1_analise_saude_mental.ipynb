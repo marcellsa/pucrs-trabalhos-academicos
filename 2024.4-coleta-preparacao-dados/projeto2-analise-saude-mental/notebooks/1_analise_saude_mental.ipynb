{
 "cells": [
  {
   "cell_type": "markdown",
   "metadata": {},
   "source": [
    "## Ánalise da dados de saúde mental"
   ]
  },
  {
   "cell_type": "markdown",
   "metadata": {},
   "source": [
    "#### Carregando e combinando os dados"
   ]
  },
  {
   "cell_type": "code",
   "execution_count": 30,
   "metadata": {},
   "outputs": [
    {
     "name": "stdout",
     "output_type": "stream",
     "text": [
      "Dados combinados:\n"
     ]
    },
    {
     "data": {
      "text/html": [
       "<div>\n",
       "<style scoped>\n",
       "    .dataframe tbody tr th:only-of-type {\n",
       "        vertical-align: middle;\n",
       "    }\n",
       "\n",
       "    .dataframe tbody tr th {\n",
       "        vertical-align: top;\n",
       "    }\n",
       "\n",
       "    .dataframe thead th {\n",
       "        text-align: right;\n",
       "    }\n",
       "</style>\n",
       "<table border=\"1\" class=\"dataframe\">\n",
       "  <thead>\n",
       "    <tr style=\"text-align: right;\">\n",
       "      <th></th>\n",
       "      <th>A sua empresa oferece beneficios referentes a saude mental como parte dos beneficios de saude?</th>\n",
       "      <th>A sua empresa ja debateu saude mental formalmente (por exemplo, via um programa de concientizacao corporativo)?</th>\n",
       "      <th>A sua empresa oferece recursos para aprender mais sobre saude mental e alternativas para buscar ajuda?</th>\n",
       "      <th>A sua privacidade eh protegida se voce optar por um tratamento de saude mental oferecido pela sua empresa?</th>\n",
       "      <th>Caso voce sinta a necessidade de solicitar uma licenca do trabalho devido a saude mental, quao facil ou dificil seria fazer essa solicitacao?</th>\n",
       "      <th>Voce se sentiria confortavel discutindo uma questao de saude mental com o seu chefe direto?</th>\n",
       "      <th>Voce se sentiria confortavel discutindo uma questao de saude mental com os seus pares?</th>\n",
       "      <th>O quao propenso voce estaria em dividir com amigos e familiares que voce possui uma doenca mental?</th>\n",
       "      <th>Se voce revelou uma doenca mental para um cliente ou contato de negocio, como isso afetou voce e/ou o relacionamento?</th>\n",
       "      <th>Se voce revelou uma doenca mental para um para par ou funcionario, como isso afetou voce e/ou o relacionamento?</th>\n",
       "      <th>Idade</th>\n",
       "      <th>Genero</th>\n",
       "      <th>Qual pais voce reside?</th>\n",
       "      <th>Qual pais voce trabalha?</th>\n",
       "      <th>Voce ja foi diagnosticado com uma doenca mental?</th>\n",
       "      <th>Voce ja procurou tratamento profissional para uma doenca mental?</th>\n",
       "    </tr>\n",
       "  </thead>\n",
       "  <tbody>\n",
       "    <tr>\n",
       "      <th>0</th>\n",
       "      <td>Nao elegivel</td>\n",
       "      <td>Nao</td>\n",
       "      <td>Nao</td>\n",
       "      <td>Eu nao sei</td>\n",
       "      <td>Muito Facil</td>\n",
       "      <td>Sim</td>\n",
       "      <td>Talvez</td>\n",
       "      <td>Um pouco aberto</td>\n",
       "      <td>NaN</td>\n",
       "      <td>NaN</td>\n",
       "      <td>39.0</td>\n",
       "      <td>Masculino</td>\n",
       "      <td>United Kingdom</td>\n",
       "      <td>United Kingdom</td>\n",
       "      <td>Sim</td>\n",
       "      <td>Nao</td>\n",
       "    </tr>\n",
       "    <tr>\n",
       "      <th>1</th>\n",
       "      <td>Nao</td>\n",
       "      <td>Sim</td>\n",
       "      <td>Sim</td>\n",
       "      <td>Sim</td>\n",
       "      <td>Facil</td>\n",
       "      <td>Sim</td>\n",
       "      <td>Talvez</td>\n",
       "      <td>Um pouco aberto</td>\n",
       "      <td>NaN</td>\n",
       "      <td>NaN</td>\n",
       "      <td>29.0</td>\n",
       "      <td>masculino</td>\n",
       "      <td>United States</td>\n",
       "      <td>United States</td>\n",
       "      <td>Sim</td>\n",
       "      <td>Sim</td>\n",
       "    </tr>\n",
       "    <tr>\n",
       "      <th>2</th>\n",
       "      <td>Nao</td>\n",
       "      <td>Nao</td>\n",
       "      <td>Nao</td>\n",
       "      <td>Eu nao sei</td>\n",
       "      <td>Nem facil nem dificil</td>\n",
       "      <td>Talvez</td>\n",
       "      <td>Talvez</td>\n",
       "      <td>Um pouco aberto</td>\n",
       "      <td>NaN</td>\n",
       "      <td>NaN</td>\n",
       "      <td>38.0</td>\n",
       "      <td>Masculino</td>\n",
       "      <td>United Kingdom</td>\n",
       "      <td>United Kingdom</td>\n",
       "      <td>Nao</td>\n",
       "      <td>Sim</td>\n",
       "    </tr>\n",
       "    <tr>\n",
       "      <th>3</th>\n",
       "      <td>NaN</td>\n",
       "      <td>NaN</td>\n",
       "      <td>NaN</td>\n",
       "      <td>NaN</td>\n",
       "      <td>NaN</td>\n",
       "      <td>NaN</td>\n",
       "      <td>NaN</td>\n",
       "      <td>Neutro</td>\n",
       "      <td>Nao tenho certeza</td>\n",
       "      <td>Nao tenho certeza</td>\n",
       "      <td>43.0</td>\n",
       "      <td>masculino</td>\n",
       "      <td>United Kingdom</td>\n",
       "      <td>United Kingdom</td>\n",
       "      <td>Sim</td>\n",
       "      <td>Sim</td>\n",
       "    </tr>\n",
       "    <tr>\n",
       "      <th>4</th>\n",
       "      <td>Sim</td>\n",
       "      <td>Nao</td>\n",
       "      <td>Nao</td>\n",
       "      <td>Nao</td>\n",
       "      <td>Nem facil nem dificil</td>\n",
       "      <td>Nao</td>\n",
       "      <td>Talvez</td>\n",
       "      <td>Um pouco aberto</td>\n",
       "      <td>NaN</td>\n",
       "      <td>NaN</td>\n",
       "      <td>43.0</td>\n",
       "      <td>Feminino</td>\n",
       "      <td>United States</td>\n",
       "      <td>United States</td>\n",
       "      <td>Sim</td>\n",
       "      <td>Sim</td>\n",
       "    </tr>\n",
       "  </tbody>\n",
       "</table>\n",
       "</div>"
      ],
      "text/plain": [
       "  A sua empresa oferece beneficios referentes a saude mental como parte dos beneficios de saude?  \\\n",
       "0                                       Nao elegivel                                               \n",
       "1                                                Nao                                               \n",
       "2                                                Nao                                               \n",
       "3                                                NaN                                               \n",
       "4                                                Sim                                               \n",
       "\n",
       "  A sua empresa ja debateu saude mental formalmente (por exemplo, via um programa de concientizacao corporativo)?  \\\n",
       "0                                                Nao                                                                \n",
       "1                                                Sim                                                                \n",
       "2                                                Nao                                                                \n",
       "3                                                NaN                                                                \n",
       "4                                                Nao                                                                \n",
       "\n",
       "  A sua empresa oferece recursos para aprender mais sobre saude mental e alternativas para buscar ajuda?  \\\n",
       "0                                                Nao                                                       \n",
       "1                                                Sim                                                       \n",
       "2                                                Nao                                                       \n",
       "3                                                NaN                                                       \n",
       "4                                                Nao                                                       \n",
       "\n",
       "  A sua privacidade eh protegida se voce optar por um tratamento de saude mental oferecido pela sua empresa?  \\\n",
       "0                                         Eu nao sei                                                           \n",
       "1                                                Sim                                                           \n",
       "2                                         Eu nao sei                                                           \n",
       "3                                                NaN                                                           \n",
       "4                                                Nao                                                           \n",
       "\n",
       "  Caso voce sinta a necessidade de solicitar uma licenca do trabalho devido a saude mental, quao facil ou dificil seria fazer essa solicitacao?  \\\n",
       "0                                        Muito Facil                                                                                              \n",
       "1                                              Facil                                                                                              \n",
       "2                              Nem facil nem dificil                                                                                              \n",
       "3                                                NaN                                                                                              \n",
       "4                              Nem facil nem dificil                                                                                              \n",
       "\n",
       "  Voce se sentiria confortavel discutindo uma questao de saude mental com o seu chefe direto?  \\\n",
       "0                                                Sim                                            \n",
       "1                                                Sim                                            \n",
       "2                                             Talvez                                            \n",
       "3                                                NaN                                            \n",
       "4                                                Nao                                            \n",
       "\n",
       "  Voce se sentiria confortavel discutindo uma questao de saude mental com os seus pares?  \\\n",
       "0                                             Talvez                                       \n",
       "1                                             Talvez                                       \n",
       "2                                             Talvez                                       \n",
       "3                                                NaN                                       \n",
       "4                                             Talvez                                       \n",
       "\n",
       "  O quao propenso voce estaria em dividir com amigos e familiares que voce possui uma doenca mental?  \\\n",
       "0                                    Um pouco aberto                                                   \n",
       "1                                    Um pouco aberto                                                   \n",
       "2                                    Um pouco aberto                                                   \n",
       "3                                             Neutro                                                   \n",
       "4                                    Um pouco aberto                                                   \n",
       "\n",
       "  Se voce revelou uma doenca mental para um cliente ou contato de negocio, como isso afetou voce e/ou o relacionamento?  \\\n",
       "0                                                NaN                                                                      \n",
       "1                                                NaN                                                                      \n",
       "2                                                NaN                                                                      \n",
       "3                                  Nao tenho certeza                                                                      \n",
       "4                                                NaN                                                                      \n",
       "\n",
       "  Se voce revelou uma doenca mental para um para par ou funcionario, como isso afetou voce e/ou o relacionamento?  \\\n",
       "0                                                NaN                                                                \n",
       "1                                                NaN                                                                \n",
       "2                                                NaN                                                                \n",
       "3                                  Nao tenho certeza                                                                \n",
       "4                                                NaN                                                                \n",
       "\n",
       "   Idade      Genero Qual pais voce reside? Qual pais voce trabalha?  \\\n",
       "0   39.0   Masculino         United Kingdom           United Kingdom   \n",
       "1   29.0   masculino          United States            United States   \n",
       "2   38.0  Masculino          United Kingdom           United Kingdom   \n",
       "3   43.0   masculino         United Kingdom           United Kingdom   \n",
       "4   43.0    Feminino          United States            United States   \n",
       "\n",
       "  Voce ja foi diagnosticado com uma doenca mental?  \\\n",
       "0                                              Sim   \n",
       "1                                              Sim   \n",
       "2                                              Nao   \n",
       "3                                              Sim   \n",
       "4                                              Sim   \n",
       "\n",
       "  Voce ja procurou tratamento profissional para uma doenca mental?  \n",
       "0                                                Nao                \n",
       "1                                                Sim                \n",
       "2                                                Sim                \n",
       "3                                                Sim                \n",
       "4                                                Sim                "
      ]
     },
     "execution_count": 30,
     "metadata": {},
     "output_type": "execute_result"
    }
   ],
   "source": [
    "import pandas as pd\n",
    "import os\n",
    "\n",
    "# Caminho para a pasta com os arquivos CSV\n",
    "data_path = \"../data\"\n",
    "\n",
    "# Listando todos os arquivos CSV na pasta\n",
    "csv_files = [i for i in os.listdir(data_path) if i.endswith('.csv')]\n",
    "\n",
    "# Carregando e combinando os dados\n",
    "df = [pd.read_csv(os.path.join(data_path, file)) for file in csv_files]\n",
    "osmi_df = pd.concat(df, ignore_index=True)\n",
    "\n",
    "# Exibindo as 5 primeiras linhas do DataFrame combinado\n",
    "print(\"Dados combinados:\")\n",
    "osmi_df.head()"
   ]
  },
  {
   "cell_type": "markdown",
   "metadata": {},
   "source": [
    "#### Explorando os dados"
   ]
  },
  {
   "cell_type": "markdown",
   "metadata": {},
   "source": [
    "Informações gerais"
   ]
  },
  {
   "cell_type": "code",
   "execution_count": 31,
   "metadata": {},
   "outputs": [
    {
     "name": "stdout",
     "output_type": "stream",
     "text": [
      "<class 'pandas.core.frame.DataFrame'>\n",
      "RangeIndex: 2739 entries, 0 to 2738\n",
      "Data columns (total 16 columns):\n",
      " #   Column                                                                                                                                         Non-Null Count  Dtype  \n",
      "---  ------                                                                                                                                         --------------  -----  \n",
      " 0   A sua empresa oferece beneficios referentes a saude mental como parte dos beneficios de saude?                                                 2315 non-null   object \n",
      " 1   A sua empresa ja debateu saude mental formalmente (por exemplo, via um programa de concientizacao corporativo)?                                2315 non-null   object \n",
      " 2   A sua empresa oferece recursos para aprender mais sobre saude mental e alternativas para buscar ajuda?                                         2315 non-null   object \n",
      " 3   A sua privacidade eh protegida se voce optar por um tratamento de saude mental oferecido pela sua empresa?                                     2315 non-null   object \n",
      " 4   Caso voce sinta a necessidade de solicitar uma licenca do trabalho devido a saude mental, quao facil ou dificil seria fazer essa solicitacao?  2315 non-null   object \n",
      " 5   Voce se sentiria confortavel discutindo uma questao de saude mental com o seu chefe direto?                                                    2315 non-null   object \n",
      " 6   Voce se sentiria confortavel discutindo uma questao de saude mental com os seus pares?                                                         2315 non-null   object \n",
      " 7   O quao propenso voce estaria em dividir com amigos e familiares que voce possui uma doenca mental?                                             2739 non-null   object \n",
      " 8   Se voce revelou uma doenca mental para um cliente ou contato de negocio, como isso afetou voce e/ou o relacionamento?                          196 non-null    object \n",
      " 9   Se voce revelou uma doenca mental para um para par ou funcionario, como isso afetou voce e/ou o relacionamento?                                424 non-null    object \n",
      " 10  Idade                                                                                                                                          2739 non-null   float64\n",
      " 11  Genero                                                                                                                                         2719 non-null   object \n",
      " 12  Qual pais voce reside?                                                                                                                         2739 non-null   object \n",
      " 13  Qual pais voce trabalha?                                                                                                                       2739 non-null   object \n",
      " 14  Voce ja foi diagnosticado com uma doenca mental?                                                                                               1927 non-null   object \n",
      " 15  Voce ja procurou tratamento profissional para uma doenca mental?                                                                               2739 non-null   object \n",
      "dtypes: float64(1), object(15)\n",
      "memory usage: 342.5+ KB\n"
     ]
    }
   ],
   "source": [
    "# Informações sobre o DataFrame\n",
    "osmi_df.info()"
   ]
  },
  {
   "cell_type": "markdown",
   "metadata": {},
   "source": [
    "#### Realizando a limpeza dos dados"
   ]
  },
  {
   "cell_type": "markdown",
   "metadata": {},
   "source": [
    "##### Renomeando colunas"
   ]
  },
  {
   "cell_type": "markdown",
   "metadata": {},
   "source": [
    "Para facilitar a manipulação, as colunas foram renomeadas com nomes mais curtos e intuitivos, pois as colunas possuem nomes extensos."
   ]
  },
  {
   "cell_type": "code",
   "execution_count": 32,
   "metadata": {},
   "outputs": [
    {
     "name": "stdout",
     "output_type": "stream",
     "text": [
      "Index(['beneficios_saude_mental', 'debate_saude_mental',\n",
      "       'recursos_saude_mental', 'privacidade_tratamento', 'facilidade_licenca',\n",
      "       'conforto_com_chefe', 'conforto_com_pares', 'propensao_dividir_amigos',\n",
      "       'impacto_cliente', 'impacto_funcionario', 'idade', 'genero',\n",
      "       'pais_residencia', 'pais_trabalho', 'diagnostico_mental',\n",
      "       'tratamento_mental'],\n",
      "      dtype='object')\n"
     ]
    }
   ],
   "source": [
    "# Renomeando colunas\n",
    "osmi_df.rename(columns={\n",
    "    \"A sua empresa oferece beneficios referentes a saude mental como parte dos beneficios de saude?\": \"beneficios_saude_mental\",\n",
    "    \"A sua empresa ja debateu saude mental formalmente (por exemplo, via um programa de concientizacao corporativo)?\": \"debate_saude_mental\",\n",
    "    \"A sua empresa oferece recursos para aprender mais sobre saude mental e alternativas para buscar ajuda?\": \"recursos_saude_mental\",\n",
    "    \"A sua privacidade eh protegida se voce optar por um tratamento de saude mental oferecido pela sua empresa?\": \"privacidade_tratamento\",\n",
    "    \"Caso voce sinta a necessidade de solicitar uma licenca do trabalho devido a saude mental, quao facil ou dificil seria fazer essa solicitacao?\": \"facilidade_licenca\",\n",
    "    \"Voce se sentiria confortavel discutindo uma questao de saude mental com o seu chefe direto?\": \"conforto_com_chefe\",\n",
    "    \"Voce se sentiria confortavel discutindo uma questao de saude mental com os seus pares?\": \"conforto_com_pares\",\n",
    "    \"O quao propenso voce estaria em dividir com amigos e familiares que voce possui uma doenca mental?\": \"propensao_dividir_amigos\",\n",
    "    \"Se voce revelou uma doenca mental para um cliente ou contato de negocio, como isso afetou voce e/ou o relacionamento?\": \"impacto_cliente\",\n",
    "    \"Se voce revelou uma doenca mental para um para par ou funcionario, como isso afetou voce e/ou o relacionamento?\": \"impacto_funcionario\",\n",
    "    \"Idade\": \"idade\",\n",
    "    \"Genero\": \"genero\",\n",
    "    \"Qual pais voce reside?\": \"pais_residencia\",\n",
    "    \"Qual pais voce trabalha?\": \"pais_trabalho\",\n",
    "    \"Voce ja foi diagnosticado com uma doenca mental?\": \"diagnostico_mental\",\n",
    "    \"Voce ja procurou tratamento profissional para uma doenca mental?\": \"tratamento_mental\"\n",
    "}, inplace=True)\n",
    "\n",
    "# Conferindo nomes após modificação\n",
    "print(osmi_df.columns)\n"
   ]
  },
  {
   "cell_type": "markdown",
   "metadata": {},
   "source": [
    "##### Lidando com valores nulos"
   ]
  },
  {
   "cell_type": "code",
   "execution_count": 33,
   "metadata": {},
   "outputs": [
    {
     "name": "stdout",
     "output_type": "stream",
     "text": [
      "<class 'pandas.core.frame.DataFrame'>\n",
      "RangeIndex: 2739 entries, 0 to 2738\n",
      "Data columns (total 16 columns):\n",
      " #   Column                    Non-Null Count  Dtype  \n",
      "---  ------                    --------------  -----  \n",
      " 0   beneficios_saude_mental   2315 non-null   object \n",
      " 1   debate_saude_mental       2315 non-null   object \n",
      " 2   recursos_saude_mental     2315 non-null   object \n",
      " 3   privacidade_tratamento    2315 non-null   object \n",
      " 4   facilidade_licenca        2315 non-null   object \n",
      " 5   conforto_com_chefe        2315 non-null   object \n",
      " 6   conforto_com_pares        2315 non-null   object \n",
      " 7   propensao_dividir_amigos  2739 non-null   object \n",
      " 8   impacto_cliente           196 non-null    object \n",
      " 9   impacto_funcionario       424 non-null    object \n",
      " 10  idade                     2739 non-null   float64\n",
      " 11  genero                    2719 non-null   object \n",
      " 12  pais_residencia           2739 non-null   object \n",
      " 13  pais_trabalho             2739 non-null   object \n",
      " 14  diagnostico_mental        1927 non-null   object \n",
      " 15  tratamento_mental         2739 non-null   object \n",
      "dtypes: float64(1), object(15)\n",
      "memory usage: 342.5+ KB\n"
     ]
    }
   ],
   "source": [
    "osmi_df.info()"
   ]
  },
  {
   "cell_type": "markdown",
   "metadata": {},
   "source": [
    "Como é possível observer, o arquivo possui 2739 linhas de dados, porém boa parte das colunas têm menos valores não nulos e isso significa que esses atrubutos possuem valores ausentes."
   ]
  },
  {
   "cell_type": "code",
   "execution_count": 34,
   "metadata": {},
   "outputs": [
    {
     "name": "stdout",
     "output_type": "stream",
     "text": [
      "Número de valores faltantes:\n",
      "- beneficios_saude_mental:424\n",
      "- debate_saude_mental:424\n",
      "- recursos_saude_mental:424\n",
      "- privacidade_tratamento:424\n",
      "- facilidade_licenca:424\n",
      "- conforto_com_chefe:424\n",
      "- conforto_com_pares:424\n",
      "- propensao_dividir_amigos:0\n",
      "- impacto_cliente:2543\n",
      "- impacto_funcionario:2315\n",
      "- idade:0\n",
      "- genero:20\n",
      "- pais_residencia:0\n",
      "- pais_trabalho:0\n",
      "- diagnostico_mental:812\n",
      "- tratamento_mental:0\n"
     ]
    }
   ],
   "source": [
    "print(\"Número de valores faltantes:\")\n",
    "for col in osmi_df.columns:\n",
    "    n_MV = osmi_df[col].isna().sum()\n",
    "    print('- {}:{}'.format(col,n_MV))"
   ]
  },
  {
   "cell_type": "markdown",
   "metadata": {},
   "source": [
    "Analisando toda a base ao mesmo tempo para identificar padrões ou clusters nos valores ausentes."
   ]
  },
  {
   "cell_type": "code",
   "execution_count": 35,
   "metadata": {},
   "outputs": [
    {
     "data": {
      "image/png": "[encoded data removed]",
      "text/plain": [
       "<Figure size 400x700 with 2 Axes>"
      ]
     },
     "metadata": {},
     "output_type": "display_data"
    }
   ],
   "source": [
    "import seaborn as sns\n",
    "import matplotlib.pyplot as plt\n",
    "\n",
    "plt.figure(figsize=(4,7))\n",
    "sns.heatmap(osmi_df.isna())\n",
    "plt.show()"
   ]
  },
  {
   "cell_type": "markdown",
   "metadata": {},
   "source": [
    "Avaliando a quantidade de valores ausentes"
   ]
  },
  {
   "cell_type": "markdown",
   "metadata": {},
   "source": [
    "> Menos que 5% ausentes: excluir direta provavelmente não terá impacto significativo.\n",
    "\n",
    "> 5% - 30% ausentes: considerar métodos de imputação, como preenchimento com moda, mediana, ou categóricos como \"Não informado\".\n",
    "\n",
    "> Maior que 30% ausentes: reavaliar a utilidade da coluna na análise; talvez seja melhor excluí-la."
   ]
  },
  {
   "cell_type": "code",
   "execution_count": 36,
   "metadata": {},
   "outputs": [
    {
     "name": "stdout",
     "output_type": "stream",
     "text": [
      "Percentual de valores ausentes:\n",
      "beneficios_saude_mental     15.480102\n",
      "debate_saude_mental         15.480102\n",
      "recursos_saude_mental       15.480102\n",
      "privacidade_tratamento      15.480102\n",
      "facilidade_licenca          15.480102\n",
      "conforto_com_chefe          15.480102\n",
      "conforto_com_pares          15.480102\n",
      "propensao_dividir_amigos     0.000000\n",
      "impacto_cliente             92.844104\n",
      "impacto_funcionario         84.519898\n",
      "idade                        0.000000\n",
      "genero                       0.730194\n",
      "pais_residencia              0.000000\n",
      "pais_trabalho                0.000000\n",
      "diagnostico_mental          29.645856\n",
      "tratamento_mental            0.000000\n",
      "dtype: float64\n"
     ]
    }
   ],
   "source": [
    "print(\"Percentual de valores ausentes:\")\n",
    "percentual_ausentes = (osmi_df.isnull().sum() / len(osmi_df)) * 100\n",
    "print(percentual_ausentes)\n"
   ]
  },
  {
   "cell_type": "markdown",
   "metadata": {},
   "source": [
    "Colunas com valores ausentes moderados (~15%)"
   ]
  },
  {
   "cell_type": "markdown",
   "metadata": {},
   "source": [
    "> As colunas beneficios_saude_mental, debate_saude_mental, recursos_saude_mental, privacidade_tratamento, facilidade_licenca, conforto_com_chefe, conforto_com_pares têm ~15% de valores ausentes."
   ]
  },
  {
   "cell_type": "code",
   "execution_count": 37,
   "metadata": {},
   "outputs": [],
   "source": [
    "variaveis_categoricas = [\n",
    "    'beneficios_saude_mental', 'debate_saude_mental',\n",
    "    'recursos_saude_mental', 'privacidade_tratamento',\n",
    "    'facilidade_licenca', 'conforto_com_chefe', 'conforto_com_pares'\n",
    "]\n",
    "osmi_df[variaveis_categoricas] = osmi_df[variaveis_categoricas].fillna('Não Informado')"
   ]
  },
  {
   "cell_type": "markdown",
   "metadata": {},
   "source": [
    "Colunas com muitos valores ausentes (> 80%)"
   ]
  },
  {
   "cell_type": "markdown",
   "metadata": {},
   "source": [
    "> As colunas impacto_cliente (92.8%) e impacto_funcionario (84.5%) têm um alto percentual de valores ausentes, o que torna a análise dessas colunas pouco confiável."
   ]
  },
  {
   "cell_type": "code",
   "execution_count": 38,
   "metadata": {},
   "outputs": [],
   "source": [
    "osmi_df.drop(columns=['impacto_cliente', 'impacto_funcionario'], inplace=True)"
   ]
  },
  {
   "cell_type": "markdown",
   "metadata": {},
   "source": [
    "Colunas com valores ausentes baixos (< 1%)"
   ]
  },
  {
   "cell_type": "markdown",
   "metadata": {},
   "source": [
    "> A coluna genero (0.73%) tem poucos valores ausentes."
   ]
  },
  {
   "cell_type": "code",
   "execution_count": 39,
   "metadata": {},
   "outputs": [],
   "source": [
    "osmi_df['genero'] = osmi_df['genero'].fillna('Não informado')"
   ]
  },
  {
   "cell_type": "markdown",
   "metadata": {},
   "source": [
    "Coluna com valores ausentes moderados (~30%)"
   ]
  },
  {
   "cell_type": "markdown",
   "metadata": {},
   "source": [
    "> A coluna diagnostico_mental (29.6%) possui um percentual maior de valores ausentes. Será preenchido com \"Não informado\" para evitar perda de dados."
   ]
  },
  {
   "cell_type": "code",
   "execution_count": 40,
   "metadata": {},
   "outputs": [],
   "source": [
    "osmi_df['diagnostico_mental'] = osmi_df['diagnostico_mental'].fillna('Não informado')"
   ]
  },
  {
   "cell_type": "code",
   "execution_count": 41,
   "metadata": {},
   "outputs": [
    {
     "name": "stdout",
     "output_type": "stream",
     "text": [
      "Verificando aquivo após modificações:\n",
      "<class 'pandas.core.frame.DataFrame'>\n",
      "RangeIndex: 2739 entries, 0 to 2738\n",
      "Data columns (total 14 columns):\n",
      " #   Column                    Non-Null Count  Dtype  \n",
      "---  ------                    --------------  -----  \n",
      " 0   beneficios_saude_mental   2739 non-null   object \n",
      " 1   debate_saude_mental       2739 non-null   object \n",
      " 2   recursos_saude_mental     2739 non-null   object \n",
      " 3   privacidade_tratamento    2739 non-null   object \n",
      " 4   facilidade_licenca        2739 non-null   object \n",
      " 5   conforto_com_chefe        2739 non-null   object \n",
      " 6   conforto_com_pares        2739 non-null   object \n",
      " 7   propensao_dividir_amigos  2739 non-null   object \n",
      " 8   idade                     2739 non-null   float64\n",
      " 9   genero                    2739 non-null   object \n",
      " 10  pais_residencia           2739 non-null   object \n",
      " 11  pais_trabalho             2739 non-null   object \n",
      " 12  diagnostico_mental        2739 non-null   object \n",
      " 13  tratamento_mental         2739 non-null   object \n",
      "dtypes: float64(1), object(13)\n",
      "memory usage: 299.7+ KB\n"
     ]
    }
   ],
   "source": [
    "print(\"Verificando aquivo após modificações:\")\n",
    "osmi_df.info()"
   ]
  },
  {
   "cell_type": "code",
   "execution_count": 42,
   "metadata": {},
   "outputs": [
    {
     "data": {
      "text/html": [
       "<div>\n",
       "<style scoped>\n",
       "    .dataframe tbody tr th:only-of-type {\n",
       "        vertical-align: middle;\n",
       "    }\n",
       "\n",
       "    .dataframe tbody tr th {\n",
       "        vertical-align: top;\n",
       "    }\n",
       "\n",
       "    .dataframe thead th {\n",
       "        text-align: right;\n",
       "    }\n",
       "</style>\n",
       "<table border=\"1\" class=\"dataframe\">\n",
       "  <thead>\n",
       "    <tr style=\"text-align: right;\">\n",
       "      <th></th>\n",
       "      <th>beneficios_saude_mental</th>\n",
       "      <th>debate_saude_mental</th>\n",
       "      <th>recursos_saude_mental</th>\n",
       "      <th>privacidade_tratamento</th>\n",
       "      <th>facilidade_licenca</th>\n",
       "      <th>conforto_com_chefe</th>\n",
       "      <th>conforto_com_pares</th>\n",
       "      <th>propensao_dividir_amigos</th>\n",
       "      <th>idade</th>\n",
       "      <th>genero</th>\n",
       "      <th>pais_residencia</th>\n",
       "      <th>pais_trabalho</th>\n",
       "      <th>diagnostico_mental</th>\n",
       "      <th>tratamento_mental</th>\n",
       "    </tr>\n",
       "  </thead>\n",
       "  <tbody>\n",
       "    <tr>\n",
       "      <th>0</th>\n",
       "      <td>Nao elegivel</td>\n",
       "      <td>Nao</td>\n",
       "      <td>Nao</td>\n",
       "      <td>Eu nao sei</td>\n",
       "      <td>Muito Facil</td>\n",
       "      <td>Sim</td>\n",
       "      <td>Talvez</td>\n",
       "      <td>Um pouco aberto</td>\n",
       "      <td>39.0</td>\n",
       "      <td>Masculino</td>\n",
       "      <td>United Kingdom</td>\n",
       "      <td>United Kingdom</td>\n",
       "      <td>Sim</td>\n",
       "      <td>Nao</td>\n",
       "    </tr>\n",
       "    <tr>\n",
       "      <th>1</th>\n",
       "      <td>Nao</td>\n",
       "      <td>Sim</td>\n",
       "      <td>Sim</td>\n",
       "      <td>Sim</td>\n",
       "      <td>Facil</td>\n",
       "      <td>Sim</td>\n",
       "      <td>Talvez</td>\n",
       "      <td>Um pouco aberto</td>\n",
       "      <td>29.0</td>\n",
       "      <td>masculino</td>\n",
       "      <td>United States</td>\n",
       "      <td>United States</td>\n",
       "      <td>Sim</td>\n",
       "      <td>Sim</td>\n",
       "    </tr>\n",
       "    <tr>\n",
       "      <th>2</th>\n",
       "      <td>Nao</td>\n",
       "      <td>Nao</td>\n",
       "      <td>Nao</td>\n",
       "      <td>Eu nao sei</td>\n",
       "      <td>Nem facil nem dificil</td>\n",
       "      <td>Talvez</td>\n",
       "      <td>Talvez</td>\n",
       "      <td>Um pouco aberto</td>\n",
       "      <td>38.0</td>\n",
       "      <td>Masculino</td>\n",
       "      <td>United Kingdom</td>\n",
       "      <td>United Kingdom</td>\n",
       "      <td>Nao</td>\n",
       "      <td>Sim</td>\n",
       "    </tr>\n",
       "    <tr>\n",
       "      <th>3</th>\n",
       "      <td>Não Informado</td>\n",
       "      <td>Não Informado</td>\n",
       "      <td>Não Informado</td>\n",
       "      <td>Não Informado</td>\n",
       "      <td>Não Informado</td>\n",
       "      <td>Não Informado</td>\n",
       "      <td>Não Informado</td>\n",
       "      <td>Neutro</td>\n",
       "      <td>43.0</td>\n",
       "      <td>masculino</td>\n",
       "      <td>United Kingdom</td>\n",
       "      <td>United Kingdom</td>\n",
       "      <td>Sim</td>\n",
       "      <td>Sim</td>\n",
       "    </tr>\n",
       "    <tr>\n",
       "      <th>4</th>\n",
       "      <td>Sim</td>\n",
       "      <td>Nao</td>\n",
       "      <td>Nao</td>\n",
       "      <td>Nao</td>\n",
       "      <td>Nem facil nem dificil</td>\n",
       "      <td>Nao</td>\n",
       "      <td>Talvez</td>\n",
       "      <td>Um pouco aberto</td>\n",
       "      <td>43.0</td>\n",
       "      <td>Feminino</td>\n",
       "      <td>United States</td>\n",
       "      <td>United States</td>\n",
       "      <td>Sim</td>\n",
       "      <td>Sim</td>\n",
       "    </tr>\n",
       "    <tr>\n",
       "      <th>5</th>\n",
       "      <td>Sim</td>\n",
       "      <td>Nao</td>\n",
       "      <td>Sim</td>\n",
       "      <td>Sim</td>\n",
       "      <td>Facil</td>\n",
       "      <td>Sim</td>\n",
       "      <td>Talvez</td>\n",
       "      <td>Um pouco aberto</td>\n",
       "      <td>42.0</td>\n",
       "      <td>Masculino</td>\n",
       "      <td>United Kingdom</td>\n",
       "      <td>United Kingdom</td>\n",
       "      <td>Nao</td>\n",
       "      <td>Sim</td>\n",
       "    </tr>\n",
       "    <tr>\n",
       "      <th>6</th>\n",
       "      <td>Eu nao sei</td>\n",
       "      <td>Nao</td>\n",
       "      <td>Nao</td>\n",
       "      <td>Eu nao sei</td>\n",
       "      <td>Facil</td>\n",
       "      <td>Sim</td>\n",
       "      <td>Talvez</td>\n",
       "      <td>Nao aplicavel, eu nao tenho uma doenca mental</td>\n",
       "      <td>30.0</td>\n",
       "      <td>M</td>\n",
       "      <td>United States</td>\n",
       "      <td>United States</td>\n",
       "      <td>Nao</td>\n",
       "      <td>Nao</td>\n",
       "    </tr>\n",
       "    <tr>\n",
       "      <th>7</th>\n",
       "      <td>Sim</td>\n",
       "      <td>Nao</td>\n",
       "      <td>Sim</td>\n",
       "      <td>Sim</td>\n",
       "      <td>Muito Facil</td>\n",
       "      <td>Sim</td>\n",
       "      <td>Talvez</td>\n",
       "      <td>Um pouco aberto</td>\n",
       "      <td>37.0</td>\n",
       "      <td>feminino</td>\n",
       "      <td>United States</td>\n",
       "      <td>United States</td>\n",
       "      <td>Sim</td>\n",
       "      <td>Sim</td>\n",
       "    </tr>\n",
       "    <tr>\n",
       "      <th>8</th>\n",
       "      <td>Eu nao sei</td>\n",
       "      <td>Nao</td>\n",
       "      <td>Nao</td>\n",
       "      <td>Eu nao sei</td>\n",
       "      <td>Muito dificil</td>\n",
       "      <td>Talvez</td>\n",
       "      <td>Sim</td>\n",
       "      <td>Um pouco aberto</td>\n",
       "      <td>44.0</td>\n",
       "      <td>Feminino</td>\n",
       "      <td>United States</td>\n",
       "      <td>United States</td>\n",
       "      <td>Sim</td>\n",
       "      <td>Sim</td>\n",
       "    </tr>\n",
       "    <tr>\n",
       "      <th>9</th>\n",
       "      <td>Não Informado</td>\n",
       "      <td>Não Informado</td>\n",
       "      <td>Não Informado</td>\n",
       "      <td>Não Informado</td>\n",
       "      <td>Não Informado</td>\n",
       "      <td>Não Informado</td>\n",
       "      <td>Não Informado</td>\n",
       "      <td>Muito aberto</td>\n",
       "      <td>30.0</td>\n",
       "      <td>Masculino</td>\n",
       "      <td>United States</td>\n",
       "      <td>United States</td>\n",
       "      <td>Sim</td>\n",
       "      <td>Sim</td>\n",
       "    </tr>\n",
       "  </tbody>\n",
       "</table>\n",
       "</div>"
      ],
      "text/plain": [
       "  beneficios_saude_mental debate_saude_mental recursos_saude_mental  \\\n",
       "0            Nao elegivel                 Nao                   Nao   \n",
       "1                     Nao                 Sim                   Sim   \n",
       "2                     Nao                 Nao                   Nao   \n",
       "3           Não Informado       Não Informado         Não Informado   \n",
       "4                     Sim                 Nao                   Nao   \n",
       "5                     Sim                 Nao                   Sim   \n",
       "6              Eu nao sei                 Nao                   Nao   \n",
       "7                     Sim                 Nao                   Sim   \n",
       "8              Eu nao sei                 Nao                   Nao   \n",
       "9           Não Informado       Não Informado         Não Informado   \n",
       "\n",
       "  privacidade_tratamento     facilidade_licenca conforto_com_chefe  \\\n",
       "0             Eu nao sei            Muito Facil                Sim   \n",
       "1                    Sim                  Facil                Sim   \n",
       "2             Eu nao sei  Nem facil nem dificil             Talvez   \n",
       "3          Não Informado          Não Informado      Não Informado   \n",
       "4                    Nao  Nem facil nem dificil                Nao   \n",
       "5                    Sim                  Facil                Sim   \n",
       "6             Eu nao sei                  Facil                Sim   \n",
       "7                    Sim            Muito Facil                Sim   \n",
       "8             Eu nao sei          Muito dificil             Talvez   \n",
       "9          Não Informado          Não Informado      Não Informado   \n",
       "\n",
       "  conforto_com_pares                       propensao_dividir_amigos  idade  \\\n",
       "0             Talvez                                Um pouco aberto   39.0   \n",
       "1             Talvez                                Um pouco aberto   29.0   \n",
       "2             Talvez                                Um pouco aberto   38.0   \n",
       "3      Não Informado                                         Neutro   43.0   \n",
       "4             Talvez                                Um pouco aberto   43.0   \n",
       "5             Talvez                                Um pouco aberto   42.0   \n",
       "6             Talvez  Nao aplicavel, eu nao tenho uma doenca mental   30.0   \n",
       "7             Talvez                                Um pouco aberto   37.0   \n",
       "8                Sim                                Um pouco aberto   44.0   \n",
       "9      Não Informado                                   Muito aberto   30.0   \n",
       "\n",
       "       genero pais_residencia   pais_trabalho diagnostico_mental  \\\n",
       "0   Masculino  United Kingdom  United Kingdom                Sim   \n",
       "1   masculino   United States   United States                Sim   \n",
       "2  Masculino   United Kingdom  United Kingdom                Nao   \n",
       "3   masculino  United Kingdom  United Kingdom                Sim   \n",
       "4    Feminino   United States   United States                Sim   \n",
       "5   Masculino  United Kingdom  United Kingdom                Nao   \n",
       "6           M   United States   United States                Nao   \n",
       "7    feminino   United States   United States                Sim   \n",
       "8    Feminino   United States   United States                Sim   \n",
       "9   Masculino   United States   United States                Sim   \n",
       "\n",
       "  tratamento_mental  \n",
       "0               Nao  \n",
       "1               Sim  \n",
       "2               Sim  \n",
       "3               Sim  \n",
       "4               Sim  \n",
       "5               Sim  \n",
       "6               Nao  \n",
       "7               Sim  \n",
       "8               Sim  \n",
       "9               Sim  "
      ]
     },
     "execution_count": 42,
     "metadata": {},
     "output_type": "execute_result"
    }
   ],
   "source": [
    "osmi_df.head(10)"
   ]
  },
  {
   "cell_type": "markdown",
   "metadata": {},
   "source": [
    "##### Padronizando os dados"
   ]
  },
  {
   "cell_type": "markdown",
   "metadata": {},
   "source": [
    "Inspecionando os valores únicos de cada coluna categórica\n"
   ]
  },
  {
   "cell_type": "code",
   "execution_count": 43,
   "metadata": {},
   "outputs": [
    {
     "name": "stdout",
     "output_type": "stream",
     "text": [
      "Coluna: beneficios_saude_mental\n",
      "['Nao elegivel' 'Nao' 'Não Informado' 'Sim' 'Eu nao sei'\n",
      " 'Nao elegivel - NA']\n",
      "--------------------------------------------------\n",
      "Coluna: debate_saude_mental\n",
      "['Nao' 'Sim' 'Não Informado' 'Eu nao sei']\n",
      "--------------------------------------------------\n",
      "Coluna: recursos_saude_mental\n",
      "['Nao' 'Sim' 'Não Informado' 'Eu nao sei']\n",
      "--------------------------------------------------\n",
      "Coluna: privacidade_tratamento\n",
      "['Eu nao sei' 'Sim' 'Não Informado' 'Nao']\n",
      "--------------------------------------------------\n",
      "Coluna: facilidade_licenca\n",
      "['Muito Facil' 'Facil' 'Nem facil nem dificil' 'Não Informado'\n",
      " 'Muito dificil' 'Um pouco dificil' 'Eu nao sei' 'Dificil']\n",
      "--------------------------------------------------\n",
      "Coluna: conforto_com_chefe\n",
      "['Sim' 'Talvez' 'Não Informado' 'Nao']\n",
      "--------------------------------------------------\n",
      "Coluna: conforto_com_pares\n",
      "['Talvez' 'Não Informado' 'Sim' 'Nao']\n",
      "--------------------------------------------------\n",
      "Coluna: propensao_dividir_amigos\n",
      "['Um pouco aberto' 'Neutro'\n",
      " 'Nao aplicavel, eu nao tenho uma doenca mental' 'Muito aberto'\n",
      " 'Definitivamente nao' 'Nao muito aberto' 5 4 10 8 3 2 9 6 7 1 0]\n",
      "--------------------------------------------------\n",
      "Coluna: idade\n",
      "[ 39.  29.  38.  43.  42.  30.  37.  44.  28.  34.  35.  52.  32.  25.\n",
      "  31.  26.  33.  27.  36.  40.  46.  41.  45.  19.  21.  24.  17.  23.\n",
      "  51.  48.  55.  50.  22.  49.  20.  54.  47.  56.  57.  63.  99.  61.\n",
      " 323.  62.  53.  58.   3.  66.  59.  15.  65.  74.  70.  18.  64.  60.\n",
      "  67.   0.   5.]\n",
      "--------------------------------------------------\n",
      "Coluna: genero\n",
      "['Masculino' 'masculino' 'Masculino ' 'Feminino' 'M' 'feminino' 'm'\n",
      " 'Me identifico como mulher' 'feminino ' 'Bi-gênero' 'não-binário'\n",
      " 'Registrada no nascimento como feminino' 'F' 'Mulher' 'homem' 'f'\n",
      " 'cisgênero feminino' 'Transgênero feminina'\n",
      " 'Fluidez de gênero (nascida feminino)' 'Outro' 'Feminino ' 'mulher'\n",
      " 'feminino/mulher' 'cisgênero masculino' 'Masculino.' 'Andrôgeno'\n",
      " '90% masculino, 10% feminino' 'Não informado' 'Homem' 'Sexo é masculino'\n",
      " 'não é da sua conta' 'queer' 'Humano' 'Gênero Fluido' 'outro'\n",
      " 'sem gênero' 'Cara' 'Fluido' 'Eu sou um homem!' 'mascolino' 'M|' 'fem'\n",
      " 'masculino ' 'humano' 'não binário' ' Feminino' 'Unicórnio'\n",
      " 'cisgênero mulher' 'MASCULINO' 'Mascolino' 'femininu'\n",
      " 'masculino (ei estamos em TI, do que vc está falando)' 'outros'\n",
      " 'Meu sexo é feminino' 'Contextual' 'Não binário' '\\\\----' 'transgênero'\n",
      " 'Nenhum' 'cara' 'Ostensivamente Masculino' 'Me identifico como feminina'\n",
      " 'Masculino (or feminino, ou ambos)' 'Transgênero' 'nenhum'\n",
      " 'Vamos manter simples e dizer masculino' 'Me identifico como homem'\n",
      " 'Em dúvida' 'Maskulino' 'Femenino' 'FEMININO' 'Feminino, Ela/Dela'\n",
      " 'majoritariamente masculino']\n",
      "--------------------------------------------------\n",
      "Coluna: pais_residencia\n",
      "['United Kingdom' 'United States' 'Canada' 'Germany' 'Netherlands'\n",
      " 'Australia' 'France' 'Brazil' 'India']\n",
      "--------------------------------------------------\n",
      "Coluna: pais_trabalho\n",
      "['United Kingdom' 'United States' 'Canada' 'Germany' 'Netherlands'\n",
      " 'Australia' 'France' 'Brazil' 'India']\n",
      "--------------------------------------------------\n",
      "Coluna: diagnostico_mental\n",
      "['Sim' 'Nao' 'Não informado']\n",
      "--------------------------------------------------\n",
      "Coluna: tratamento_mental\n",
      "['Nao' 'Sim']\n",
      "--------------------------------------------------\n"
     ]
    }
   ],
   "source": [
    "for col in osmi_df.columns:\n",
    "    print(f\"Coluna: {col}\")\n",
    "    print(osmi_df[col].unique())\n",
    "    print(\"-\" * 50)"
   ]
  },
  {
   "cell_type": "markdown",
   "metadata": {},
   "source": [
    "Colunas que requerem padronização"
   ]
  },
  {
   "cell_type": "markdown",
   "metadata": {},
   "source": [
    "Com base nos resultados, as colunas beneficios_saude_mental, debate_saude_mental, recursos_saude_mental, privacidade_tratamento, serão tratadas."
   ]
  },
  {
   "cell_type": "markdown",
   "metadata": {},
   "source": [
    "> Problemas: valores como \"Nao\", \"Nao elegivel\", \"Não Informado\", \"Eu nao sei\" precisam ser unificados."
   ]
  },
  {
   "cell_type": "markdown",
   "metadata": {},
   "source": [
    "Função de padronização para múltiplas colunas"
   ]
  },
  {
   "cell_type": "code",
   "execution_count": 44,
   "metadata": {},
   "outputs": [],
   "source": [
    "def padronizar_coluna(df, coluna, mapeamento):\n",
    "    \"\"\"Padroniza os valores em uma coluna com base em um dicionário de mapeamento.\"\"\"\n",
    "    df[coluna] = df[coluna].replace(mapeamento)"
   ]
  },
  {
   "cell_type": "markdown",
   "metadata": {},
   "source": [
    "Definindo os mapeamentos para as colunas com problemas"
   ]
  },
  {
   "cell_type": "code",
   "execution_count": 45,
   "metadata": {},
   "outputs": [],
   "source": [
    "# Dicionários de mapeamento\n",
    "mapeamento_sim_nao = {\n",
    "    \"Sim\": \"Sim\", \n",
    "    \"Nao\": \"Não\", \n",
    "    \"Nao elegivel\": \"Não aplicável\", \n",
    "    \"Nao elegivel - NA\": \"Não aplicável\", \n",
    "    \"Não Informado\": \"Não informado\", \n",
    "    \"Eu nao sei\": \"Não informado\"\n",
    "}\n",
    "\n",
    "mapeamento_facilidade = {\n",
    "    \"Muito Facil\": \"Muito fácil\",\n",
    "    \"Facil\": \"Fácil\",\n",
    "    \"Nem facil nem dificil\": \"Moderado\",\n",
    "    \"Um pouco dificil\": \"Difícil\",\n",
    "    \"Dificil\": \"Difícil\",\n",
    "    \"Muito dificil\": \"Muito difícil\",\n",
    "    \"Não Informado\": \"Não informado\",\n",
    "    \"Eu nao sei\": \"Não informado\"\n",
    "}\n",
    "\n",
    "mapeamento_genero = {\n",
    "    \"masculino\": \"Masculino\", \"M\": \"Masculino\",\n",
    "    \"F\": \"Feminino\", \"feminino\": \"Feminino\", \"Mulher\": \"Feminino\",\n",
    "    \"não é da sua conta\": \"Não informado\", \"Não Informado\": \"Não informado\"\n",
    "}\n"
   ]
  },
  {
   "cell_type": "markdown",
   "metadata": {},
   "source": [
    "Padronizando as colunas no DataFrame"
   ]
  },
  {
   "cell_type": "markdown",
   "metadata": {},
   "source": [
    "> Tratando colunas beneficios_saude_mental, debate_saude_mental, recursos_saude_mental, privacidade_tratamento e diagnostico_mental"
   ]
  },
  {
   "cell_type": "code",
   "execution_count": 46,
   "metadata": {},
   "outputs": [],
   "source": [
    "# Aplicando padronização\n",
    "colunas_sim_nao = [\n",
    "    \"beneficios_saude_mental\", \"debate_saude_mental\", \"recursos_saude_mental\",\n",
    "    \"privacidade_tratamento\", \"diagnostico_mental\"\n",
    "]\n",
    "\n",
    "for col in colunas_sim_nao:\n",
    "    padronizar_coluna(osmi_df, col, mapeamento_sim_nao)\n",
    "\n",
    "padronizar_coluna(osmi_df, \"facilidade_licenca\", mapeamento_facilidade)\n",
    "padronizar_coluna(osmi_df, \"genero\", mapeamento_genero)\n"
   ]
  },
  {
   "cell_type": "markdown",
   "metadata": {},
   "source": [
    "> Tratando coluna propensao_dividir_amigos"
   ]
  },
  {
   "cell_type": "code",
   "execution_count": 47,
   "metadata": {},
   "outputs": [],
   "source": [
    "mapeamento_propensao = {\n",
    "    \"Definitivamente nao\": 0,\n",
    "    \"Nao muito aberto\": 2,\n",
    "    \"Neutro\": 5,\n",
    "    \"Um pouco aberto\": 6,\n",
    "    \"Muito aberto\": 8,\n",
    "    \"Nao aplicavel, eu nao tenho uma doenca mental\": pd.NA\n",
    "}\n",
    "\n",
    "osmi_df[\"propensao_dividir_amigos\"] = osmi_df[\"propensao_dividir_amigos\"].replace(mapeamento_propensao)"
   ]
  },
  {
   "cell_type": "markdown",
   "metadata": {},
   "source": [
    "> Tratando colunas diagnostico_mental e tratamento_mental"
   ]
  },
  {
   "cell_type": "code",
   "execution_count": 48,
   "metadata": {},
   "outputs": [
    {
     "name": "stdout",
     "output_type": "stream",
     "text": [
      "['Sim' nan None]\n",
      "['Não' 'Sim']\n"
     ]
    }
   ],
   "source": [
    "# Dicionário de mapeamento\n",
    "mapeamento_diagnostico_tratamento = {\n",
    "    \"Sim\": \"Sim\",\n",
    "    \"Nao\": \"Não\",\n",
    "    \"Não informado\": None\n",
    "}\n",
    "\n",
    "# Padronizando as colunas\n",
    "osmi_df[\"diagnostico_mental\"] = osmi_df[\"diagnostico_mental\"].map(mapeamento_diagnostico_tratamento)\n",
    "osmi_df[\"tratamento_mental\"] = osmi_df[\"tratamento_mental\"].map(mapeamento_diagnostico_tratamento)\n",
    "\n",
    "# Verificando resultados\n",
    "print(osmi_df[\"diagnostico_mental\"].unique())\n",
    "print(osmi_df[\"tratamento_mental\"].unique())"
   ]
  },
  {
   "cell_type": "code",
   "execution_count": 49,
   "metadata": {},
   "outputs": [
    {
     "name": "stdout",
     "output_type": "stream",
     "text": [
      "Valores únicos em 'diagnostico_mental': ['Sim' nan]\n",
      "Valores únicos em 'tratamento_mental': ['Não' 'Sim']\n"
     ]
    }
   ],
   "source": [
    "# Verificando e corrigindo valores nulos em diagnostico_mental\n",
    "osmi_df[\"diagnostico_mental\"] = osmi_df[\"diagnostico_mental\"].map(mapeamento_diagnostico_tratamento)\n",
    "\n",
    "# Verificando novamente os valores únicos\n",
    "print(\"Valores únicos em 'diagnostico_mental':\", osmi_df[\"diagnostico_mental\"].unique())\n",
    "print(\"Valores únicos em 'tratamento_mental':\", osmi_df[\"tratamento_mental\"].unique())\n",
    "\n",
    "# Forçando os valores ausentes para serem apenas NaN\n",
    "osmi_df[\"diagnostico_mental\"] = osmi_df[\"diagnostico_mental\"].replace({None: pd.NA})"
   ]
  },
  {
   "cell_type": "code",
   "execution_count": 50,
   "metadata": {},
   "outputs": [
    {
     "name": "stdout",
     "output_type": "stream",
     "text": [
      "Diagnóstico mental: ['Sim' <NA>]\n",
      "Tratamento mental: ['Não' 'Sim']\n",
      "Valores ausentes em 'diagnostico_mental': 1441\n"
     ]
    }
   ],
   "source": [
    "# Valores finais únicos\n",
    "print(\"Diagnóstico mental:\", osmi_df[\"diagnostico_mental\"].unique())\n",
    "print(\"Tratamento mental:\", osmi_df[\"tratamento_mental\"].unique())\n",
    "\n",
    "# Contagem de valores nulos\n",
    "print(\"Valores ausentes em 'diagnostico_mental':\", osmi_df[\"diagnostico_mental\"].isnull().sum())"
   ]
  },
  {
   "cell_type": "markdown",
   "metadata": {},
   "source": [
    "> Tranado colunas conforto_com_chefe e conforto_com_pares"
   ]
  },
  {
   "cell_type": "code",
   "execution_count": 51,
   "metadata": {},
   "outputs": [],
   "source": [
    "osmi_df[['conforto_com_chefe', 'conforto_com_pares']] = osmi_df[\n",
    "    ['conforto_com_chefe', 'conforto_com_pares']\n",
    "].replace({\n",
    "  \"Nao\": \"Não\",\n",
    "  \"Não Informado\": \"Não informado\"\n",
    "  })\n"
   ]
  },
  {
   "cell_type": "markdown",
   "metadata": {},
   "source": [
    "> Tratando coluna genero"
   ]
  },
  {
   "cell_type": "code",
   "execution_count": 54,
   "metadata": {},
   "outputs": [],
   "source": [
    "def padronizar_genero(valor):\n",
    "    if pd.isna(valor):\n",
    "        return 'Não informado'\n",
    "    valor = valor.strip().lower()  # Normalizar o texto\n",
    "    if any(palavra in valor for palavra in ['masc', 'homem', 'cara', 'man']):\n",
    "        return 'Masculino'\n",
    "    elif any(palavra in valor for palavra in ['fem', 'mulher', 'ela', 'lady']):\n",
    "        return 'Feminino'\n",
    "    elif any(palavra in valor for palavra in ['não binário', 'fluido', 'queer', 'outro', 'sem gênero', 'unicórnio']):\n",
    "        return 'Não-binário/Outro'\n",
    "    elif 'não informado' in valor or valor in ['nenhum', '\\\\----', 'contextual']:\n",
    "        return 'Não informado'\n",
    "    else:\n",
    "        return 'Não informado'\n",
    "\n",
    "osmi_df['genero'] = osmi_df['genero'].apply(padronizar_genero)"
   ]
  },
  {
   "cell_type": "markdown",
   "metadata": {},
   "source": [
    "> Tratando coluna idade"
   ]
  },
  {
   "cell_type": "code",
   "execution_count": 56,
   "metadata": {},
   "outputs": [
    {
     "data": {
      "image/png": "[encoded data removed]",
      "text/plain": [
       "<Figure size 600x800 with 1 Axes>"
      ]
     },
     "metadata": {},
     "output_type": "display_data"
    }
   ],
   "source": [
    "plt.figure(figsize=(6, 8))\n",
    "plt.boxplot(osmi_df[\"idade\"].dropna(), vert=True, patch_artist=True, boxprops=dict(facecolor='lightblue'))\n",
    "plt.title(\"Boxplot da Idade\")\n",
    "plt.ylabel(\"Idade\")\n",
    "plt.grid(axis='y', linestyle='--', alpha=0.7)\n",
    "plt.show()"
   ]
  },
  {
   "cell_type": "markdown",
   "metadata": {},
   "source": [
    "Obs: O boxplot gerado mostra a distribuição dos valores na coluna \"idade\". É possível identificar valores discrepantes (outliers), como os extremos 0, 3, 5 e 323, que estão distantes do corpo principal dos dados."
   ]
  },
  {
   "cell_type": "markdown",
   "metadata": {},
   "source": [
    "Será adotado o seguinte critério:"
   ]
  },
  {
   "cell_type": "markdown",
   "metadata": {},
   "source": [
    "- Idade mínima razoável: 18 (idade mínima legal para trabalhar em muitos países, mas pode ser ajustada se necessário).\n",
    "- Idade máxima razoável: 100 (limite superior prático para a população em geral)."
   ]
  },
  {
   "cell_type": "code",
   "execution_count": 57,
   "metadata": {},
   "outputs": [
    {
     "name": "stdout",
     "output_type": "stream",
     "text": [
      "Valores únicos em 'idade' após a filtragem: [39. 29. 38. 43. 42. 30. 37. 44. 28. 34. 35. 52. 32. 25. 31. 26. 33. 27.\n",
      " 36. 40. 46. 41. 45. 19. 21. 24. 23. 51. 48. 55. 50. 22. 49. 20. 54. 47.\n",
      " 56. 57. 63. 99. 61. 62. 53. 58. 66. 59. 65. 74. 70. 18. 64. 60. 67.]\n",
      "Contagem de valores ausentes em 'idade': 0\n"
     ]
    }
   ],
   "source": [
    "# Filtrando idades entre 18 e 100\n",
    "osmi_df = osmi_df[osmi_df[\"idade\"].between(18, 100)]\n",
    "\n",
    "# Verificando o resultado\n",
    "print(\"Valores únicos em 'idade' após a filtragem:\", osmi_df[\"idade\"].unique())\n",
    "print(\"Contagem de valores ausentes em 'idade':\", osmi_df[\"idade\"].isnull().sum())"
   ]
  },
  {
   "cell_type": "markdown",
   "metadata": {},
   "source": [
    "##### Confirmando limpeza"
   ]
  },
  {
   "cell_type": "markdown",
   "metadata": {},
   "source": [
    "Verificando outras colunas"
   ]
  },
  {
   "cell_type": "code",
   "execution_count": 58,
   "metadata": {},
   "outputs": [
    {
     "name": "stdout",
     "output_type": "stream",
     "text": [
      "Coluna: beneficios_saude_mental\n",
      "['Não aplicável' 'Não' 'Não informado' 'Sim']\n",
      "--------------------------------------------------\n",
      "Coluna: debate_saude_mental\n",
      "['Não' 'Sim' 'Não informado']\n",
      "--------------------------------------------------\n",
      "Coluna: recursos_saude_mental\n",
      "['Não' 'Sim' 'Não informado']\n",
      "--------------------------------------------------\n",
      "Coluna: privacidade_tratamento\n",
      "['Não informado' 'Sim' 'Não']\n",
      "--------------------------------------------------\n",
      "Coluna: facilidade_licenca\n",
      "['Muito fácil' 'Fácil' 'Moderado' 'Não informado' 'Muito difícil'\n",
      " 'Difícil']\n",
      "--------------------------------------------------\n",
      "Coluna: conforto_com_chefe\n",
      "['Sim' 'Talvez' 'Não informado' 'Não']\n",
      "--------------------------------------------------\n",
      "Coluna: conforto_com_pares\n",
      "['Talvez' 'Não informado' 'Sim' 'Não']\n",
      "--------------------------------------------------\n",
      "Coluna: propensao_dividir_amigos\n",
      "[6 5 <NA> 8 0 2 4 10 3 9 7 1]\n",
      "--------------------------------------------------\n",
      "Coluna: idade\n",
      "[39. 29. 38. 43. 42. 30. 37. 44. 28. 34. 35. 52. 32. 25. 31. 26. 33. 27.\n",
      " 36. 40. 46. 41. 45. 19. 21. 24. 23. 51. 48. 55. 50. 22. 49. 20. 54. 47.\n",
      " 56. 57. 63. 99. 61. 62. 53. 58. 66. 59. 65. 74. 70. 18. 64. 60. 67.]\n",
      "--------------------------------------------------\n",
      "Coluna: genero\n",
      "['Masculino' 'Feminino' 'Não informado' 'Não-binário/Outro']\n",
      "--------------------------------------------------\n",
      "Coluna: pais_residencia\n",
      "['United Kingdom' 'United States' 'Canada' 'Germany' 'Netherlands'\n",
      " 'Australia' 'France' 'Brazil' 'India']\n",
      "--------------------------------------------------\n",
      "Coluna: pais_trabalho\n",
      "['United Kingdom' 'United States' 'Canada' 'Germany' 'Netherlands'\n",
      " 'Australia' 'France' 'Brazil' 'India']\n",
      "--------------------------------------------------\n",
      "Coluna: diagnostico_mental\n",
      "['Sim' <NA>]\n",
      "--------------------------------------------------\n",
      "Coluna: tratamento_mental\n",
      "['Não' 'Sim']\n",
      "--------------------------------------------------\n"
     ]
    }
   ],
   "source": [
    "for col in osmi_df.columns:\n",
    "    print(f\"Coluna: {col}\")\n",
    "    print(osmi_df[col].unique())\n",
    "    print(\"-\" * 50)\n"
   ]
  },
  {
   "cell_type": "markdown",
   "metadata": {},
   "source": [
    "##### Respondendo as perguntas do estudo"
   ]
  },
  {
   "cell_type": "markdown",
   "metadata": {},
   "source": [
    "1. Existe uma diferença significativa de saúde mental entre os gêneros de colaboradores ao longo do tempo em que a pesquisa foi realizada?"
   ]
  },
  {
   "cell_type": "code",
   "execution_count": 59,
   "metadata": {},
   "outputs": [
    {
     "name": "stdout",
     "output_type": "stream",
     "text": [
      "genero             diagnostico_mental\n",
      "Feminino           Sim                   429\n",
      "Masculino          Sim                   735\n",
      "Não informado      Sim                    93\n",
      "Não-binário/Outro  Sim                    40\n",
      "dtype: int64\n"
     ]
    }
   ],
   "source": [
    "print(osmi_df.groupby(['genero', 'diagnostico_mental']).size())"
   ]
  },
  {
   "cell_type": "markdown",
   "metadata": {},
   "source": [
    "> A análise mostra que os diagnósticos de saúde mental positivos (Sim) estão distribuídos entre os gêneros conforme a seguinte contagem:\n",
    ">\n",
    ">- Feminino: 429 diagnósticos\n",
    ">- Masculino: 735 diagnósticos\n",
    ">- Não informado: 93 diagnósticos\n",
    ">- Não-binário/Outro: 40 diagnósticos.\n",
    ">\n",
    "> Essa distribuição sugere que há uma diferença na quantidade de diagnósticos entre os gêneros. "
   ]
  },
  {
   "cell_type": "markdown",
   "metadata": {},
   "source": [
    "2. Existe uma diferença significativa de quem busca tratamento entre os gêneros de colaboradores ao longo do tempo em que a pesquisa foi realizada?"
   ]
  },
  {
   "cell_type": "code",
   "execution_count": 64,
   "metadata": {},
   "outputs": [
    {
     "name": "stdout",
     "output_type": "stream",
     "text": [
      "Proporções de tratamento de saúde mental por gênero (%):\n",
      "tratamento_mental        Não        Sim\n",
      "genero                                 \n",
      "Feminino           25.546448  74.453552\n",
      "Masculino          43.671608  56.328392\n",
      "Não informado      43.216080  56.783920\n",
      "Não-binário/Outro  12.500000  87.500000\n"
     ]
    }
   ],
   "source": [
    "# Agrupando por gênero e tratamento de saúde mental\n",
    "tratamento_por_genero = osmi_df.groupby(['genero', 'tratamento_mental']).size().unstack()\n",
    "\n",
    "# Calculando as proporções\n",
    "proporcoes_tratamento = tratamento_por_genero.div(tratamento_por_genero.sum(axis=1), axis=0) * 100\n",
    "\n",
    "print(\"Proporções de tratamento de saúde mental por gênero (%):\")\n",
    "print(proporcoes_tratamento)\n"
   ]
  },
  {
   "cell_type": "code",
   "execution_count": 65,
   "metadata": {},
   "outputs": [
    {
     "data": {
      "image/png": "[encoded data removed]",
      "text/plain": [
       "<Figure size 800x500 with 1 Axes>"
      ]
     },
     "metadata": {},
     "output_type": "display_data"
    }
   ],
   "source": [
    "# Plotando proporções\n",
    "proporcoes_tratamento['Sim'].plot(kind='bar', color=['blue', 'orange', 'green', 'purple'], figsize=(8, 5))\n",
    "\n",
    "# Ajustes no gráfico\n",
    "plt.title('Proporção de Colaboradores que Buscam Tratamento de Saúde Mental por Gênero')\n",
    "plt.xlabel('Gênero')\n",
    "plt.ylabel('Proporção (%)')\n",
    "plt.xticks(rotation=45)\n",
    "plt.ylim(0, 100)\n",
    "plt.show()\n"
   ]
  },
  {
   "cell_type": "markdown",
   "metadata": {},
   "source": [
    "> Com base no resultado das proporções, temos as seguintes observações:\n",
    ">\n",
    ">- Feminino: 74,45% buscam tratamento.\n",
    ">- Masculino: 56,33% buscam tratamento.\n",
    ">- Não informado: 56,78% buscam tratamento.\n",
    ">- Não-binário/Outro: 87,50% buscam tratamento."
   ]
  },
  {
   "cell_type": "markdown",
   "metadata": {},
   "source": [
    "3. Existe uma diferença significativa de saúde mental entre as idades dos colaboradores ao longo do tempo em que a pesquisa foi realizada?"
   ]
  },
  {
   "cell_type": "code",
   "execution_count": 70,
   "metadata": {},
   "outputs": [
    {
     "name": "stdout",
     "output_type": "stream",
     "text": [
      "Idades - Com diagnóstico:\n",
      "count    1297.000000\n",
      "mean       34.878180\n",
      "std         8.595719\n",
      "min        19.000000\n",
      "25%        29.000000\n",
      "50%        34.000000\n",
      "75%        39.000000\n",
      "max        99.000000\n",
      "Name: idade, dtype: float64\n",
      "\n",
      "Idades - Sem diagnóstico:\n",
      "count    1436.000000\n",
      "mean       34.888579\n",
      "std         8.547069\n",
      "min        18.000000\n",
      "25%        29.000000\n",
      "50%        34.000000\n",
      "75%        40.000000\n",
      "max        74.000000\n",
      "Name: idade, dtype: float64\n"
     ]
    },
    {
     "data": {
      "image/png": "[encoded data removed]",
      "text/plain": [
       "<Figure size 800x600 with 1 Axes>"
      ]
     },
     "metadata": {},
     "output_type": "display_data"
    }
   ],
   "source": [
    "# Separar grupos por diagnóstico de saúde mental\n",
    "idade_com_diagnostico = osmi_df[osmi_df['diagnostico_mental'] == 'Sim']['idade']\n",
    "idade_sem_diagnostico = osmi_df[osmi_df['diagnostico_mental'].isna()]['idade']\n",
    "\n",
    "# Estatísticas descritivas\n",
    "print(\"Idades - Com diagnóstico:\")\n",
    "print(idade_com_diagnostico.describe())\n",
    "print(\"\\nIdades - Sem diagnóstico:\")\n",
    "print(idade_sem_diagnostico.describe())\n",
    "\n",
    "# Boxplot\n",
    "plt.figure(figsize=(8, 6))\n",
    "sns.boxplot(data=osmi_df, x='diagnostico_mental', y='idade')\n",
    "plt.title('Distribuição de Idades por Diagnóstico de Saúde Mental')\n",
    "plt.xlabel('Diagnóstico de Saúde Mental')\n",
    "plt.ylabel('Idade')\n",
    "plt.show()"
   ]
  },
  {
   "cell_type": "markdown",
   "metadata": {},
   "source": [
    "> Os valores descritivos mostram que a idade média dos colaboradores com diagnóstico de saúde mental é 34,88 anos, enquanto para aqueles sem diagnóstico, a média é muito próxima, 34,89 anos. As distribuições possuem desvio padrão semelhante e mediana igual (34 anos). Esses números sugerem que não há uma diferença notável apenas observando as estatísticas descritivas."
   ]
  },
  {
   "cell_type": "markdown",
   "metadata": {},
   "source": [
    "4. Existe uma diferença significativa de quem busca tratamento entre as idades dos colaboradores ao longo do tempo em que a pesquisa foi realizada?"
   ]
  },
  {
   "cell_type": "code",
   "execution_count": 71,
   "metadata": {},
   "outputs": [
    {
     "name": "stdout",
     "output_type": "stream",
     "text": [
      "Idades - Buscou tratamento:\n",
      "count    1688.000000\n",
      "mean       35.171209\n",
      "std         8.772279\n",
      "min        18.000000\n",
      "25%        29.000000\n",
      "50%        34.000000\n",
      "75%        40.000000\n",
      "max        99.000000\n",
      "Name: idade, dtype: float64\n",
      "\n",
      "Idades - Não buscou tratamento:\n",
      "count    1045.000000\n",
      "mean       34.419139\n",
      "std         8.211898\n",
      "min        18.000000\n",
      "25%        28.000000\n",
      "50%        33.000000\n",
      "75%        39.000000\n",
      "max        63.000000\n",
      "Name: idade, dtype: float64\n"
     ]
    }
   ],
   "source": [
    "# Estatísticas descritivas\n",
    "tratamento_sim = osmi_df[osmi_df['tratamento_mental'] == 'Sim']['idade']\n",
    "tratamento_nao = osmi_df[osmi_df['tratamento_mental'] == 'Não']['idade']\n",
    "\n",
    "# Estatísticas descritivas por grupo\n",
    "print(\"Idades - Buscou tratamento:\")\n",
    "print(tratamento_sim.describe())\n",
    "\n",
    "print(\"\\nIdades - Não buscou tratamento:\")\n",
    "print(tratamento_nao.describe())"
   ]
  },
  {
   "cell_type": "markdown",
   "metadata": {},
   "source": [
    ">- As médias das idades são bem próximas (35.17 anos para quem buscou tratamento e 34.42 anos para quem não buscou), o que sugere que não há uma grande diferença de idade entre os dois grupos.\n",
    ">- O desvio padrão também é similar, indicando uma distribuição de idades relativamente homogênea em ambos os grupos.\n",
    ">- A faixa etária dos colaboradores que não buscaram tratamento parece ter um limite superior mais baixo (63 anos), enquanto o grupo que buscou tratamento pode ter idades mais altas, chegando até 99 anos."
   ]
  },
  {
   "cell_type": "markdown",
   "metadata": {},
   "source": [
    "5. Os funcionários de empresas que possuem benefícios de saúde para tratamento de saúde mental buscam mais tratamento?"
   ]
  },
  {
   "cell_type": "code",
   "execution_count": 72,
   "metadata": {},
   "outputs": [
    {
     "name": "stdout",
     "output_type": "stream",
     "text": [
      "tratamento_mental              Não        Sim\n",
      "beneficios_saude_mental                      \n",
      "Não                      46.258503  53.741497\n",
      "Não aplicável            36.666667  63.333333\n",
      "Não informado            46.028708  53.971292\n",
      "Sim                      30.141287  69.858713\n"
     ]
    }
   ],
   "source": [
    "# Agrupando os dados por 'beneficios_saude_mental' e 'tratamento_mental'\n",
    "proporcao_tratamento_por_beneficio = osmi_df.groupby(['beneficios_saude_mental', 'tratamento_mental']).size().unstack(fill_value=0)\n",
    "\n",
    "# Calculando a proporção de quem busca tratamento ('Sim') em relação ao total de registros para cada benefício de saúde mental\n",
    "proporcao_tratamento_por_beneficio_percentual = proporcao_tratamento_por_beneficio.div(proporcao_tratamento_por_beneficio.sum(axis=1), axis=0) * 100\n",
    "\n",
    "# Exibindo os resultados\n",
    "print(proporcao_tratamento_por_beneficio_percentual)\n"
   ]
  },
  {
   "cell_type": "markdown",
   "metadata": {},
   "source": [
    ">- Funcionários que possuem benefícios de saúde mental (\"Sim\") são os que mais buscam tratamento, com 69.86% buscando tratamento.\n",
    ">- Funcionários que não possuem benefícios de saúde mental (\"Não\") apresentam uma proporção menor de busca por tratamento, com 53.74% buscando tratamento.\n",
    ">- Funcionários cujos benefícios são \"não aplicáveis\" ou não informados também têm uma proporção considerável de busca por tratamento (63.33% e 53.97%, respectivamente)."
   ]
  },
  {
   "cell_type": "markdown",
   "metadata": {},
   "source": [
    "6. Existe uma diferença significativa de saúde mental entre países mais ricos (com um PIB elevado) no ano de 2016? "
   ]
  }
 ],
 "metadata": {
  "kernelspec": {
   "display_name": "analise_saude_mental",
   "language": "python",
   "name": "python3"
  },
  "language_info": {
   "codemirror_mode": {
    "name": "ipython",
    "version": 3
   },
   "file_extension": ".py",
   "mimetype": "text/x-python",
   "name": "python",
   "nbconvert_exporter": "python",
   "pygments_lexer": "ipython3",
   "version": "3.12.5"
  }
 },
 "nbformat": 4,
 "nbformat_minor": 2
}
