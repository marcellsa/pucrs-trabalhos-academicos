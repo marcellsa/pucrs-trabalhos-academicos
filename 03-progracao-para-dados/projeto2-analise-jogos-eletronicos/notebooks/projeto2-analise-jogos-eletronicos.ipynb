{
 "cells": [
  {
   "cell_type": "markdown",
   "metadata": {},
   "source": [
    "Fase 2 - Análise de Dados de Jogos da Steam"
   ]
  },
  {
   "cell_type": "code",
   "execution_count": 1,
   "metadata": {},
   "outputs": [],
   "source": [
    "import sys\n",
    "import os\n",
    "\n",
    "# Adiciona o diretório raiz do projeto ao PYTHONPATH\n",
    "project_root = os.path.abspath(os.path.join(os.getcwd(), '..'))\n",
    "sys.path.append(project_root)\n",
    "\n",
    "from src import DataLoader"
   ]
  },
  {
   "cell_type": "markdown",
   "metadata": {},
   "source": [
    "# Importando bibliotecas"
   ]
  },
  {
   "cell_type": "code",
   "execution_count": 2,
   "metadata": {},
   "outputs": [],
   "source": [
    "import pandas as pd"
   ]
  },
  {
   "cell_type": "markdown",
   "metadata": {},
   "source": [
    "# Carregando dados"
   ]
  },
  {
   "cell_type": "code",
   "execution_count": 3,
   "metadata": {},
   "outputs": [
    {
     "name": "stdout",
     "output_type": "stream",
     "text": [
      "Total de jogos carregados: 72934\n"
     ]
    }
   ],
   "source": [
    "loader = DataLoader('../data/steam_games.csv')\n",
    "loader.load_data()\n",
    "games = loader.get_games()\n",
    "\n",
    "print(f\"Total de jogos carregados: {len(games)}\")"
   ]
  },
  {
   "cell_type": "markdown",
   "metadata": {},
   "source": [
    "# Convertendo para DataFrame para análises com pandas"
   ]
  },
  {
   "cell_type": "code",
   "execution_count": 4,
   "metadata": {},
   "outputs": [],
   "source": [
    "df = pd.DataFrame(games)"
   ]
  },
  {
   "cell_type": "code",
   "execution_count": 5,
   "metadata": {},
   "outputs": [
    {
     "name": "stdout",
     "output_type": "stream",
     "text": [
      "     AppID                   Name  Release date Estimated owners Peak CCU  \\\n",
      "0    20200       Galactic Bowling  Oct 21, 2008        0 - 20000        0   \n",
      "1   655370           Train Bandit  Oct 12, 2017        0 - 20000        0   \n",
      "2  1732930           Jolt Project  Nov 17, 2021        0 - 20000        0   \n",
      "3  1355720               Henosis™  Jul 23, 2020        0 - 20000        0   \n",
      "4  1139950  Two Weeks in Painland   Feb 3, 2020        0 - 20000        0   \n",
      "\n",
      "  Required age  Price DLC count  \\\n",
      "0            0  19.99         0   \n",
      "1            0   0.99         0   \n",
      "2            0   4.99         0   \n",
      "3            0   5.99         0   \n",
      "4            0    0.0         0   \n",
      "\n",
      "                                      About the game  \\\n",
      "0  Galactic Bowling is an exaggerated and stylize...   \n",
      "1  THE LAW!! Looks to be a showdown atop a train....   \n",
      "2  Jolt Project: The army now has a new robotics ...   \n",
      "3  HENOSIS™ is a mysterious 2D Platform Puzzler w...   \n",
      "4  ABOUT THE GAME Play as a hacker who has arrang...   \n",
      "\n",
      "                                 Supported languages  ...  \\\n",
      "0                                        ['English']  ...   \n",
      "1  ['English', 'French', 'Italian', 'German', 'Sp...  ...   \n",
      "2                 ['English', 'Portuguese - Brazil']  ...   \n",
      "3  ['English', 'French', 'Italian', 'German', 'Sp...  ...   \n",
      "4                     ['English', 'Spanish - Spain']  ...   \n",
      "\n",
      "  Average playtime two weeks Median playtime forever  \\\n",
      "0                          0                       0   \n",
      "1                          0                       0   \n",
      "2                          0                       0   \n",
      "3                          0                       0   \n",
      "4                          0                       0   \n",
      "\n",
      "  Median playtime two weeks             Developers             Publishers  \\\n",
      "0                         0  Perpetual FX Creative  Perpetual FX Creative   \n",
      "1                         0           Rusty Moyher           Wild Rooster   \n",
      "2                         0          Campião Games          Campião Games   \n",
      "3                         0      Odd Critter Games      Odd Critter Games   \n",
      "4                         0          Unusual Games          Unusual Games   \n",
      "\n",
      "                                          Categories  \\\n",
      "0  Single-player,Multi-player,Steam Achievements,...   \n",
      "1  Single-player,Steam Achievements,Full controll...   \n",
      "2                                      Single-player   \n",
      "3              Single-player,Full controller support   \n",
      "4                   Single-player,Steam Achievements   \n",
      "\n",
      "                            Genres  \\\n",
      "0              Casual,Indie,Sports   \n",
      "1                     Action,Indie   \n",
      "2  Action,Adventure,Indie,Strategy   \n",
      "3           Adventure,Casual,Indie   \n",
      "4                  Adventure,Indie   \n",
      "\n",
      "                                                Tags  \\\n",
      "0                        Indie,Casual,Sports,Bowling   \n",
      "1  Indie,Action,Pixel Graphics,2D,Retro,Arcade,Sc...   \n",
      "2                                                      \n",
      "3  2D Platformer,Atmospheric,Surreal,Mystery,Puzz...   \n",
      "4  Indie,Adventure,Nudity,Violent,Sexual Content,...   \n",
      "\n",
      "                                         Screenshots  \\\n",
      "0  https://cdn.akamai.steamstatic.com/steam/apps/...   \n",
      "1  https://cdn.akamai.steamstatic.com/steam/apps/...   \n",
      "2  https://cdn.akamai.steamstatic.com/steam/apps/...   \n",
      "3  https://cdn.akamai.steamstatic.com/steam/apps/...   \n",
      "4  https://cdn.akamai.steamstatic.com/steam/apps/...   \n",
      "\n",
      "                                              Movies  \n",
      "0  http://cdn.akamai.steamstatic.com/steam/apps/2...  \n",
      "1  http://cdn.akamai.steamstatic.com/steam/apps/2...  \n",
      "2  http://cdn.akamai.steamstatic.com/steam/apps/2...  \n",
      "3  http://cdn.akamai.steamstatic.com/steam/apps/2...  \n",
      "4  http://cdn.akamai.steamstatic.com/steam/apps/2...  \n",
      "\n",
      "[5 rows x 39 columns]\n"
     ]
    }
   ],
   "source": [
    "# Visualizar as primeiras 5 linhas\n",
    "print(df.head())"
   ]
  },
  {
   "cell_type": "code",
   "execution_count": 6,
   "metadata": {},
   "outputs": [
    {
     "name": "stdout",
     "output_type": "stream",
     "text": [
      "         AppID                   Name  Release date Estimated owners Peak CCU  \\\n",
      "72929  2388020  Invasion: Family Ties  Apr 29, 2023            0 - 0        0   \n",
      "72930  2386460                Tree It   May 1, 2023            0 - 0        0   \n",
      "72931  1701130                   GRAB  Apr 27, 2023            0 - 0        0   \n",
      "72932  2164690               いのちのないうた  Apr 25, 2023            0 - 0        0   \n",
      "72933  2309280         Mini Star Cafe  Apr 27, 2023            0 - 0        0   \n",
      "\n",
      "      Required age  Price DLC count  \\\n",
      "72929            0    0.0         0   \n",
      "72930            0   3.99         0   \n",
      "72931            0    0.0         0   \n",
      "72932            0    0.0         0   \n",
      "72933            0  10.79         0   \n",
      "\n",
      "                                          About the game  \\\n",
      "72929  Rick travels to Indiana to visit his mother, b...   \n",
      "72930  Tree it is a low poly 3d tree generator for th...   \n",
      "72931  GRAB is a VR multiplayer parkour game. Climb, ...   \n",
      "72932  ▼概要 ゲームアルバム「いのちのないうた」はストーリーを主軸においた7作のゲームを収録した短...   \n",
      "72933  Mini Star Cafe is a Simple relaxing game that ...   \n",
      "\n",
      "         Supported languages  ... Average playtime two weeks  \\\n",
      "72929            ['English']  ...                          0   \n",
      "72930            ['English']  ...                          0   \n",
      "72931            ['English']  ...                          0   \n",
      "72932           ['Japanese']  ...                          0   \n",
      "72933  ['English', 'Korean']  ...                          0   \n",
      "\n",
      "      Median playtime forever Median playtime two weeks        Developers  \\\n",
      "72929                       0                         0         MrLoken32   \n",
      "72930                       0                         0  evolved-software   \n",
      "72931                       0                         0           SlinDev   \n",
      "72932                       0                         0         HataIkeda   \n",
      "72933                       0                         0          MACKINN7   \n",
      "\n",
      "             Publishers                                         Categories  \\\n",
      "72929         MrLoken32                                      Single-player   \n",
      "72930  evolved-software                                                      \n",
      "72931           SlinDev  Multi-player,PvP,Online PvP,Co-op,Online Co-op...   \n",
      "72932         HataIkeda                                      Single-player   \n",
      "72933          MACKINN7           Single-player,Partial Controller Support   \n",
      "\n",
      "                                                  Genres Tags  \\\n",
      "72929                                          Adventure        \n",
      "72930  Animation & Modeling,Design & Illustration,Sof...        \n",
      "72931  Adventure,Casual,Indie,Racing,Sports,Early Access        \n",
      "72932                Adventure,Casual,Free to Play,Indie        \n",
      "72933                                   Casual,Indie,RPG        \n",
      "\n",
      "                                             Screenshots  \\\n",
      "72929  https://cdn.akamai.steamstatic.com/steam/apps/...   \n",
      "72930  https://cdn.akamai.steamstatic.com/steam/apps/...   \n",
      "72931  https://cdn.akamai.steamstatic.com/steam/apps/...   \n",
      "72932  https://cdn.akamai.steamstatic.com/steam/apps/...   \n",
      "72933  https://cdn.akamai.steamstatic.com/steam/apps/...   \n",
      "\n",
      "                                                  Movies  \n",
      "72929  http://cdn.akamai.steamstatic.com/steam/apps/2...  \n",
      "72930  http://cdn.akamai.steamstatic.com/steam/apps/2...  \n",
      "72931  http://cdn.akamai.steamstatic.com/steam/apps/2...  \n",
      "72932  http://cdn.akamai.steamstatic.com/steam/apps/2...  \n",
      "72933  http://cdn.akamai.steamstatic.com/steam/apps/2...  \n",
      "\n",
      "[5 rows x 39 columns]\n"
     ]
    }
   ],
   "source": [
    "# Visualizar as primeiras 5 linhas\n",
    "print(df.tail())"
   ]
  },
  {
   "cell_type": "code",
   "execution_count": 7,
   "metadata": {},
   "outputs": [
    {
     "name": "stdout",
     "output_type": "stream",
     "text": [
      "          AppID                                           Name Release date  \\\n",
      "count     72934                                          72934        72934   \n",
      "unique    72934                                          72373         4198   \n",
      "top     2309280  Shadow of the Tomb Raider: Definitive Edition  Dec 1, 2022   \n",
      "freq          1                                             20           97   \n",
      "\n",
      "       Estimated owners Peak CCU Required age  Price DLC count About the game  \\\n",
      "count             72934    72934        72934  72934     72934          72934   \n",
      "unique               14     1320           17    525        94          70057   \n",
      "top           0 - 20000        0            0    0.0         0                  \n",
      "freq              48081    52943        71403  12680     61987           2532   \n",
      "\n",
      "       Supported languages  ... Average playtime two weeks  \\\n",
      "count                72934  ...                      72934   \n",
      "unique                9809  ...                        742   \n",
      "top            ['English']  ...                          0   \n",
      "freq                 38114  ...                      71046   \n",
      "\n",
      "       Median playtime forever Median playtime two weeks Developers  \\\n",
      "count                    72934                     72934      72934   \n",
      "unique                    1847                       746      43276   \n",
      "top                          0                         0              \n",
      "freq                     58544                     71046       2553   \n",
      "\n",
      "       Publishers     Categories        Genres   Tags Screenshots Movies  \n",
      "count       72934          72934         72934  72934       72934  72934  \n",
      "unique      37413           5276          2220  51462       71444  67702  \n",
      "top                Single-player  Casual,Indie                            \n",
      "freq         2763          20293          4210  14765        1387   5166  \n",
      "\n",
      "[4 rows x 39 columns]\n"
     ]
    }
   ],
   "source": [
    "# Verificar as estatísticas descritivas\n",
    "print(df.describe())"
   ]
  },
  {
   "cell_type": "markdown",
   "metadata": {},
   "source": [
    "# Convertendo colunas relevantes para os tipos corretos"
   ]
  },
  {
   "cell_type": "code",
   "execution_count": 8,
   "metadata": {},
   "outputs": [],
   "source": [
    "# Convertendo colunas relevantes para os tipos corretos\n",
    "df['Price'] = pd.to_numeric(df['Price'], errors='coerce')\n",
    "df['Release date'] = pd.to_datetime(df['Release date'], errors='coerce')\n",
    "df['Metacritic score'] = pd.to_numeric(df['Metacritic score'], errors='coerce')"
   ]
  },
  {
   "cell_type": "markdown",
   "metadata": {},
   "source": [
    "## Pergunta 1: Dez Jogos Mais Bem Avaliados"
   ]
  },
  {
   "cell_type": "code",
   "execution_count": 9,
   "metadata": {},
   "outputs": [
    {
     "name": "stdout",
     "output_type": "stream",
     "text": [
      "                                Name  Metacritic score Release date\n",
      "45752  Disco Elysium - The Final Cut                97   2019-10-15\n",
      "64935                Persona 5 Royal                97   2022-10-20\n",
      "49557                      Half-Life                96   1998-11-08\n",
      "36775                    Half-Life 2                96   2004-11-16\n",
      "32406                      BioShock™                96   2007-08-21\n",
      "57205             Grand Theft Auto V                96   2015-04-13\n",
      "28170                       Portal 2                95   2011-04-18\n",
      "28484                       Portal 2                95   2011-04-18\n",
      "12746   Sid Meier's Civilization® IV                94   2006-10-25\n",
      "55150   Sid Meier's Civilization® IV                94   2006-10-25\n"
     ]
    }
   ],
   "source": [
    "top10_games = df.sort_values(by=['Metacritic score', 'Release date'], ascending=[False, True]).head(10)\n",
    "print(top10_games[['Name', 'Metacritic score', 'Release date']])"
   ]
  },
  {
   "cell_type": "markdown",
   "metadata": {},
   "source": [
    "## Pergunta 2: Para jogos de role-playing, qual o número médio e máximo de: DLCs, avaliações positivas, avaliações negativas e materiais de demonstração (número de capturas de tela e filmes, somados)?"
   ]
  },
  {
   "cell_type": "code",
   "execution_count": 40,
   "metadata": {},
   "outputs": [
    {
     "name": "stdout",
     "output_type": "stream",
     "text": [
      "Total de jogos do gênero RPG: 12296\n",
      "Número médio de DLCs: 0.95\n",
      "Número máximo de DLCs: 2366\n",
      "Número médio de avaliações positivas: 1516.41\n",
      "Número máximo de avaliações positivas: 964983\n",
      "Número médio de avaliações negativas: 247.17\n",
      "Número máximo de avaliações negativas: 129925\n",
      "Número médio de materiais de demonstração (capturas de tela e filmes): 0.00\n",
      "Número máximo de materiais de demonstração (capturas de tela e filmes): 0.0\n"
     ]
    }
   ],
   "source": [
    "# Filtrando os jogos do gênero 'role-playing'\n",
    "df_rpg = df.loc[df['Genres'].str.contains('RPG', case=False, na=False)].copy()\n",
    "\n",
    "\n",
    "# Exibindo o número total de jogos do gênero 'RPG'\n",
    "total_rpg_games = len(df_rpg)\n",
    "print(f\"Total de jogos do gênero RPG: {total_rpg_games}\")\n",
    "\n",
    "# Tratando os valores não numéricos e ausentes nas colunas numéricas\n",
    "numeric_columns = ['DLC count', 'Positive', 'Negative', 'Screenshots', 'Movies']\n",
    "\n",
    "for column in numeric_columns:\n",
    "    df_rpg.loc[:, column] = pd.to_numeric(df_rpg[column], errors='coerce').fillna(0)\n",
    "\n",
    "# Calculando estatísticas\n",
    "if total_rpg_games > 0:\n",
    "    mean_dlc = df_rpg['DLC count'].mean()\n",
    "    max_dlc = df_rpg['DLC count'].max()\n",
    "    mean_positive_reviews = df_rpg['Positive'].mean()\n",
    "    max_positive_reviews = df_rpg['Positive'].max()\n",
    "    mean_negative_reviews = df_rpg['Negative'].mean()\n",
    "    max_negative_reviews = df_rpg['Negative'].max()\n",
    "    mean_demo_materials = (df_rpg['Screenshots'] + df_rpg['Movies']).mean()\n",
    "    max_demo_materials = (df_rpg['Screenshots'] + df_rpg['Movies']).max()\n",
    "\n",
    "    # Exibindo os resultados\n",
    "    print(f\"Número médio de DLCs: {mean_dlc:.2f}\")\n",
    "    print(f\"Número máximo de DLCs: {max_dlc}\")\n",
    "    print(f\"Número médio de avaliações positivas: {mean_positive_reviews:.2f}\")\n",
    "    print(f\"Número máximo de avaliações positivas: {max_positive_reviews}\")\n",
    "    print(f\"Número médio de avaliações negativas: {mean_negative_reviews:.2f}\")\n",
    "    print(f\"Número máximo de avaliações negativas: {max_negative_reviews}\")\n",
    "    print(f\"Número médio de materiais de demonstração (capturas de tela e filmes): {mean_demo_materials:.2f}\")\n",
    "    print(f\"Número máximo de materiais de demonstração (capturas de tela e filmes): {max_demo_materials}\")\n",
    "else:\n",
    "    print(\"Nenhum jogo do gênero RPG encontrado.\")"
   ]
  },
  {
   "cell_type": "code",
   "execution_count": 42,
   "metadata": {},
   "outputs": [
    {
     "name": "stdout",
     "output_type": "stream",
     "text": [
      "Valores únicos na coluna 'Screenshots':\n",
      "[0.0]\n",
      "\n",
      "Valores únicos na coluna 'Movies':\n",
      "[0.0]\n",
      "\n",
      "Contagem de valores na coluna 'Screenshots':\n",
      "Screenshots\n",
      "0.0    12296\n",
      "Name: count, dtype: int64\n",
      "\n",
      "Contagem de valores na coluna 'Movies':\n",
      "Movies\n",
      "0.0    12296\n",
      "Name: count, dtype: int64\n"
     ]
    }
   ],
   "source": [
    "# Visualizando alguns dos primeiros valores de 'Screenshots' e 'Movies'\n",
    "print(\"Valores únicos na coluna 'Screenshots':\")\n",
    "print(df_rpg['Screenshots'].unique()[:10])\n",
    "\n",
    "print(\"\\nValores únicos na coluna 'Movies':\")\n",
    "print(df_rpg['Movies'].unique()[:10])\n",
    "\n",
    "# Contar a frequência de cada valor para ver se são todos zeros\n",
    "print(\"\\nContagem de valores na coluna 'Screenshots':\")\n",
    "print(df_rpg['Screenshots'].value_counts())\n",
    "\n",
    "print(\"\\nContagem de valores na coluna 'Movies':\")\n",
    "print(df_rpg['Movies'].value_counts())\n"
   ]
  }
 ],
 "metadata": {
  "kernelspec": {
   "display_name": "projeto2-ppd",
   "language": "python",
   "name": "python3"
  },
  "language_info": {
   "codemirror_mode": {
    "name": "ipython",
    "version": 3
   },
   "file_extension": ".py",
   "mimetype": "text/x-python",
   "name": "python",
   "nbconvert_exporter": "python",
   "pygments_lexer": "ipython3",
   "version": "3.12.5"
  }
 },
 "nbformat": 4,
 "nbformat_minor": 2
}
