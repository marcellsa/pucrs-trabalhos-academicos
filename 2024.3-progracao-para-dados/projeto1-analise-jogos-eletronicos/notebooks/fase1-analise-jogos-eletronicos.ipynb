{
 "cells": [
  {
   "cell_type": "markdown",
   "metadata": {},
   "source": [
    "# Análise de Dados de Jogos da Steam"
   ]
  },
  {
   "cell_type": "code",
   "execution_count": 1,
   "metadata": {},
   "outputs": [],
   "source": [
    "import sys\n",
    "import os\n",
    "\n",
    "# Adiciona o diretório raiz do projeto ao PYTHONPATH\n",
    "project_root = os.path.abspath(os.path.join(os.getcwd(), '..'))\n",
    "sys.path.append(project_root)\n",
    "\n",
    "from src import DataLoader, SteamAnalyzer"
   ]
  },
  {
   "cell_type": "markdown",
   "metadata": {},
   "source": [
    "### Carregando os dados"
   ]
  },
  {
   "cell_type": "code",
   "execution_count": 2,
   "metadata": {},
   "outputs": [
    {
     "name": "stdout",
     "output_type": "stream",
     "text": [
      "Total de jogos carregados: 72934\n"
     ]
    }
   ],
   "source": [
    "loader = DataLoader('../data/steam_games.csv')\n",
    "loader.load_data()\n",
    "games = loader.get_games()\n",
    "\n",
    "print(f\"Total de jogos carregados: {len(games)}\")"
   ]
  },
  {
   "cell_type": "markdown",
   "metadata": {},
   "source": [
    "### Pergunta 1: Qual o percentual de jogos gratuitos e pagos na plataforma?"
   ]
  },
  {
   "cell_type": "code",
   "execution_count": 3,
   "metadata": {},
   "outputs": [
    {
     "name": "stdout",
     "output_type": "stream",
     "text": [
      "Jogos gratuitos: 17.39%\n",
      "Jogos pagos: 82.61%\n"
     ]
    }
   ],
   "source": [
    "analyzer = SteamAnalyzer(games)\n",
    "free_percentage, paid_percentage = analyzer.calculate_free_paid_percentage()\n",
    "print(f\"Jogos gratuitos: {free_percentage:.2f}%\")\n",
    "print(f\"Jogos pagos: {paid_percentage:.2f}%\")"
   ]
  },
  {
   "cell_type": "markdown",
   "metadata": {},
   "source": [
    "### Pergunta 2: Qual o ano com o maior número de novos jogos?"
   ]
  },
  {
   "cell_type": "code",
   "execution_count": 4,
   "metadata": {},
   "outputs": [
    {
     "name": "stdout",
     "output_type": "stream",
     "text": [
      "O ano com o maior número de novos jogos foi: 2022\n"
     ]
    }
   ],
   "source": [
    "years_with_most_releases = analyzer.find_year_with_most_releases()\n",
    "if len(years_with_most_releases) == 1:\n",
    "    print(f\"O ano com o maior número de novos jogos foi: {years_with_most_releases[0]}\")\n",
    "elif len(years_with_most_releases) > 1:\n",
    "    print(f\"Os anos com o maior número de novos jogos foram: {', '.join(map(str, years_with_most_releases))}\")\n",
    "else:\n",
    "    print(\"Não foram encontrados anos válidos de lançamento de jogos.\")"
   ]
  },
  {
   "cell_type": "markdown",
   "metadata": {},
   "source": [
    "### Pergunta 3: Qual é o gênero de jogo mais comum na plataforma?"
   ]
  },
  {
   "cell_type": "code",
   "execution_count": 5,
   "metadata": {},
   "outputs": [
    {
     "name": "stdout",
     "output_type": "stream",
     "text": [
      "O gênero de jogo mais comum na plataforma é 'Indie' com 49568 jogos.\n"
     ]
    }
   ],
   "source": [
    "most_common_genre, genre_count = analyzer.find_most_common_genre()\n",
    "print(f\"O gênero de jogo mais comum na plataforma é '{most_common_genre}' com {genre_count} jogos.\")"
   ]
  }
 ],
 "metadata": {
  "kernelspec": {
   "display_name": "venv",
   "language": "python",
   "name": "python3"
  },
  "language_info": {
   "codemirror_mode": {
    "name": "ipython",
    "version": 3
   },
   "file_extension": ".py",
   "mimetype": "text/x-python",
   "name": "python",
   "nbconvert_exporter": "python",
   "pygments_lexer": "ipython3",
   "version": "3.12.5"
  }
 },
 "nbformat": 4,
 "nbformat_minor": 2
}
