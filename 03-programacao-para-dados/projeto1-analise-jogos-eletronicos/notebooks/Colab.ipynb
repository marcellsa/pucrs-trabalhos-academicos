{
  "nbformat": 4,
  "nbformat_minor": 0,
  "metadata": {
    "colab": {
      "provenance": []
    },
    "kernelspec": {
      "name": "python3",
      "display_name": "Python 3"
    },
    "language_info": {
      "name": "python"
    }
  },
  "cells": [
    {
      "cell_type": "code",
      "execution_count": 1,
      "metadata": {
        "id": "pIsuTgmqnAeb"
      },
      "outputs": [],
      "source": [
        "# Primeiro, definimos as exceções personalizadas\n",
        "class DataLoadError(Exception):\n",
        "    \"\"\"\n",
        "    Exceção levantada quando ocorre um erro ao carregar os dados.\n",
        "    \"\"\"\n",
        "    def __init__(self, message=\"Erro ao carregar os dados. Verifique o arquivo e tente novamente.\"):\n",
        "        self.message = message\n",
        "        super().__init__(self.message)\n",
        "\n",
        "class GameNotFoundError(Exception):\n",
        "    \"\"\"\n",
        "    Exceção levantada quando um jogo específico não é encontrado nos dados.\n",
        "    \"\"\"\n",
        "    def __init__(self, game_name, message=None):\n",
        "        if message is None:\n",
        "            message = f\"O jogo '{game_name}' não foi encontrado.\"\n",
        "        self.game_name = game_name\n",
        "        self.message = message\n",
        "        super().__init__(self.message)\n"
      ]
    },
    {
      "cell_type": "code",
      "source": [
        "# Em seguida, definimos a função para carregar os dados\n",
        "import csv\n",
        "\n",
        "def load_data(filepath):\n",
        "    \"\"\"\n",
        "    Carrega os dados do arquivo CSV especificado e retorna uma lista de dicionários.\n",
        "    \"\"\"\n",
        "    try:\n",
        "        with open(filepath, mode='r', encoding='utf-8') as file:\n",
        "            csv_reader = csv.DictReader(file)\n",
        "            data = [row for row in csv_reader]\n",
        "        return data\n",
        "    except Exception as e:\n",
        "        raise DataLoadError(f\"Erro ao carregar dados: {e}\") from e\n"
      ],
      "metadata": {
        "id": "3zx4bN4AnJEz"
      },
      "execution_count": 2,
      "outputs": []
    },
    {
      "cell_type": "code",
      "source": [
        "# Definimos a classe Game\n",
        "class Game:\n",
        "    \"\"\"\n",
        "    Representa um jogo na plataforma Steam.\n",
        "\n",
        "    Atributos:\n",
        "        name (str): Nome do jogo.\n",
        "        release_date (str): Data de lançamento do jogo.\n",
        "        price (float): Preço do jogo.\n",
        "        developers (str): Desenvolvedores do jogo.\n",
        "    \"\"\"\n",
        "    def __init__(self, name, release_date, price, developers):\n",
        "        \"\"\"\n",
        "        Inicializa uma nova instância da classe Game.\n",
        "\n",
        "        Args:\n",
        "            name (str): Nome do jogo.\n",
        "            release_date (str): Data de lançamento do jogo.\n",
        "            price (float): Preço do jogo.\n",
        "            developers (str): Desenvolvedores do jogo.\n",
        "        \"\"\"\n",
        "        self.name = name\n",
        "        self.release_date = release_date\n",
        "        self.price = price\n",
        "        self.developers = developers\n",
        "\n",
        "    def __repr__(self):\n",
        "        \"\"\"\n",
        "        Retorna uma representação textual da instância do jogo.\n",
        "\n",
        "        Returns:\n",
        "            str: Representação textual do jogo.\n",
        "        \"\"\"\n",
        "        return f\"Game({self.name}, {self.release_date}, ${self.price}, {self.developers})\"\n"
      ],
      "metadata": {
        "id": "gPh11kIqnOoP"
      },
      "execution_count": 3,
      "outputs": []
    },
    {
      "cell_type": "code",
      "source": [
        "# Definimos as funções de análise\n",
        "from collections import Counter\n",
        "\n",
        "def get_free_vs_paid_percentage(games):\n",
        "    \"\"\"\n",
        "    Retorna o percentual de jogos gratuitos e pagos na plataforma.\n",
        "\n",
        "    Args:\n",
        "        games (list): Lista de objetos Game.\n",
        "\n",
        "    Returns:\n",
        "        dict: Dicionário com as chaves 'free' e 'paid' e seus respectivos percentuais.\n",
        "    \"\"\"\n",
        "    total_games = len(games)\n",
        "    free_games = len([game for game in games if game.price == 0])\n",
        "    paid_games = total_games - free_games\n",
        "\n",
        "    return {\n",
        "        'free': (free_games / total_games) * 100,\n",
        "        'paid': (paid_games / total_games) * 100\n",
        "    }\n",
        "\n",
        "def get_year_with_most_games(games):\n",
        "    \"\"\"\n",
        "    Retorna o ano com o maior número de novos jogos lançados.\n",
        "    Em caso de empate, retorna uma lista com os anos empatados.\n",
        "\n",
        "    Args:\n",
        "        games (list): Lista de objetos Game.\n",
        "\n",
        "    Returns:\n",
        "        int | list: Ano com o maior número de novos jogos ou uma lista de anos em caso de empate.\n",
        "    \"\"\"\n",
        "    release_years = [game.release_date.split('-')[0] for game in games if game.release_date]\n",
        "    year_count = Counter(release_years)\n",
        "    max_games = max(year_count.values())\n",
        "    most_active_years = [year for year, count in year_count.items() if count == max_games]\n",
        "\n",
        "    if len(most_active_years) == 1:\n",
        "        return most_active_years[0]\n",
        "    return most_active_years\n",
        "\n",
        "def get_developer_with_most_games(games):\n",
        "    \"\"\"\n",
        "    Retorna o desenvolvedor com o maior número de jogos lançados.\n",
        "\n",
        "    Args:\n",
        "        games (list): Lista de objetos Game.\n",
        "\n",
        "    Returns:\n",
        "        str: Nome do desenvolvedor com o maior número de jogos lançados.\n",
        "    \"\"\"\n",
        "    developers_list = [dev.strip() for game in games for dev in game.developers.split(',') if game.developers]\n",
        "    developer_count = Counter(developers_list)\n",
        "    most_common_developer = developer_count.most_common(1)[0][0]\n",
        "\n",
        "    return most_common_developer\n"
      ],
      "metadata": {
        "id": "CI7THzkOnQdB"
      },
      "execution_count": 4,
      "outputs": []
    },
    {
      "cell_type": "code",
      "source": [
        "# Carregando e processando os dados no notebook\n",
        "filepath = '/content/steam_games.csv'\n",
        "data = load_data(filepath)\n",
        "\n",
        "# Convertendo os dados para objetos Game\n",
        "games = [\n",
        "    Game(\n",
        "        name=game['Name'],\n",
        "        release_date=game['Release date'],\n",
        "        price=float(game['Price']),\n",
        "        developers=game['Developers']\n",
        "    )\n",
        "    for game in data\n",
        "]\n",
        "\n",
        "# Usando as funções de análise\n",
        "free_vs_paid = get_free_vs_paid_percentage(games)\n",
        "year_with_most_games = get_year_with_most_games(games)\n",
        "developer_with_most_games = get_developer_with_most_games(games)\n",
        "\n",
        "# Exibindo os resultados\n",
        "print(\"Percentual de jogos gratuitos e pagos:\", free_vs_paid)\n",
        "print(\"Ano com o maior número de novos jogos:\", year_with_most_games)\n",
        "print(\"Desenvolvedor com o maior número de jogos:\", developer_with_most_games)\n"
      ],
      "metadata": {
        "colab": {
          "base_uri": "https://localhost:8080/"
        },
        "id": "NBdcOxcunaMk",
        "outputId": "34d3dfcc-e50b-4df1-d241-0e63b29fa50e"
      },
      "execution_count": 10,
      "outputs": [
        {
          "output_type": "stream",
          "name": "stdout",
          "text": [
            "Percentual de jogos gratuitos e pagos: {'free': 17.385581484629938, 'paid': 82.61441851537006}\n",
            "Ano com o maior número de novos jogos: Dec 1, 2022\n",
            "Desenvolvedor com o maior número de jogos: Inc.\n"
          ]
        }
      ]
    }
  ]
}