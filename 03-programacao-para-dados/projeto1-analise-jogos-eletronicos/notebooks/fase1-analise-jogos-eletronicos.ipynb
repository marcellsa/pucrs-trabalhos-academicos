{
 "cells": [
  {
   "cell_type": "markdown",
   "metadata": {},
   "source": [
    "Carregando os dados do arquivo CSV"
   ]
  },
  {
   "cell_type": "code",
   "execution_count": null,
   "metadata": {},
   "outputs": [],
   "source": [
    "from game_library import load_data, Game, get_free_vs_paid_percentage, get_year_with_most_games, get_developer_with_most_games\n",
    "\n",
    "\n",
    "filepath = '../data/steam_games.csv'\n",
    "data = load_data(filepath)"
   ]
  },
  {
   "cell_type": "markdown",
   "metadata": {},
   "source": [
    "Exibindo os primeiros 5 jogos carregados"
   ]
  },
  {
   "cell_type": "code",
   "execution_count": null,
   "metadata": {},
   "outputs": [],
   "source": [
    "print(data[:5])"
   ]
  },
  {
   "cell_type": "markdown",
   "metadata": {},
   "source": [
    "Análises"
   ]
  },
  {
   "cell_type": "markdown",
   "metadata": {},
   "source": [
    "Criar instâncias da classe Game para cada entrada no CSV"
   ]
  },
  {
   "cell_type": "code",
   "execution_count": null,
   "metadata": {},
   "outputs": [],
   "source": [
    "games = [Game(game['Name'], game['Release date'], float(game['Price']), game['Developers']) for game in data]"
   ]
  },
  {
   "cell_type": "markdown",
   "metadata": {},
   "source": [
    "Pergunta 1: Qual o percentual de jogos gratuitos e pagos na plataforma?"
   ]
  },
  {
   "cell_type": "code",
   "execution_count": null,
   "metadata": {},
   "outputs": [],
   "source": [
    "free_vs_paid_percentage = get_free_vs_paid_percentage(games)\n",
    "print(\"Percentual de Jogos Gratuitos vs Pagos:\")\n",
    "print(f\"Gratuitos: {free_vs_paid_percentage['free']:.2f}%\")\n",
    "print(f\"Pagos: {free_vs_paid_percentage['paid']:.2f}%\")"
   ]
  },
  {
   "cell_type": "markdown",
   "metadata": {},
   "source": [
    "Pergunta 2: Qual o ano com o maior número de novos jogos?"
   ]
  },
  {
   "cell_type": "code",
   "execution_count": null,
   "metadata": {},
   "outputs": [],
   "source": [
    "year_with_most_games = get_year_with_most_games(games)\n",
    "print(\"\\nAno(s) com o maior número de novos jogos lançados:\")\n",
    "print(year_with_most_games)"
   ]
  },
  {
   "cell_type": "markdown",
   "metadata": {},
   "source": [
    "Pergunta 3: Qual desenvolvedor com o maior número de jogos lançados?"
   ]
  },
  {
   "cell_type": "code",
   "execution_count": null,
   "metadata": {},
   "outputs": [],
   "source": [
    "developer_with_most_games = get_developer_with_most_games(games)\n",
    "print(\"\\nDesenvolvedor com o maior número de jogos lançados:\")\n",
    "print(developer_with_most_games)"
   ]
  }
 ],
 "metadata": {
  "kernelspec": {
   "display_name": "Python 3",
   "language": "python",
   "name": "python3"
  },
  "language_info": {
   "codemirror_mode": {
    "name": "ipython",
    "version": 3
   },
   "file_extension": ".py",
   "mimetype": "text/x-python",
   "name": "python",
   "nbconvert_exporter": "python",
   "pygments_lexer": "ipython3",
   "version": "3.12.2"
  }
 },
 "nbformat": 4,
 "nbformat_minor": 2
}
