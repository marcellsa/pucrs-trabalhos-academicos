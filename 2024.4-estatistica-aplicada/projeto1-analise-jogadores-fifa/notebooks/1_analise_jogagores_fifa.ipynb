{
 "cells": [
  {
   "cell_type": "markdown",
   "metadata": {},
   "source": [
    "## Análise descritiva dos jogadores de futebol FIFA"
   ]
  },
  {
   "cell_type": "markdown",
   "metadata": {},
   "source": [
    "Este notebook apresenta uma análise descritiva dos dados de jogadores de futebol registrados na FIFA. Foram usadas técnicas de estatística descritiva e exploraremos a distribuição de algumas variáveis utilizando R, buscando entender o perfil dos jogadores e identificar um modelo probabilístico que represente uma variável escolhida."
   ]
  },
  {
   "cell_type": "markdown",
   "metadata": {},
   "source": [
    "#### Preparação do ambiente e carregamento dos Dados"
   ]
  },
  {
   "cell_type": "markdown",
   "metadata": {},
   "source": [
    "Carregando as bibliotecas necessárias"
   ]
  },
  {
   "cell_type": "code",
   "execution_count": 2,
   "metadata": {
    "vscode": {
     "languageId": "r"
    }
   },
   "outputs": [
    {
     "name": "stderr",
     "output_type": "stream",
     "text": [
      "── \u001b[1mAttaching core tidyverse packages\u001b[22m ──────────────────────── tidyverse 2.0.0 ──\n",
      "\u001b[32m✔\u001b[39m \u001b[34mdplyr    \u001b[39m 1.1.4     \u001b[32m✔\u001b[39m \u001b[34mreadr    \u001b[39m 2.1.5\n",
      "\u001b[32m✔\u001b[39m \u001b[34mforcats  \u001b[39m 1.0.0     \u001b[32m✔\u001b[39m \u001b[34mstringr  \u001b[39m 1.5.1\n",
      "\u001b[32m✔\u001b[39m \u001b[34mggplot2  \u001b[39m 3.5.1     \u001b[32m✔\u001b[39m \u001b[34mtibble   \u001b[39m 3.2.1\n",
      "\u001b[32m✔\u001b[39m \u001b[34mlubridate\u001b[39m 1.9.3     \u001b[32m✔\u001b[39m \u001b[34mtidyr    \u001b[39m 1.3.1\n",
      "\u001b[32m✔\u001b[39m \u001b[34mpurrr    \u001b[39m 1.0.2     \n",
      "── \u001b[1mConflicts\u001b[22m ────────────────────────────────────────── tidyverse_conflicts() ──\n",
      "\u001b[31m✖\u001b[39m \u001b[34mdplyr\u001b[39m::\u001b[32mfilter()\u001b[39m masks \u001b[34mstats\u001b[39m::filter()\n",
      "\u001b[31m✖\u001b[39m \u001b[34mdplyr\u001b[39m::\u001b[32mlag()\u001b[39m    masks \u001b[34mstats\u001b[39m::lag()\n",
      "\u001b[36mℹ\u001b[39m Use the conflicted package (\u001b[3m\u001b[34m<http://conflicted.r-lib.org/>\u001b[39m\u001b[23m) to force all conflicts to become errors\n",
      "\n",
      "Anexando pacote: 'MASS'\n",
      "\n",
      "\n",
      "O seguinte objeto é mascarado por 'package:dplyr':\n",
      "\n",
      "    select\n",
      "\n",
      "\n"
     ]
    }
   ],
   "source": [
    "library(tidyverse)\n",
    "library(readxl)\n",
    "library(MASS)"
   ]
  },
  {
   "cell_type": "markdown",
   "metadata": {},
   "source": [
    "Carregando o arquivo CSV com dados dos jogadores"
   ]
  },
  {
   "cell_type": "code",
   "execution_count": 3,
   "metadata": {
    "vscode": {
     "languageId": "r"
    }
   },
   "outputs": [],
   "source": [
    "dados_jogadores <- read.csv(\"../data/Anexo_Projeto_fifa_world_national_teams_versao_oficial_20241virgula.csv\", sep=\",\", stringsAsFactors = FALSE)"
   ]
  },
  {
   "cell_type": "markdown",
   "metadata": {},
   "source": [
    "Exibido as primeiras linhas do arquivo para consulta das variáveis"
   ]
  },
  {
   "cell_type": "code",
   "execution_count": 4,
   "metadata": {
    "vscode": {
     "languageId": "r"
    }
   },
   "outputs": [
    {
     "data": {
      "text/html": [
       "<table class=\"dataframe\">\n",
       "<caption>A data.frame: 6 × 30</caption>\n",
       "<thead>\n",
       "\t<tr><th></th><th scope=col>id</th><th scope=col>name</th><th scope=col>full_name</th><th scope=col>overall_rating</th><th scope=col>value_euro</th><th scope=col>wage_euro</th><th scope=col>nationality</th><th scope=col>national_team</th><th scope=col>club_team</th><th scope=col>age</th><th scope=col>⋯</th><th scope=col>crossing</th><th scope=col>finishing</th><th scope=col>heading_accuracy</th><th scope=col>short_passing</th><th scope=col>dribbling</th><th scope=col>jumping</th><th scope=col>strength</th><th scope=col>long_shots</th><th scope=col>aggression</th><th scope=col>GK_reflexes</th></tr>\n",
       "\t<tr><th></th><th scope=col>&lt;chr&gt;</th><th scope=col>&lt;chr&gt;</th><th scope=col>&lt;chr&gt;</th><th scope=col>&lt;int&gt;</th><th scope=col>&lt;int&gt;</th><th scope=col>&lt;int&gt;</th><th scope=col>&lt;chr&gt;</th><th scope=col>&lt;chr&gt;</th><th scope=col>&lt;chr&gt;</th><th scope=col>&lt;int&gt;</th><th scope=col>⋯</th><th scope=col>&lt;int&gt;</th><th scope=col>&lt;int&gt;</th><th scope=col>&lt;int&gt;</th><th scope=col>&lt;int&gt;</th><th scope=col>&lt;int&gt;</th><th scope=col>&lt;int&gt;</th><th scope=col>&lt;int&gt;</th><th scope=col>&lt;int&gt;</th><th scope=col>&lt;int&gt;</th><th scope=col>&lt;int&gt;</th></tr>\n",
       "</thead>\n",
       "<tbody>\n",
       "\t<tr><th scope=row>1</th><td>158023</td><td>Messi     </td><td>Lionel Andrés Messi Cuccittini   </td><td>94</td><td>110500000</td><td>565000</td><td>Argentina</td><td>Argentina</td><td>FC Barcelona   </td><td>31</td><td>⋯</td><td>86</td><td>95</td><td>70</td><td>92</td><td>97</td><td>68</td><td>66</td><td>94</td><td>48</td><td> 8</td></tr>\n",
       "\t<tr><th scope=row>2</th><td>153079</td><td>Aguero    </td><td>Sergio Leonel Agüero del Castillo</td><td>89</td><td> 64500000</td><td>300000</td><td>Argentina</td><td>Argentina</td><td>Manchester City</td><td>30</td><td>⋯</td><td>70</td><td>93</td><td>77</td><td>81</td><td>89</td><td>81</td><td>73</td><td>83</td><td>65</td><td>14</td></tr>\n",
       "\t<tr><th scope=row>3</th><td>211110</td><td>Dybala    </td><td>Paulo Bruno Exequiel Dybala      </td><td>89</td><td> 89000000</td><td>205000</td><td>Argentina</td><td>Argentina</td><td>Juventus       </td><td>25</td><td>⋯</td><td>82</td><td>84</td><td>68</td><td>87</td><td>92</td><td>75</td><td>65</td><td>88</td><td>48</td><td> 8</td></tr>\n",
       "\t<tr><th scope=row>4</th><td>201399</td><td>Icardi    </td><td>Mauro Emanuel Icardi Rivero      </td><td>87</td><td> 64500000</td><td>130000</td><td>Argentina</td><td>Argentina</td><td>Inter          </td><td>26</td><td>⋯</td><td>46</td><td>91</td><td>91</td><td>73</td><td>77</td><td>94</td><td>76</td><td>70</td><td>56</td><td> 9</td></tr>\n",
       "\t<tr><th scope=row>5</th><td>226226</td><td>Lo Celso  </td><td>Giovani Lo Celso                 </td><td>82</td><td> 30000000</td><td> 83000</td><td>Argentina</td><td>Argentina</td><td>Real Betis     </td><td>22</td><td>⋯</td><td>75</td><td>77</td><td>59</td><td>82</td><td>84</td><td>64</td><td>69</td><td>76</td><td>65</td><td>14</td></tr>\n",
       "\t<tr><th scope=row>6</th><td>199667</td><td>Funes Mori</td><td>José Ramiro Funes Mori           </td><td>77</td><td>  8500000</td><td> 28000</td><td>Argentina</td><td>Argentina</td><td>Villarreal CF  </td><td>28</td><td>⋯</td><td>66</td><td>40</td><td>79</td><td>70</td><td>63</td><td>77</td><td>78</td><td>56</td><td>83</td><td> 7</td></tr>\n",
       "</tbody>\n",
       "</table>\n"
      ],
      "text/latex": [
       "A data.frame: 6 × 30\n",
       "\\begin{tabular}{r|lllllllllllllllllllll}\n",
       "  & id & name & full\\_name & overall\\_rating & value\\_euro & wage\\_euro & nationality & national\\_team & club\\_team & age & ⋯ & crossing & finishing & heading\\_accuracy & short\\_passing & dribbling & jumping & strength & long\\_shots & aggression & GK\\_reflexes\\\\\n",
       "  & <chr> & <chr> & <chr> & <int> & <int> & <int> & <chr> & <chr> & <chr> & <int> & ⋯ & <int> & <int> & <int> & <int> & <int> & <int> & <int> & <int> & <int> & <int>\\\\\n",
       "\\hline\n",
       "\t1 & 158023 & Messi      & Lionel Andrés Messi Cuccittini    & 94 & 110500000 & 565000 & Argentina & Argentina & FC Barcelona    & 31 & ⋯ & 86 & 95 & 70 & 92 & 97 & 68 & 66 & 94 & 48 &  8\\\\\n",
       "\t2 & 153079 & Aguero     & Sergio Leonel Agüero del Castillo & 89 &  64500000 & 300000 & Argentina & Argentina & Manchester City & 30 & ⋯ & 70 & 93 & 77 & 81 & 89 & 81 & 73 & 83 & 65 & 14\\\\\n",
       "\t3 & 211110 & Dybala     & Paulo Bruno Exequiel Dybala       & 89 &  89000000 & 205000 & Argentina & Argentina & Juventus        & 25 & ⋯ & 82 & 84 & 68 & 87 & 92 & 75 & 65 & 88 & 48 &  8\\\\\n",
       "\t4 & 201399 & Icardi     & Mauro Emanuel Icardi Rivero       & 87 &  64500000 & 130000 & Argentina & Argentina & Inter           & 26 & ⋯ & 46 & 91 & 91 & 73 & 77 & 94 & 76 & 70 & 56 &  9\\\\\n",
       "\t5 & 226226 & Lo Celso   & Giovani Lo Celso                  & 82 &  30000000 &  83000 & Argentina & Argentina & Real Betis      & 22 & ⋯ & 75 & 77 & 59 & 82 & 84 & 64 & 69 & 76 & 65 & 14\\\\\n",
       "\t6 & 199667 & Funes Mori & José Ramiro Funes Mori            & 77 &   8500000 &  28000 & Argentina & Argentina & Villarreal CF   & 28 & ⋯ & 66 & 40 & 79 & 70 & 63 & 77 & 78 & 56 & 83 &  7\\\\\n",
       "\\end{tabular}\n"
      ],
      "text/markdown": [
       "\n",
       "A data.frame: 6 × 30\n",
       "\n",
       "| <!--/--> | id &lt;chr&gt; | name &lt;chr&gt; | full_name &lt;chr&gt; | overall_rating &lt;int&gt; | value_euro &lt;int&gt; | wage_euro &lt;int&gt; | nationality &lt;chr&gt; | national_team &lt;chr&gt; | club_team &lt;chr&gt; | age &lt;int&gt; | ⋯ ⋯ | crossing &lt;int&gt; | finishing &lt;int&gt; | heading_accuracy &lt;int&gt; | short_passing &lt;int&gt; | dribbling &lt;int&gt; | jumping &lt;int&gt; | strength &lt;int&gt; | long_shots &lt;int&gt; | aggression &lt;int&gt; | GK_reflexes &lt;int&gt; |\n",
       "|---|---|---|---|---|---|---|---|---|---|---|---|---|---|---|---|---|---|---|---|---|---|\n",
       "| 1 | 158023 | Messi      | Lionel Andrés Messi Cuccittini    | 94 | 110500000 | 565000 | Argentina | Argentina | FC Barcelona    | 31 | ⋯ | 86 | 95 | 70 | 92 | 97 | 68 | 66 | 94 | 48 |  8 |\n",
       "| 2 | 153079 | Aguero     | Sergio Leonel Agüero del Castillo | 89 |  64500000 | 300000 | Argentina | Argentina | Manchester City | 30 | ⋯ | 70 | 93 | 77 | 81 | 89 | 81 | 73 | 83 | 65 | 14 |\n",
       "| 3 | 211110 | Dybala     | Paulo Bruno Exequiel Dybala       | 89 |  89000000 | 205000 | Argentina | Argentina | Juventus        | 25 | ⋯ | 82 | 84 | 68 | 87 | 92 | 75 | 65 | 88 | 48 |  8 |\n",
       "| 4 | 201399 | Icardi     | Mauro Emanuel Icardi Rivero       | 87 |  64500000 | 130000 | Argentina | Argentina | Inter           | 26 | ⋯ | 46 | 91 | 91 | 73 | 77 | 94 | 76 | 70 | 56 |  9 |\n",
       "| 5 | 226226 | Lo Celso   | Giovani Lo Celso                  | 82 |  30000000 |  83000 | Argentina | Argentina | Real Betis      | 22 | ⋯ | 75 | 77 | 59 | 82 | 84 | 64 | 69 | 76 | 65 | 14 |\n",
       "| 6 | 199667 | Funes Mori | José Ramiro Funes Mori            | 77 |   8500000 |  28000 | Argentina | Argentina | Villarreal CF   | 28 | ⋯ | 66 | 40 | 79 | 70 | 63 | 77 | 78 | 56 | 83 |  7 |\n",
       "\n"
      ],
      "text/plain": [
       "  id     name       full_name                         overall_rating value_euro\n",
       "1 158023 Messi      Lionel Andrés Messi Cuccittini    94             110500000 \n",
       "2 153079 Aguero     Sergio Leonel Agüero del Castillo 89              64500000 \n",
       "3 211110 Dybala     Paulo Bruno Exequiel Dybala       89              89000000 \n",
       "4 201399 Icardi     Mauro Emanuel Icardi Rivero       87              64500000 \n",
       "5 226226 Lo Celso   Giovani Lo Celso                  82              30000000 \n",
       "6 199667 Funes Mori José Ramiro Funes Mori            77               8500000 \n",
       "  wage_euro nationality national_team club_team       age ⋯ crossing finishing\n",
       "1 565000    Argentina   Argentina     FC Barcelona    31  ⋯ 86       95       \n",
       "2 300000    Argentina   Argentina     Manchester City 30  ⋯ 70       93       \n",
       "3 205000    Argentina   Argentina     Juventus        25  ⋯ 82       84       \n",
       "4 130000    Argentina   Argentina     Inter           26  ⋯ 46       91       \n",
       "5  83000    Argentina   Argentina     Real Betis      22  ⋯ 75       77       \n",
       "6  28000    Argentina   Argentina     Villarreal CF   28  ⋯ 66       40       \n",
       "  heading_accuracy short_passing dribbling jumping strength long_shots\n",
       "1 70               92            97        68      66       94        \n",
       "2 77               81            89        81      73       83        \n",
       "3 68               87            92        75      65       88        \n",
       "4 91               73            77        94      76       70        \n",
       "5 59               82            84        64      69       76        \n",
       "6 79               70            63        77      78       56        \n",
       "  aggression GK_reflexes\n",
       "1 48          8         \n",
       "2 65         14         \n",
       "3 48          8         \n",
       "4 56          9         \n",
       "5 65         14         \n",
       "6 83          7         "
      ]
     },
     "metadata": {},
     "output_type": "display_data"
    }
   ],
   "source": [
    "head(dados_jogadores)"
   ]
  },
  {
   "cell_type": "markdown",
   "metadata": {},
   "source": [
    "Entrega 1: encontrando e listando uma variável de cada tipo"
   ]
  },
  {
   "cell_type": "markdown",
   "metadata": {},
   "source": [
    "De acordo com os dados e descrição das variáveis no dicionário, encontramos os seguintes exemplos:\n",
    "\n",
    "- Qualitativa nominal: nationality \n",
    "- Qualitativa ordinal: international_reputation(1-5)\n",
    "- Quantitativa discreta: age\n",
    "- Quantitativa contínua: wage_euro"
   ]
  },
  {
   "cell_type": "markdown",
   "metadata": {},
   "source": [
    "Entrega 2: Tabelas de frequência para variáveis qualitativas"
   ]
  },
  {
   "cell_type": "code",
   "execution_count": 5,
   "metadata": {
    "vscode": {
     "languageId": "r"
    }
   },
   "outputs": [
    {
     "name": "stdout",
     "output_type": "stream",
     "text": [
      "\n",
      "                              Argentina           Australia             Austria \n",
      "                 14                  17                  13                  16 \n",
      "            Belgium              Brazil            Bulgaria            Cameroon \n",
      "                 19                  23                   3                  17 \n",
      "             Canada               Chile            Colombia      Czech Republic \n",
      "                 19                  10                  12                  20 \n",
      "            Denmark             Ecuador               Egypt             England \n",
      "                 23                   6                   7                  23 \n",
      "            Finland              France             Germany              Greece \n",
      "                 19                  23                  23                  21 \n",
      "            Hungary             Iceland               Italy              Mexico \n",
      "                  8                  13                  22                  10 \n",
      "        Netherlands         New Zealand              Norway            Paraguay \n",
      "                 23                   7                  22                   2 \n",
      "               Peru              Poland            Portugal Republic of Ireland \n",
      "                  7                  21                  15                  21 \n",
      "            Romania              Russia            Scotland            Slovenia \n",
      "                 11                  13                  23                  14 \n",
      "       South Africa               Spain              Sweden         Switzerland \n",
      "                  6                  23                  20                  16 \n",
      "             Turkey       United States             Uruguay           Venezuela \n",
      "                 21                  23                  15                  13 \n",
      "              Wales \n",
      "                 21 \n",
      "\n",
      "                                                 1. FC Koln \n",
      "                           14                             3 \n",
      "               1. FC Nurnberg               1. FSV Mainz 05 \n",
      "                            1                             3 \n",
      "                    Aarhus GF                      Aberdeen \n",
      "                            1                             2 \n",
      "                   AEK Athens                           AIK \n",
      "                            5                             2 \n",
      "                         Ajax                    Alanyaspor \n",
      "                            8                             1 \n",
      "                  Albacete BP     America FC (Minas Gerais) \n",
      "                            1                             1 \n",
      "                    Amiens SC                       Arsenal \n",
      "                            1                             8 \n",
      "                    AS Monaco              AS Saint-Etienne \n",
      "                            5                             1 \n",
      "                  Aston Villa                      Atalanta \n",
      "                            5                             3 \n",
      "      Athletic Club de Bilbao              Atiker Konyaspor \n",
      "                            1                             3 \n",
      "               Atlanta United               Atletico Madrid \n",
      "                            2                            11 \n",
      "             Atletico Mineiro                    AZ Alkmaar \n",
      "                            4                             5 \n",
      "                     Barnsley           Bayer 04 Leverkusen \n",
      "                            1                             7 \n",
      "                  Besiktas JK                    BK HÃ¤cken \n",
      "                            4                             1 \n",
      "                    BK Hacken              Blackburn Rovers \n",
      "                            1                             2 \n",
      "                      Bologna             Borussia Dortmund \n",
      "                            4                             5 \n",
      "     Borussia Monchengladbach                   Bournemouth \n",
      "                            6                             5 \n",
      "                    Brentford        Brighton & Hove Albion \n",
      "                            2                             2 \n",
      "                 Bristol City                    Brondby IF \n",
      "                            2                             1 \n",
      "                      Burnley                     Bursaspor \n",
      "                            6                             1 \n",
      "                     Cadiz CF                      Cagliari \n",
      "                            1                             4 \n",
      "                 Cardiff City                    CD Leganes \n",
      "                            4                             3 \n",
      "                      CD Lugo                        Celtic \n",
      "                            1                            12 \n",
      "          CF Rayo Majadahonda                   Chapecoense \n",
      "                            1                             1 \n",
      "                      Chelsea                  Chicago Fire \n",
      "                           10                             1 \n",
      "               Club Brugge KV               Colorado Rapids \n",
      "                            2                             1 \n",
      "             Columbus Crew SC                       Crotone \n",
      "                            3                             2 \n",
      "                     Cruzeiro                Crystal Palace \n",
      "                            2                             4 \n",
      "                    DC United              Deportivo Alaves \n",
      "                            2                             2 \n",
      "       Deportivo de La Coruna                  Derby County \n",
      "                            1                             4 \n",
      "                    Dijon FCO                 Dinamo Zagreb \n",
      "                            1                             2 \n",
      "                  Dynamo Kyiv           Eintracht Frankfurt \n",
      "                            3                             2 \n",
      "         En Avant de Guingamp                       Everton \n",
      "                            2                             6 \n",
      "                  FC Augsburg                  FC Barcelona \n",
      "                            4                            11 \n",
      "            FC Bayern Munchen                     FC Dallas \n",
      "                           14                             1 \n",
      "     FC Girondins de Bordeaux                  FC Kobenhavn \n",
      "                            1                             4 \n",
      "               FC Midtjylland                     FC Nantes \n",
      "                            4                             2 \n",
      "                FC Schalke 04                  FC St. Pauli \n",
      "                            2                             1 \n",
      "                Fenerbahce SK                     Feyenoord \n",
      "                            7                             2 \n",
      "                   Fiorentina                    Fluminense \n",
      "                            6                             3 \n",
      "           Fortuna Dusseldorf                     Frosinone \n",
      "                            2                             1 \n",
      "                       Fulham                Galatasaray SK \n",
      "                            4                             4 \n",
      "                        Genoa                     Girona FC \n",
      "                            3                             1 \n",
      "                   Goztepe SK                        Gremio \n",
      "                            2                             4 \n",
      "                 Hamburger SV                   Hannover 96 \n",
      "                            2                             3 \n",
      "          Heart of Midlothian                 Hellas Verona \n",
      "                            3                             1 \n",
      "                   Hertha BSC                     Hibernian \n",
      "                            5                             1 \n",
      "                 HJK Helsinki                Houston Dynamo \n",
      "                            1                             1 \n",
      "            Huddersfield Town                     Hull City \n",
      "                            2                             3 \n",
      "               IFK Norrkoping                         Inter \n",
      "                            1                             7 \n",
      "                Internacional                  Ipswich Town \n",
      "                            5                             1 \n",
      "                     Juventus                      KAA Gent \n",
      "                           14                             3 \n",
      "                Kaizer Chiefs                  Kasimpasa SK \n",
      "                            1                             2 \n",
      "                  Kayserispor                      KRC Genk \n",
      "                            1                             3 \n",
      "                  KV Oostende La Berrichonne de Chateauroux \n",
      "                            1                             1 \n",
      "                    LA Galaxy                         Lazio \n",
      "                            3                             2 \n",
      "                 Leeds United                Legia Warszawa \n",
      "                            3                             3 \n",
      "               Leicester City                     Liverpool \n",
      "                            8                             9 \n",
      "             Lokomotiv Moscow                Los Angeles FC \n",
      "                            6                             3 \n",
      "                   LOSC Lille                      Malmo FF \n",
      "                            1                             1 \n",
      "              Manchester City             Manchester United \n",
      "                           10                            11 \n",
      "        Medipol Basaksehir FK                 Middlesbrough \n",
      "                            3                             1 \n",
      "                        Milan                      Millwall \n",
      "                            6                             2 \n",
      "          Minnesota United FC               Montpellier HSC \n",
      "                            3                             1 \n",
      "              Montreal Impact                     NAC Breda \n",
      "                            2                             1 \n",
      "                       Napoli              New York City FC \n",
      "                            6                             1 \n",
      "           New York Red Bulls              Newcastle United \n",
      "                            1                             4 \n",
      "                 Norwich City             Nottingham Forest \n",
      "                            2                             1 \n",
      "              Odense Boldklub                Olympiacos CFP \n",
      "                            1                             6 \n",
      "       Olympique de Marseille            Olympique Lyonnais \n",
      "                            5                             3 \n",
      "                    Orebro SK               Orlando City SC \n",
      "                            1                             3 \n",
      "              Orlando Pirates                       Palermo \n",
      "                            2                             2 \n",
      "             Panathinaikos FC                          PAOK \n",
      "                            1                             6 \n",
      "          Paris Saint-Germain                         Parma \n",
      "                           10                             1 \n",
      "                   PEC Zwolle               PFC CSKA Moscow \n",
      "                            1                             3 \n",
      "           Philadelphia Union                Pogon Szczecin \n",
      "                            1                             2 \n",
      "             Portland Timbers             Preston North End \n",
      "                            2                             2 \n",
      "                          PSV           Queens Park Rangers \n",
      "                           10                             1 \n",
      "                   Rangers FC                Rayo Vallecano \n",
      "                            3                             1 \n",
      "                   RB Leipzig                      RC Celta \n",
      "                            9                             5 \n",
      "         RC Strasbourg Alsace                  RCD Espanyol \n",
      "                            1                             1 \n",
      "                      Reading                    Real Betis \n",
      "                            4                             4 \n",
      "                  Real Madrid                Real Salt Lake \n",
      "                           11                             1 \n",
      "                Real Sociedad        Real Sporting de Gijon \n",
      "                            1                             1 \n",
      "           Real Valladolid CF                      Rizespor \n",
      "                            1                             1 \n",
      "                         Roma                  Rosenborg BK \n",
      "                            7                             3 \n",
      "             Royal Antwerp FC          Royal Excel Mouscron \n",
      "                            1                             1 \n",
      "               RSC Anderlecht                     Sampdoria \n",
      "                            1                             4 \n",
      "         San Jose Earthquakes                        Santos \n",
      "                            1                             2 \n",
      "                     Sassuolo                   SC Freiburg \n",
      "                            1                             2 \n",
      "            Scunthorpe United                     SD Huesca \n",
      "                            1                             2 \n",
      "          Seattle Sounders FC                    Sevilla FC \n",
      "                            4                             5 \n",
      "             Sheffield United           Sheffield Wednesday \n",
      "                            2                             1 \n",
      "              SK Slavia Praha                   SonderjyskE \n",
      "                            7                             1 \n",
      "                  Southampton                          SPAL \n",
      "                            5                             1 \n",
      "                 Sparta Praha                Spartak Moscow \n",
      "                            2                             3 \n",
      "         Sporting Kansas City              Sporting Lokeren \n",
      "                            3                             1 \n",
      "            Stade Brestois 29              Stade Rennais FC \n",
      "                            1                             1 \n",
      "            Standard de Liege                    Stoke City \n",
      "                            3                             5 \n",
      "                SV Sandhausen              SV Werder Bremen \n",
      "                            1                             3 \n",
      "                 Swansea City                        Torino \n",
      "                            4                             3 \n",
      "                   Toronto FC             Tottenham Hotspur \n",
      "                            3                            13 \n",
      "       Toulouse Football Club                   Trabzonspor \n",
      "                            2                             1 \n",
      "          TSG 1899 Hoffenheim                       Udinese \n",
      "                            3                             3 \n",
      "                  Valencia CF        Vancouver Whitecaps FC \n",
      "                            4                             5 \n",
      "                VfB Stuttgart               VfL Bochum 1848 \n",
      "                            3                             1 \n",
      "                VfL Wolfsburg                Viktoria Plzen \n",
      "                            3                             5 \n",
      "                Villarreal CF                       Vitesse \n",
      "                            3                             1 \n",
      "                      Watford          West Bromwich Albion \n",
      "                            3                             4 \n",
      "              West Ham United                Wigan Athletic \n",
      "                            3                             2 \n",
      "                    Willem II           WisWieczysta Krakow \n",
      "                            2                             2 \n",
      "      Wolverhampton Wanderers              Yeni Malatyaspor \n",
      "                            5                             1 \n"
     ]
    }
   ],
   "source": [
    "# Tabela de frequência para Nacionalidade\n",
    "freq_nacionalidade <- table(dados_jogadores$nationality)\n",
    "print(freq_nacionalidade)\n",
    "\n",
    "# Tabela de frequência para clube no qual atua\n",
    "freq_clube <- table(dados_jogadores$club_team)\n",
    "print(freq_clube)"
   ]
  },
  {
   "cell_type": "markdown",
   "metadata": {},
   "source": [
    "Entrega 3: Uma tabela com medidas de posição e variabilidade para ao menos 5 variáveis"
   ]
  },
  {
   "cell_type": "markdown",
   "metadata": {},
   "source": [
    "Foram escolhidas as seguintes variáveis quantitativas para calcular as medidas de posição (média e mediana) e variabilidade (desvio padrão):\n",
    "\n",
    "- Idade (age)\n",
    "- Altura (height_cm)\n",
    "- Peso (weight_kgs)\n",
    "- Salário (wage_euro)\n",
    "- Reflexos como goleiro (GK_reflexes)"
   ]
  },
  {
   "cell_type": "code",
   "execution_count": 6,
   "metadata": {
    "vscode": {
     "languageId": "r"
    }
   },
   "outputs": [
    {
     "name": "stdout",
     "output_type": "stream",
     "text": [
      "  media_idade mediana_idade desvio_idade media_altura mediana_altura\n",
      "1    26.55966            26     3.600516     177.0795            183\n",
      "  desvio_altura media_peso mediana_peso desvio_peso media_salario\n",
      "1      14.30304   77.70455           77    7.310094      49998.58\n",
      "  mediana_salario desvio_salario media_reflexo_goleiro mediana_reflexo_goleiro\n",
      "1           27000       65658.31              18.42614                      11\n",
      "  desvio_reflexo_goleiro\n",
      "1               22.33268\n"
     ]
    }
   ],
   "source": [
    "medidas_descritivas <- dados_jogadores %>%\n",
    "  summarize(\n",
    "    media_idade = mean(age, na.rm = TRUE),\n",
    "    mediana_idade = median(age, na.rm = TRUE),\n",
    "    desvio_idade = sd(age, na.rm = TRUE),\n",
    "    media_altura = mean(height_cm, na.rm = TRUE),\n",
    "    mediana_altura = median(height_cm, na.rm = TRUE),\n",
    "    desvio_altura = sd(height_cm, na.rm = TRUE),\n",
    "    media_peso = mean(weight_kgs, na.rm = TRUE),\n",
    "    mediana_peso = median(weight_kgs, na.rm = TRUE),\n",
    "    desvio_peso = sd(weight_kgs, na.rm = TRUE),\n",
    "    media_salario = mean(wage_euro, na.rm = TRUE),\n",
    "    mediana_salario = median(wage_euro, na.rm = TRUE),\n",
    "    desvio_salario = sd(wage_euro, na.rm = TRUE),\n",
    "    media_reflexo_goleiro = mean(GK_reflexes, na.rm = TRUE),\n",
    "    mediana_reflexo_goleiro = median(GK_reflexes, na.rm = TRUE),\n",
    "    desvio_reflexo_goleiro = sd(GK_reflexes, na.rm = TRUE)\n",
    "  )\n",
    "\n",
    "print(medidas_descritivas)"
   ]
  },
  {
   "cell_type": "markdown",
   "metadata": {},
   "source": [
    "Entrega 4: Visualização de resultados"
   ]
  },
  {
   "cell_type": "markdown",
   "metadata": {},
   "source": [
    "1. Gráfico de barras para Nacionalidade"
   ]
  },
  {
   "cell_type": "code",
   "execution_count": 8,
   "metadata": {
    "vscode": {
     "languageId": "r"
    }
   },
   "outputs": [
    {
     "data": {
      "image/png": "[encoded data removed]",
      "text/plain": [
       "plot without title"
      ]
     },
     "metadata": {
      "image/png": {
       "height": 420,
       "width": 420
      }
     },
     "output_type": "display_data"
    }
   ],
   "source": [
    "ggplot(dados_jogadores, aes(x=nationality)) +\n",
    "  geom_bar() +\n",
    "  theme(axis.text.x = element_text(angle = 90, hjust = 1)) +\n",
    "  labs(title = \"Distribuição de Jogadores por Nacionalidade\")"
   ]
  },
  {
   "cell_type": "markdown",
   "metadata": {},
   "source": [
    "2. Boxspot do valor, em Euros, dos jogadores no mercado"
   ]
  },
  {
   "cell_type": "code",
   "execution_count": 12,
   "metadata": {
    "vscode": {
     "languageId": "r"
    }
   },
   "outputs": [
    {
     "name": "stderr",
     "output_type": "stream",
     "text": [
      "Warning message:\n",
      "\"\u001b[1m\u001b[22mRemoved 14 rows containing non-finite outside the scale range\n",
      "(`stat_boxplot()`).\"\n"
     ]
    },
    {
     "data": {
      "image/png": "[encoded data removed]",
      "text/plain": [
       "plot without title"
      ]
     },
     "metadata": {
      "image/png": {
       "height": 420,
       "width": 420
      }
     },
     "output_type": "display_data"
    }
   ],
   "source": [
    "ggplot(dados_jogadores, aes(y=value_euro)) +\n",
    "  geom_boxplot() +\n",
    "  labs(title = \"Distribuição de Altura por Posição\")"
   ]
  },
  {
   "cell_type": "code",
   "execution_count": null,
   "metadata": {
    "vscode": {
     "languageId": "r"
    }
   },
   "outputs": [
    {
     "data": {
      "image/png": "[encoded data removed]",
      "text/plain": [
       "Plot with title \"Boxplot de Valor em Euros dos Jogadores\""
      ]
     },
     "metadata": {
      "image/png": {
       "height": 420,
       "width": 420
      }
     },
     "output_type": "display_data"
    }
   ],
   "source": []
  },
  {
   "cell_type": "markdown",
   "metadata": {},
   "source": [
    "Entrega 5: Modelo Probabilístico"
   ]
  },
  {
   "cell_type": "code",
   "execution_count": null,
   "metadata": {
    "vscode": {
     "languageId": "r"
    }
   },
   "outputs": [
    {
     "name": "stdout",
     "output_type": "stream",
     "text": [
      "      mean           sd     \n",
      "  26.55965909    3.59795837 \n",
      " ( 0.13560316) ( 0.09588591)\n"
     ]
    },
    {
     "data": {
      "image/png": "[encoded data removed]",
      "text/plain": [
       "plot without title"
      ]
     },
     "metadata": {
      "image/png": {
       "height": 420,
       "width": 420
      }
     },
     "output_type": "display_data"
    },
    {
     "data": {
      "image/png": "[encoded data removed]",
      "text/plain": [
       "plot without title"
      ]
     },
     "metadata": {
      "image/png": {
       "height": 420,
       "width": 420
      }
     },
     "output_type": "display_data"
    }
   ],
   "source": [
    "# Remover valores ausentes ou infinitos na variável 'age'\n",
    "dados_jogadores <- dados_jogadores[is.finite(dados_jogadores$age), ]\n",
    "\n",
    "# Histograma de Idade para verificar a distribuição\n",
    "ggplot(dados_jogadores, aes(x = age)) +\n",
    "  geom_histogram(binwidth = 1, fill = \"skyblue\", color = \"black\") +\n",
    "  labs(title = \"Distribuição de idade dos jogadores\")\n",
    "\n",
    "# Ajuste de uma distribuição normal para Idade\n",
    "idade_params <- fitdistr(dados_jogadores$age, \"normal\")\n",
    "print(idade_params)\n",
    "\n",
    "# Visualizar a curva normal ajustada sobre o histograma\n",
    "ggplot(dados_jogadores, aes(x = age)) +\n",
    "  geom_histogram(aes(y = after_stat(density)), binwidth = 1, fill = \"skyblue\", color = \"black\") +\n",
    "  stat_function(fun = dnorm, args = list(mean = idade_params$estimate[1], sd = idade_params$estimate[2]), color = \"red\") +\n",
    "  labs(title = \"Ajuste da Distribuição Normal à idade dos jogadores\")"
   ]
  }
 ],
 "metadata": {
  "kernelspec": {
   "display_name": "R",
   "language": "R",
   "name": "ir"
  },
  "language_info": {
   "codemirror_mode": "r",
   "file_extension": ".r",
   "mimetype": "text/x-r-source",
   "name": "R",
   "pygments_lexer": "r",
   "version": "4.4.2"
  }
 },
 "nbformat": 4,
 "nbformat_minor": 2
}
