{
 "cells": [
  {
   "cell_type": "markdown",
   "metadata": {},
   "source": [
    "## Projeto estatístico com dados de times nacionais de futebol"
   ]
  },
  {
   "cell_type": "markdown",
   "metadata": {},
   "source": [
    "Este projeto realiza uma análise estatística simples usando R. As etapas incluem:\n",
    "1. Cálculo de probabilidades (condicionais e incondicionais);\n",
    "2. Construção e interpretação de intervalos de confiança;\n",
    "3. Testes de hipóteses (comparando média populacional e média amostral);\n",
    "4. Análise de regressão linear (simples ou múltipla).\n",
    "\n",
    "Os dados foram extraídos de um conjunto de jogadores de seleções nacionais."
   ]
  },
  {
   "cell_type": "markdown",
   "metadata": {},
   "source": [
    "##### 1. Cálculo de probabilidades condicionais e incondicionais"
   ]
  },
  {
   "cell_type": "markdown",
   "metadata": {},
   "source": [
    "Foram selecionadas duas variáveis para calcular probabilidades condicionais e incondicionais:\n",
    "- `nationality`: nacionalidade dos jogadores.\n",
    "- `age`: faixa etária dos jogadores."
   ]
  },
  {
   "cell_type": "markdown",
   "metadata": {},
   "source": [
    "O código a seguir importa os dados e calcula probabilidades simples e condicionais."
   ]
  },
  {
   "cell_type": "code",
   "execution_count": 1,
   "metadata": {
    "vscode": {
     "languageId": "r"
    }
   },
   "outputs": [
    {
     "data": {
      "text/plain": [
       "\n",
       "                              Argentina           Australia             Austria \n",
       "        0.019498607         0.023676880         0.018105850         0.022284123 \n",
       "            Belgium              Brazil            Bulgaria            Cameroon \n",
       "        0.026462396         0.032033426         0.004178273         0.023676880 \n",
       "             Canada               Chile            Colombia      Czech Republic \n",
       "        0.026462396         0.013927577         0.016713092         0.027855153 \n",
       "            Denmark             Ecuador               Egypt             England \n",
       "        0.032033426         0.008356546         0.009749304         0.032033426 \n",
       "            Finland              France             Germany              Greece \n",
       "        0.026462396         0.032033426         0.032033426         0.029247911 \n",
       "            Hungary             Iceland               Italy              Mexico \n",
       "        0.011142061         0.018105850         0.030640669         0.013927577 \n",
       "        Netherlands         New Zealand              Norway            Paraguay \n",
       "        0.032033426         0.009749304         0.030640669         0.002785515 \n",
       "               Peru              Poland            Portugal Republic of Ireland \n",
       "        0.009749304         0.029247911         0.020891365         0.029247911 \n",
       "            Romania              Russia            Scotland            Slovenia \n",
       "        0.015320334         0.018105850         0.032033426         0.019498607 \n",
       "       South Africa               Spain              Sweden         Switzerland \n",
       "        0.008356546         0.032033426         0.027855153         0.022284123 \n",
       "             Turkey       United States             Uruguay           Venezuela \n",
       "        0.029247911         0.032033426         0.020891365         0.018105850 \n",
       "              Wales \n",
       "        0.029247911 "
      ]
     },
     "metadata": {},
     "output_type": "display_data"
    },
    {
     "data": {
      "text/plain": [
       "\n",
       "     15-19      20-24      25-29      30-34      35-39 \n",
       "0.01278409 0.29971591 0.46875000 0.20312500 0.01562500 "
      ]
     },
     "metadata": {},
     "output_type": "display_data"
    },
    {
     "data": {
      "text/plain": [
       "\n",
       "    15-19     20-24     25-29     30-34     35-39 \n",
       "0.0000000 0.0000000 0.3478261 0.4347826 0.2173913 "
      ]
     },
     "metadata": {},
     "output_type": "display_data"
    }
   ],
   "source": [
    "# Carregando os dados\n",
    "dados <- read.csv(\"../data/Anexo_Projeto_fifa_world_national_teams_versao_oficial_20241virgula.csv\", sep=\",\", stringsAsFactors = FALSE)\n",
    "\n",
    "# Criando faixas etárias\n",
    "dados$faixa_etaria <- cut(dados$age, breaks=c(15, 20, 25, 30, 35, 40), right=FALSE, \n",
    "                          labels=c(\"15-19\", \"20-24\", \"25-29\", \"30-34\", \"35-39\"))\n",
    "\n",
    "# Calculando probabilidades incondicionais\n",
    "prop_nacionalidades <- prop.table(table(dados$nationality))\n",
    "prop_faixas_etarias <- prop.table(table(dados$faixa_etaria))\n",
    "\n",
    "# Probabilidades condicionais\n",
    "brasileiros <- subset(dados, nationality == \"Brazil\")\n",
    "prop_faixa_brasileiros <- prop.table(table(brasileiros$faixa_etaria))\n",
    "\n",
    "# Exibindo resultados\n",
    "prop_nacionalidades\n",
    "prop_faixas_etarias\n",
    "prop_faixa_brasileiros\n"
   ]
  },
  {
   "cell_type": "markdown",
   "metadata": {},
   "source": [
    "##### 2. Intervalos de confiança e sua interpretação para pelo menos duas variáveis selecionadas"
   ]
  },
  {
   "cell_type": "markdown",
   "metadata": {},
   "source": [
    "Para calcular intervalos de confiança e interpretá-los, serão selecionadas as seguintes variáveis:\n",
    "\n",
    "- overall_rating: avaliação geral dos jogadores.\n",
    "- wage_euro: salário em euros."
   ]
  },
  {
   "cell_type": "code",
   "execution_count": 2,
   "metadata": {
    "vscode": {
     "languageId": "r"
    }
   },
   "outputs": [
    {
     "name": "stderr",
     "output_type": "stream",
     "text": [
      "Carregando pacotes exigidos: dplyr\n",
      "\n",
      "\n",
      "Anexando pacote: 'dplyr'\n",
      "\n",
      "\n",
      "Os seguintes objetos são mascarados por 'package:stats':\n",
      "\n",
      "    filter, lag\n",
      "\n",
      "\n",
      "Os seguintes objetos são mascarados por 'package:base':\n",
      "\n",
      "    intersect, setdiff, setequal, union\n",
      "\n",
      "\n",
      "Carregando pacotes exigidos: DescTools\n",
      "\n",
      "Warning message in library(package, lib.loc = lib.loc, character.only = TRUE, logical.return = TRUE, :\n",
      "\"não há nenhum pacote chamado 'DescTools'\"\n",
      "Instalando pacote em 'C:/Users/Marcel Albuquerque/AppData/Local/R/win-library/4.4'\n",
      "(como 'lib' não foi especificado)\n",
      "\n",
      "instalando as dependências 'proxy', 'rootSolve', 'e1071', 'lmom', 'mvtnorm', 'expm', 'Exact', 'gld' também\n",
      "\n",
      "\n"
     ]
    },
    {
     "name": "stdout",
     "output_type": "stream",
     "text": [
      "pacote 'proxy' desempacotado com sucesso e somas MD5 verificadas\n",
      "pacote 'rootSolve' desempacotado com sucesso e somas MD5 verificadas\n",
      "pacote 'e1071' desempacotado com sucesso e somas MD5 verificadas\n",
      "pacote 'lmom' desempacotado com sucesso e somas MD5 verificadas\n",
      "pacote 'mvtnorm' desempacotado com sucesso e somas MD5 verificadas\n",
      "pacote 'expm' desempacotado com sucesso e somas MD5 verificadas\n",
      "pacote 'Exact' desempacotado com sucesso e somas MD5 verificadas\n",
      "pacote 'gld' desempacotado com sucesso e somas MD5 verificadas\n",
      "pacote 'DescTools' desempacotado com sucesso e somas MD5 verificadas\n",
      "\n",
      "Os pacotes binários baixados estão em\n",
      "\tC:\\Windows\\Temp\\Rtmpgp4UAl\\downloaded_packages\n"
     ]
    }
   ],
   "source": [
    "# Carregando o pacote necessário\n",
    "if (!require(\"dplyr\")) install.packages(\"dplyr\")\n",
    "if (!require(\"DescTools\")) install.packages(\"DescTools\")\n",
    "\n",
    "library(dplyr)\n",
    "library(DescTools)"
   ]
  },
  {
   "cell_type": "code",
   "execution_count": 3,
   "metadata": {
    "vscode": {
     "languageId": "r"
    }
   },
   "outputs": [
    {
     "name": "stdout",
     "output_type": "stream",
     "text": [
      "[1] \"Intervalo de confiança para overall_rating (95%):\"\n",
      "    mean   lwr.ci   upr.ci \n",
      "76.50426 76.05738 76.95114 \n",
      "[1] \"Intervalo de confiança para wage_euro (95%):\"\n",
      "    mean   lwr.ci   upr.ci \n",
      "49998.58 45140.11 54857.05 \n"
     ]
    }
   ],
   "source": [
    "# Removendo valores NA\n",
    "dados <- na.omit(dados)\n",
    "\n",
    "# Selecionando as variáveis\n",
    "overall_rating <- dados$overall_rating\n",
    "wage_euro <- dados$wage_euro\n",
    "\n",
    "# Intervalo de confiança para overall_rating (95%)\n",
    "ic_overall <- MeanCI(overall_rating, conf.level = 0.95)\n",
    "print(\"Intervalo de confiança para overall_rating (95%):\")\n",
    "print(ic_overall)\n",
    "\n",
    "# Intervalo de confiança para wage_euro (95%)\n",
    "ic_wage <- MeanCI(wage_euro, conf.level = 0.95)\n",
    "print(\"Intervalo de confiança para wage_euro (95%):\")\n",
    "print(ic_wage)"
   ]
  },
  {
   "cell_type": "markdown",
   "metadata": {},
   "source": [
    "Resultados e Interpretação\n",
    "> Para overall_rating\n",
    "\n",
    "    Média amostral: 76,50\n",
    "    Intervalo de confiança (95%): [76,06; 76,95]\n",
    ">\n",
    "> Temos 95% de confiança de que a média da avaliação geral dos jogadores na população está entre 76,06 e 76,95. Isso sugere que, de forma consistente, a qualidade média dos jogadores é bastante alta.\n",
    "\n",
    "> Para wage_euro (salário em euros):\n",
    "\n",
    "    Média amostral: 49.998,58 euros\n",
    "    Intervalo de confiança (95%): [45.140,11; 54.857,05]\n",
    "\n",
    "> Com 95% de confiança, pode-se dizer que o salário médio populacional dos jogadores está entre 45.140,11 e 54.857,05 euros. Isso demonstra que os jogadores das seleções nacionais tendem a ter salários expressivos no cenário global."
   ]
  },
  {
   "cell_type": "markdown",
   "metadata": {},
   "source": [
    "##### 3. Testes de hipóteses e interpretação para pelo menos duas variáveis selecionadas. As hipóteses devem avaliar se a média populacional da referida variável pode ser considerada igual à média amostral arredondada para o inteiro. "
   ]
  },
  {
   "cell_type": "markdown",
   "metadata": {},
   "source": [
    "Para realizar testes de hipóteses, serão selecionadas as mesmas variáveis do passo anterior: overall_rating e wage_euro. "
   ]
  },
  {
   "cell_type": "code",
   "execution_count": 4,
   "metadata": {
    "vscode": {
     "languageId": "r"
    }
   },
   "outputs": [
    {
     "name": "stdout",
     "output_type": "stream",
     "text": [
      "[1] \"Teste de hipótese para overall_rating:\"\n",
      "\n",
      "\tOne Sample t-test\n",
      "\n",
      "data:  overall_rating\n",
      "t = -2.178, df = 703, p-value = 0.02974\n",
      "alternative hypothesis: true mean is not equal to 77\n",
      "95 percent confidence interval:\n",
      " 76.05738 76.95114\n",
      "sample estimates:\n",
      "mean of x \n",
      " 76.50426 \n",
      "\n",
      "[1] \"Teste de hipótese para wage_euro:\"\n",
      "\n",
      "\tOne Sample t-test\n",
      "\n",
      "data:  wage_euro\n",
      "t = -0.00016991, df = 703, p-value = 0.9999\n",
      "alternative hypothesis: true mean is not equal to 49999\n",
      "95 percent confidence interval:\n",
      " 45140.11 54857.05\n",
      "sample estimates:\n",
      "mean of x \n",
      " 49998.58 \n",
      "\n"
     ]
    }
   ],
   "source": [
    "# Removendo valores NA\n",
    "dados <- na.omit(dados)\n",
    "\n",
    "# Selecionando as variáveis\n",
    "overall_rating <- dados$overall_rating\n",
    "wage_euro <- dados$wage_euro\n",
    "\n",
    "# Hipótese 1: Teste para overall_rating\n",
    "media_overall_arredondada <- round(mean(overall_rating))\n",
    "teste_overall <- t.test(overall_rating, mu = media_overall_arredondada, conf.level = 0.95)\n",
    "\n",
    "print(\"Teste de hipótese para overall_rating:\")\n",
    "print(teste_overall)\n",
    "\n",
    "# Hipótese 2: Teste para wage_euro\n",
    "media_wage_arredondada <- round(mean(wage_euro))\n",
    "teste_wage <- t.test(wage_euro, mu = media_wage_arredondada, conf.level = 0.95)\n",
    "\n",
    "print(\"Teste de hipótese para wage_euro:\")\n",
    "print(teste_wage)"
   ]
  },
  {
   "cell_type": "markdown",
   "metadata": {},
   "source": [
    "Resultados e Interpretação:\n",
    "> 1. Teste para overall_rating\n",
    "Hipóteses:\n",
    "\n",
    "    H0H0​: A média populacional (μμ) é igual a 77.\n",
    "    H1H1​: A média populacional (μμ) é diferente de 77.\n",
    "\n",
    "Resultados:\n",
    "\n",
    "    t=−2.178t=−2.178\n",
    "    p-valor = 0.02974\n",
    "    Intervalo de confiança de 95%: [76.06; 76.95]\n",
    "    Média amostral: 76.50\n",
    "\n",
    "> Há uma diferença significativa entre a média populacional e a média amostral arredondada.\n",
    "\n",
    "> 2. Teste para wage_euro\n",
    "Hipóteses:\n",
    "\n",
    "    H0H0​: A média populacional (μμ) é igual a 49.999 euros.\n",
    "    H1H1​: A média populacional (μμ) é diferente de 49.999 euros.\n",
    "\n",
    "Resultados:\n",
    "\n",
    "    t=−0.00016991t=−0.00016991\n",
    "    p-valor = 0.9999\n",
    "    Intervalo de confiança de 95%: [45.140,11; 54.857,05]\n",
    "    Média amostral: 49.998,58 euros\n",
    "\n",
    "> Não há evidências para rejeitar que a média populacional seja igual à média amostral arredondada."
   ]
  },
  {
   "cell_type": "markdown",
   "metadata": {},
   "source": []
  }
 ],
 "metadata": {
  "kernelspec": {
   "display_name": "R",
   "language": "R",
   "name": "ir"
  },
  "language_info": {
   "codemirror_mode": "r",
   "file_extension": ".r",
   "mimetype": "text/x-r-source",
   "name": "R",
   "pygments_lexer": "r",
   "version": "4.4.2"
  }
 },
 "nbformat": 4,
 "nbformat_minor": 2
}
